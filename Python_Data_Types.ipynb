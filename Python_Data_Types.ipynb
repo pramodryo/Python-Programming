{
 "cells": [
  {
   "cell_type": "markdown",
   "id": "694a523b",
   "metadata": {},
   "source": [
    "# <font color = blue> List of Data Types"
   ]
  },
  {
   "cell_type": "markdown",
   "id": "5e123951",
   "metadata": {},
   "source": [
    "Integer, Float, Complex, List, String, Tuple, Set, Dictionary, Boolean.. etc"
   ]
  },
  {
   "cell_type": "markdown",
   "id": "7aff736e",
   "metadata": {},
   "source": [
    "# <font color = red>List"
   ]
  },
  {
   "cell_type": "code",
   "execution_count": 1,
   "id": "618af3a2",
   "metadata": {},
   "outputs": [],
   "source": [
    "a=[]  # Empty list"
   ]
  },
  {
   "cell_type": "code",
   "execution_count": 2,
   "id": "36393e20",
   "metadata": {},
   "outputs": [
    {
     "data": {
      "text/plain": [
       "[]"
      ]
     },
     "execution_count": 2,
     "metadata": {},
     "output_type": "execute_result"
    }
   ],
   "source": [
    "a"
   ]
  },
  {
   "cell_type": "code",
   "execution_count": 3,
   "id": "a67dba32",
   "metadata": {},
   "outputs": [
    {
     "data": {
      "text/plain": [
       "list"
      ]
     },
     "execution_count": 3,
     "metadata": {},
     "output_type": "execute_result"
    }
   ],
   "source": [
    "type(a)"
   ]
  },
  {
   "cell_type": "code",
   "execution_count": 4,
   "id": "4b256f83",
   "metadata": {},
   "outputs": [],
   "source": [
    "a = [\"pramod\",\"Trishaan\",\"kumar\"]"
   ]
  },
  {
   "cell_type": "code",
   "execution_count": 5,
   "id": "9e7fe805",
   "metadata": {},
   "outputs": [
    {
     "data": {
      "text/plain": [
       "['pramod', 'Trishaan', 'kumar']"
      ]
     },
     "execution_count": 5,
     "metadata": {},
     "output_type": "execute_result"
    }
   ],
   "source": [
    "a"
   ]
  },
  {
   "cell_type": "code",
   "execution_count": 6,
   "id": "8b943c0f",
   "metadata": {},
   "outputs": [],
   "source": [
    "list1 =[\"pramod\",\"Trishaan\",\"kumar\",\"pramod\"]"
   ]
  },
  {
   "cell_type": "code",
   "execution_count": 7,
   "id": "a2aa5d42",
   "metadata": {},
   "outputs": [
    {
     "data": {
      "text/plain": [
       "['pramod', 'Trishaan', 'kumar', 'pramod']"
      ]
     },
     "execution_count": 7,
     "metadata": {},
     "output_type": "execute_result"
    }
   ],
   "source": [
    "list1"
   ]
  },
  {
   "cell_type": "markdown",
   "id": "172fbc17",
   "metadata": {},
   "source": [
    "# List Configuration\n",
    "\n",
    "1. lists are defined using [ ] brackets\n",
    "2. lists are ordered (thet means items have a defined order, and that order will not change.)\n",
    "3. lists are mutable(changes in elements are posible), you can add, remove and reorderd list columns.\n",
    "4. lists can allow duplicates.\n"
   ]
  },
  {
   "cell_type": "code",
   "execution_count": 8,
   "id": "8b494232",
   "metadata": {},
   "outputs": [],
   "source": [
    "a = list()     # empty list"
   ]
  },
  {
   "cell_type": "code",
   "execution_count": 9,
   "id": "560bb73d",
   "metadata": {},
   "outputs": [
    {
     "data": {
      "text/plain": [
       "list"
      ]
     },
     "execution_count": 9,
     "metadata": {},
     "output_type": "execute_result"
    }
   ],
   "source": [
    "type(a)"
   ]
  },
  {
   "cell_type": "code",
   "execution_count": 10,
   "id": "043a3771",
   "metadata": {},
   "outputs": [
    {
     "data": {
      "text/plain": [
       "[]"
      ]
     },
     "execution_count": 10,
     "metadata": {},
     "output_type": "execute_result"
    }
   ],
   "source": [
    "a"
   ]
  },
  {
   "cell_type": "code",
   "execution_count": 11,
   "id": "5b66da63",
   "metadata": {},
   "outputs": [
    {
     "name": "stdout",
     "output_type": "stream",
     "text": [
      "[10, 20, 30, 40, 50, 80]\n",
      "<class 'list'>\n"
     ]
    }
   ],
   "source": [
    "# list of all integer values\n",
    "list2 = [10,20,30,40,50,80]\n",
    "print(list2)\n",
    "print(type(list2))"
   ]
  },
  {
   "cell_type": "code",
   "execution_count": 12,
   "id": "ba1d70d4",
   "metadata": {},
   "outputs": [
    {
     "name": "stdout",
     "output_type": "stream",
     "text": [
      "[4.5, 6.2, 6.3, 1.2, 2.9, 9.1, 10.2]\n",
      "<class 'list'>\n"
     ]
    }
   ],
   "source": [
    "#list of all float values\n",
    "list3 = [4.5,6.2,6.3,1.2,2.9,9.1,10.2]\n",
    "print(list3)\n",
    "print(type(list3))"
   ]
  },
  {
   "cell_type": "code",
   "execution_count": 13,
   "id": "b1b460e9",
   "metadata": {},
   "outputs": [
    {
     "name": "stdout",
     "output_type": "stream",
     "text": [
      "[True, False, False, False, True]\n",
      "<class 'list'>\n"
     ]
    }
   ],
   "source": [
    "# list of all boolean values\n",
    "list4 = [True,False,False,False,True]\n",
    "print(list4)\n",
    "print(type(list4))"
   ]
  },
  {
   "cell_type": "code",
   "execution_count": 14,
   "id": "7502a7b8",
   "metadata": {},
   "outputs": [
    {
     "name": "stdout",
     "output_type": "stream",
     "text": [
      "['pramod', 45, 5.6, 0, 56.89, True]\n",
      "<class 'list'>\n"
     ]
    }
   ],
   "source": [
    "# list of all mixed data\n",
    "list5= [\"pramod\",45,5.6,0,56.89,True,]\n",
    "print(list5)\n",
    "print(type(list5))"
   ]
  },
  {
   "cell_type": "code",
   "execution_count": 15,
   "id": "afe9fa72",
   "metadata": {},
   "outputs": [
    {
     "data": {
      "text/plain": [
       "'pramod'"
      ]
     },
     "execution_count": 15,
     "metadata": {},
     "output_type": "execute_result"
    }
   ],
   "source": [
    "# indexing -> [start_index:stop_index:step]\n",
    "list5[0]"
   ]
  },
  {
   "cell_type": "code",
   "execution_count": 16,
   "id": "47e40800",
   "metadata": {},
   "outputs": [
    {
     "data": {
      "text/plain": [
       "5.6"
      ]
     },
     "execution_count": 16,
     "metadata": {},
     "output_type": "execute_result"
    }
   ],
   "source": [
    "list5[2]"
   ]
  },
  {
   "cell_type": "code",
   "execution_count": 17,
   "id": "882ba5c1",
   "metadata": {},
   "outputs": [
    {
     "data": {
      "text/plain": [
       "['pramod', 45, 5.6, 0, 56.89, True]"
      ]
     },
     "execution_count": 17,
     "metadata": {},
     "output_type": "execute_result"
    }
   ],
   "source": [
    "list5"
   ]
  },
  {
   "cell_type": "code",
   "execution_count": 18,
   "id": "3028b7f8",
   "metadata": {},
   "outputs": [
    {
     "data": {
      "text/plain": [
       "['pramod', 45, 5.6]"
      ]
     },
     "execution_count": 18,
     "metadata": {},
     "output_type": "execute_result"
    }
   ],
   "source": [
    "# lets extract first three elements\n",
    "list5[0:3]"
   ]
  },
  {
   "cell_type": "code",
   "execution_count": 19,
   "id": "22840463",
   "metadata": {},
   "outputs": [
    {
     "data": {
      "text/plain": [
       "[True, 56.89, 0, 5.6, 45, 'pramod']"
      ]
     },
     "execution_count": 19,
     "metadata": {},
     "output_type": "execute_result"
    }
   ],
   "source": [
    "# Reversed list\n",
    "list5[::-1]"
   ]
  },
  {
   "cell_type": "code",
   "execution_count": 20,
   "id": "d03762e7",
   "metadata": {},
   "outputs": [
    {
     "data": {
      "text/plain": [
       "['pramod', 45, 5.6, 0, 56.89, True]"
      ]
     },
     "execution_count": 20,
     "metadata": {},
     "output_type": "execute_result"
    }
   ],
   "source": [
    "list5"
   ]
  },
  {
   "cell_type": "code",
   "execution_count": 21,
   "id": "b6e91261",
   "metadata": {},
   "outputs": [
    {
     "data": {
      "text/plain": [
       "[True, 56.89, 0]"
      ]
     },
     "execution_count": 21,
     "metadata": {},
     "output_type": "execute_result"
    }
   ],
   "source": [
    "list5[-1:-4:-1]"
   ]
  },
  {
   "cell_type": "markdown",
   "id": "4a827860",
   "metadata": {},
   "source": [
    "# List Function\n",
    "\n",
    "**len()** = Return the number of elements in the list\n",
    "\n",
    "**max()** = return the maximum value from the list\n",
    "\n",
    "**min()** = Return the minimum value from the list\n",
    "\n",
    "**sum()** = Retun the sum of all elements"
   ]
  },
  {
   "cell_type": "code",
   "execution_count": 22,
   "id": "d622427f",
   "metadata": {},
   "outputs": [
    {
     "data": {
      "text/plain": [
       "['pramod', 45, 5.6, 0, 56.89, True]"
      ]
     },
     "execution_count": 22,
     "metadata": {},
     "output_type": "execute_result"
    }
   ],
   "source": [
    "# let us count number of elements in the list\n",
    "list5"
   ]
  },
  {
   "cell_type": "code",
   "execution_count": 23,
   "id": "424c7f23",
   "metadata": {},
   "outputs": [
    {
     "data": {
      "text/plain": [
       "6"
      ]
     },
     "execution_count": 23,
     "metadata": {},
     "output_type": "execute_result"
    }
   ],
   "source": [
    "len(list5)"
   ]
  },
  {
   "cell_type": "code",
   "execution_count": 24,
   "id": "71d2cb88",
   "metadata": {},
   "outputs": [
    {
     "data": {
      "text/plain": [
       "[10, 20, 30, 40, 50, 80]"
      ]
     },
     "execution_count": 24,
     "metadata": {},
     "output_type": "execute_result"
    }
   ],
   "source": [
    "list2"
   ]
  },
  {
   "cell_type": "code",
   "execution_count": 25,
   "id": "a23c28d3",
   "metadata": {},
   "outputs": [
    {
     "data": {
      "text/plain": [
       "80"
      ]
     },
     "execution_count": 25,
     "metadata": {},
     "output_type": "execute_result"
    }
   ],
   "source": [
    "max(list2)"
   ]
  },
  {
   "cell_type": "code",
   "execution_count": 26,
   "id": "44527742",
   "metadata": {},
   "outputs": [
    {
     "data": {
      "text/plain": [
       "10"
      ]
     },
     "execution_count": 26,
     "metadata": {},
     "output_type": "execute_result"
    }
   ],
   "source": [
    "min(list2)"
   ]
  },
  {
   "cell_type": "code",
   "execution_count": 27,
   "id": "de87fc12",
   "metadata": {},
   "outputs": [
    {
     "data": {
      "text/plain": [
       "230"
      ]
     },
     "execution_count": 27,
     "metadata": {},
     "output_type": "execute_result"
    }
   ],
   "source": [
    "sum(list2)"
   ]
  },
  {
   "cell_type": "markdown",
   "id": "914c202a",
   "metadata": {},
   "source": [
    "# List operator\n",
    "\n",
    "**(+) operator =** The concatenation operator is used to join two list\n",
    "\n",
    "**(\" * \") operator =** The multiplication operator is used to replicate the elements as a list\n",
    "\n",
    "**(in) =** The in operator is used to determine whether an elements is in a list, it return true if elements is present list else it return false\n",
    "\n",
    "**(is) =** Check if two variable refer to the same object\n",
    "\n",
    "**(del) =**  The del operator stands for delete. The del operator is used to remove elements from a list. to delet the elements of a list, the elements of the list are accessed using their index position and the del operator is placed before them"
   ]
  },
  {
   "cell_type": "code",
   "execution_count": 28,
   "id": "58a4d8bd",
   "metadata": {},
   "outputs": [],
   "source": [
    "l1 = [1,2,3]\n",
    "l2 = [4,5,6]\n",
    "l3 = [1,2,3]"
   ]
  },
  {
   "cell_type": "code",
   "execution_count": 29,
   "id": "97281fae",
   "metadata": {},
   "outputs": [
    {
     "data": {
      "text/plain": [
       "[1, 2, 3, 4, 5, 6, 1, 2, 3]"
      ]
     },
     "execution_count": 29,
     "metadata": {},
     "output_type": "execute_result"
    }
   ],
   "source": [
    "l1 + l2 + l3"
   ]
  },
  {
   "cell_type": "code",
   "execution_count": 30,
   "id": "306a6642",
   "metadata": {},
   "outputs": [
    {
     "name": "stdout",
     "output_type": "stream",
     "text": [
      "[1, 2, 3, 1, 2, 3]\n",
      "[4, 5, 6, 4, 5, 6, 4, 5, 6]\n"
     ]
    }
   ],
   "source": [
    "print(l1*2)\n",
    "print(l2*3)"
   ]
  },
  {
   "cell_type": "code",
   "execution_count": 31,
   "id": "9536cce9",
   "metadata": {},
   "outputs": [
    {
     "data": {
      "text/plain": [
       "['pramod', 45, 5.6, 0, 56.89, True]"
      ]
     },
     "execution_count": 31,
     "metadata": {},
     "output_type": "execute_result"
    }
   ],
   "source": [
    "list5"
   ]
  },
  {
   "cell_type": "code",
   "execution_count": 32,
   "id": "3f21ba81",
   "metadata": {},
   "outputs": [
    {
     "data": {
      "text/plain": [
       "True"
      ]
     },
     "execution_count": 32,
     "metadata": {},
     "output_type": "execute_result"
    }
   ],
   "source": [
    "\"pramod\" in list5"
   ]
  },
  {
   "cell_type": "code",
   "execution_count": 33,
   "id": "35200709",
   "metadata": {},
   "outputs": [
    {
     "data": {
      "text/plain": [
       "False"
      ]
     },
     "execution_count": 33,
     "metadata": {},
     "output_type": "execute_result"
    }
   ],
   "source": [
    "\"rathod\" in list5"
   ]
  },
  {
   "cell_type": "code",
   "execution_count": 34,
   "id": "06a4c39a",
   "metadata": {},
   "outputs": [],
   "source": [
    "s1 = \"python\"\n",
    "s2 = \"python\""
   ]
  },
  {
   "cell_type": "code",
   "execution_count": 35,
   "id": "87136d31",
   "metadata": {},
   "outputs": [
    {
     "data": {
      "text/plain": [
       "True"
      ]
     },
     "execution_count": 35,
     "metadata": {},
     "output_type": "execute_result"
    }
   ],
   "source": [
    "s1 is s2"
   ]
  },
  {
   "cell_type": "code",
   "execution_count": 36,
   "id": "404b7029",
   "metadata": {},
   "outputs": [],
   "source": [
    "A = [\"A\",\"B\",\"C\"]\n",
    "B = [\"A\",\"B\",\"C\"]"
   ]
  },
  {
   "cell_type": "code",
   "execution_count": 37,
   "id": "4a65c26d",
   "metadata": {},
   "outputs": [
    {
     "data": {
      "text/plain": [
       "False"
      ]
     },
     "execution_count": 37,
     "metadata": {},
     "output_type": "execute_result"
    }
   ],
   "source": [
    "A is B"
   ]
  },
  {
   "cell_type": "markdown",
   "id": "b4825c06",
   "metadata": {},
   "source": [
    "**NOTE**: It is impoertant to note that in the above example, we can say that the two list are equivalent because they have the same elements. we cannot say that both the list are identical because they dont refer to the same object. **list creates differant object**"
   ]
  },
  {
   "cell_type": "code",
   "execution_count": 38,
   "id": "9e6b44b3",
   "metadata": {},
   "outputs": [
    {
     "data": {
      "text/plain": [
       "[10, 20, 40, 50, 60, 70, 80, 90]"
      ]
     },
     "execution_count": 38,
     "metadata": {},
     "output_type": "execute_result"
    }
   ],
   "source": [
    "lst =[10,20,30,40,50,60,70,80,90]\n",
    "del lst[2]\n",
    "lst"
   ]
  },
  {
   "cell_type": "code",
   "execution_count": 39,
   "id": "8fb96086",
   "metadata": {},
   "outputs": [
    {
     "data": {
      "text/plain": [
       "[10, 20, 30, 40, 50, 60, 80, 90]"
      ]
     },
     "execution_count": 39,
     "metadata": {},
     "output_type": "execute_result"
    }
   ],
   "source": [
    "lst =[10,20,30,40,50,60,70,80,90]\n",
    "del lst[6]\n",
    "lst"
   ]
  },
  {
   "cell_type": "code",
   "execution_count": 40,
   "id": "11f20efa",
   "metadata": {},
   "outputs": [
    {
     "data": {
      "text/plain": [
       "[10, 20, 70, 80, 90]"
      ]
     },
     "execution_count": 40,
     "metadata": {},
     "output_type": "execute_result"
    }
   ],
   "source": [
    "lst =[10,20,30,40,50,60,70,80,90]\n",
    "del lst[2:6]\n",
    "lst"
   ]
  },
  {
   "cell_type": "code",
   "execution_count": 41,
   "id": "f8741017",
   "metadata": {},
   "outputs": [
    {
     "data": {
      "text/plain": [
       "[]"
      ]
     },
     "execution_count": 41,
     "metadata": {},
     "output_type": "execute_result"
    }
   ],
   "source": [
    "lst =[10,20,30,40,50,60,70,80,90]\n",
    "del lst[:]\n",
    "lst\n",
    "# Remove all elements"
   ]
  },
  {
   "cell_type": "code",
   "execution_count": 42,
   "id": "5e5791a1",
   "metadata": {},
   "outputs": [],
   "source": [
    "lst =[10,20,30,40,50,60,70,80,90]\n",
    "del lst\n",
    "\n",
    "# delet the list"
   ]
  },
  {
   "cell_type": "code",
   "execution_count": null,
   "id": "1a90a645",
   "metadata": {},
   "outputs": [],
   "source": []
  },
  {
   "cell_type": "markdown",
   "id": "9a3cb0f4",
   "metadata": {},
   "source": [
    "# List keywords\n",
    "\n",
    "append() = \n",
    "\n",
    "insert() =\n",
    "\n",
    "extend() =\n",
    "\n",
    "**remove() =** It will take the element as argument which you want to remove.\n",
    "\n",
    "**pop() =** It will take the index number and remove the ele at that index and it will return the element at that index\n",
    "\n",
    "\n",
    "**<font color= red>Note points:-** \n",
    "    \n",
    "1. append VS extend\n",
    "2. append Vs insert\n",
    "3. Remove VS pop\n",
    "    "
   ]
  },
  {
   "cell_type": "code",
   "execution_count": 43,
   "id": "55fefe97",
   "metadata": {},
   "outputs": [
    {
     "name": "stdout",
     "output_type": "stream",
     "text": [
      "list2 = [10, 20, 30, 40, 50, 80]\n",
      "list3 = [4.5, 6.2, 6.3, 1.2, 2.9, 9.1, 10.2]\n"
     ]
    }
   ],
   "source": [
    "print(f\"list2 = {list2}\")\n",
    "print(f\"list3 = {list3}\")"
   ]
  },
  {
   "cell_type": "code",
   "execution_count": 44,
   "id": "54a37294",
   "metadata": {},
   "outputs": [],
   "source": [
    "list2.append(list3)"
   ]
  },
  {
   "cell_type": "code",
   "execution_count": 45,
   "id": "de09d143",
   "metadata": {},
   "outputs": [
    {
     "data": {
      "text/plain": [
       "[10, 20, 30, 40, 50, 80, [4.5, 6.2, 6.3, 1.2, 2.9, 9.1, 10.2]]"
      ]
     },
     "execution_count": 45,
     "metadata": {},
     "output_type": "execute_result"
    }
   ],
   "source": [
    "list2"
   ]
  },
  {
   "cell_type": "code",
   "execution_count": 46,
   "id": "887d4198",
   "metadata": {},
   "outputs": [
    {
     "data": {
      "text/plain": [
       "7"
      ]
     },
     "execution_count": 46,
     "metadata": {},
     "output_type": "execute_result"
    }
   ],
   "source": [
    "len(list2)"
   ]
  },
  {
   "cell_type": "code",
   "execution_count": 47,
   "id": "6e40288f",
   "metadata": {},
   "outputs": [
    {
     "data": {
      "text/plain": [
       "20"
      ]
     },
     "execution_count": 47,
     "metadata": {},
     "output_type": "execute_result"
    }
   ],
   "source": [
    "list2[1]"
   ]
  },
  {
   "cell_type": "code",
   "execution_count": 48,
   "id": "fa2700fb",
   "metadata": {},
   "outputs": [
    {
     "data": {
      "text/plain": [
       "80"
      ]
     },
     "execution_count": 48,
     "metadata": {},
     "output_type": "execute_result"
    }
   ],
   "source": [
    "list2[5]"
   ]
  },
  {
   "cell_type": "code",
   "execution_count": 49,
   "id": "f5d1ce70",
   "metadata": {},
   "outputs": [
    {
     "data": {
      "text/plain": [
       "[4.5, 6.2, 6.3, 1.2, 2.9, 9.1, 10.2]"
      ]
     },
     "execution_count": 49,
     "metadata": {},
     "output_type": "execute_result"
    }
   ],
   "source": [
    "list2[6]"
   ]
  },
  {
   "cell_type": "code",
   "execution_count": 50,
   "id": "88ed8b0e",
   "metadata": {},
   "outputs": [
    {
     "data": {
      "text/plain": [
       "6.3"
      ]
     },
     "execution_count": 50,
     "metadata": {},
     "output_type": "execute_result"
    }
   ],
   "source": [
    "list2[6][2]"
   ]
  },
  {
   "cell_type": "code",
   "execution_count": 51,
   "id": "20d9d420",
   "metadata": {},
   "outputs": [
    {
     "data": {
      "text/plain": [
       "[4.5, 6.2, 6.3, 1.2, 2.9, 9.1, 10.2]"
      ]
     },
     "execution_count": 51,
     "metadata": {},
     "output_type": "execute_result"
    }
   ],
   "source": [
    "list2.pop()"
   ]
  },
  {
   "cell_type": "code",
   "execution_count": 52,
   "id": "cc4147d4",
   "metadata": {},
   "outputs": [
    {
     "data": {
      "text/plain": [
       "[10, 20, 30, 40, 50, 80]"
      ]
     },
     "execution_count": 52,
     "metadata": {},
     "output_type": "execute_result"
    }
   ],
   "source": [
    "list2"
   ]
  },
  {
   "cell_type": "code",
   "execution_count": 53,
   "id": "f8ba2fd8",
   "metadata": {},
   "outputs": [],
   "source": [
    "lit2 = [10, 20, 30, 40, 50, 80]"
   ]
  },
  {
   "cell_type": "code",
   "execution_count": 54,
   "id": "06ce3e9e",
   "metadata": {},
   "outputs": [
    {
     "data": {
      "text/plain": [
       "[4.5, 6.2, 6.3, 1.2, 2.9, 9.1, 10.2]"
      ]
     },
     "execution_count": 54,
     "metadata": {},
     "output_type": "execute_result"
    }
   ],
   "source": [
    "list3"
   ]
  },
  {
   "cell_type": "code",
   "execution_count": 55,
   "id": "a94639f6",
   "metadata": {},
   "outputs": [],
   "source": [
    "lit2.extend(list3)"
   ]
  },
  {
   "cell_type": "code",
   "execution_count": 56,
   "id": "a5cf541c",
   "metadata": {},
   "outputs": [
    {
     "data": {
      "text/plain": [
       "[10, 20, 30, 40, 50, 80, 4.5, 6.2, 6.3, 1.2, 2.9, 9.1, 10.2]"
      ]
     },
     "execution_count": 56,
     "metadata": {},
     "output_type": "execute_result"
    }
   ],
   "source": [
    "lit2"
   ]
  },
  {
   "cell_type": "code",
   "execution_count": 57,
   "id": "a73d829d",
   "metadata": {},
   "outputs": [],
   "source": [
    "lit2.insert(3,\"pramod\")"
   ]
  },
  {
   "cell_type": "code",
   "execution_count": 58,
   "id": "1ae4c3fa",
   "metadata": {},
   "outputs": [
    {
     "data": {
      "text/plain": [
       "[10, 20, 30, 'pramod', 40, 50, 80, 4.5, 6.2, 6.3, 1.2, 2.9, 9.1, 10.2]"
      ]
     },
     "execution_count": 58,
     "metadata": {},
     "output_type": "execute_result"
    }
   ],
   "source": [
    "lit2"
   ]
  },
  {
   "cell_type": "code",
   "execution_count": 59,
   "id": "5924b7f5",
   "metadata": {},
   "outputs": [],
   "source": [
    "lit2.insert(5,\"Naina\")"
   ]
  },
  {
   "cell_type": "code",
   "execution_count": 60,
   "id": "00e50e49",
   "metadata": {},
   "outputs": [
    {
     "data": {
      "text/plain": [
       "[10, 20, 30, 'pramod', 40, 'Naina', 50, 80, 4.5, 6.2, 6.3, 1.2, 2.9, 9.1, 10.2]"
      ]
     },
     "execution_count": 60,
     "metadata": {},
     "output_type": "execute_result"
    }
   ],
   "source": [
    "lit2"
   ]
  },
  {
   "cell_type": "code",
   "execution_count": 61,
   "id": "f3404863",
   "metadata": {},
   "outputs": [],
   "source": [
    "lit2.append(\"LAST\")"
   ]
  },
  {
   "cell_type": "code",
   "execution_count": 62,
   "id": "b79f1216",
   "metadata": {},
   "outputs": [
    {
     "data": {
      "text/plain": [
       "[10,\n",
       " 20,\n",
       " 30,\n",
       " 'pramod',\n",
       " 40,\n",
       " 'Naina',\n",
       " 50,\n",
       " 80,\n",
       " 4.5,\n",
       " 6.2,\n",
       " 6.3,\n",
       " 1.2,\n",
       " 2.9,\n",
       " 9.1,\n",
       " 10.2,\n",
       " 'LAST']"
      ]
     },
     "execution_count": 62,
     "metadata": {},
     "output_type": "execute_result"
    }
   ],
   "source": [
    "lit2"
   ]
  },
  {
   "cell_type": "code",
   "execution_count": 63,
   "id": "d661b254",
   "metadata": {},
   "outputs": [
    {
     "data": {
      "text/plain": [
       "'LAST'"
      ]
     },
     "execution_count": 63,
     "metadata": {},
     "output_type": "execute_result"
    }
   ],
   "source": [
    "lit2.pop() # by defalt delet last element"
   ]
  },
  {
   "cell_type": "code",
   "execution_count": 64,
   "id": "540ceb3e",
   "metadata": {},
   "outputs": [
    {
     "data": {
      "text/plain": [
       "[10, 20, 30, 'pramod', 40, 'Naina', 50, 80, 4.5, 6.2, 6.3, 1.2, 2.9, 9.1, 10.2]"
      ]
     },
     "execution_count": 64,
     "metadata": {},
     "output_type": "execute_result"
    }
   ],
   "source": [
    "lit2"
   ]
  },
  {
   "cell_type": "code",
   "execution_count": 65,
   "id": "5b4fedef",
   "metadata": {},
   "outputs": [
    {
     "data": {
      "text/plain": [
       "10.2"
      ]
     },
     "execution_count": 65,
     "metadata": {},
     "output_type": "execute_result"
    }
   ],
   "source": [
    "lit2.pop(-1)"
   ]
  },
  {
   "cell_type": "code",
   "execution_count": 66,
   "id": "a06c39ae",
   "metadata": {},
   "outputs": [
    {
     "data": {
      "text/plain": [
       "[10, 20, 30, 'pramod', 40, 'Naina', 50, 80, 4.5, 6.2, 6.3, 1.2, 2.9, 9.1]"
      ]
     },
     "execution_count": 66,
     "metadata": {},
     "output_type": "execute_result"
    }
   ],
   "source": [
    "lit2"
   ]
  },
  {
   "cell_type": "code",
   "execution_count": 67,
   "id": "82258f69",
   "metadata": {},
   "outputs": [],
   "source": [
    "lit2.remove(\"pramod\")"
   ]
  },
  {
   "cell_type": "code",
   "execution_count": 68,
   "id": "2f1f1d74",
   "metadata": {},
   "outputs": [
    {
     "data": {
      "text/plain": [
       "[10, 20, 30, 40, 'Naina', 50, 80, 4.5, 6.2, 6.3, 1.2, 2.9, 9.1]"
      ]
     },
     "execution_count": 68,
     "metadata": {},
     "output_type": "execute_result"
    }
   ],
   "source": [
    "lit2"
   ]
  },
  {
   "cell_type": "code",
   "execution_count": 69,
   "id": "73ce99ce",
   "metadata": {},
   "outputs": [],
   "source": [
    "lit2.remove(\"Naina\")"
   ]
  },
  {
   "cell_type": "code",
   "execution_count": 70,
   "id": "43201903",
   "metadata": {},
   "outputs": [
    {
     "data": {
      "text/plain": [
       "[10, 20, 30, 40, 50, 80, 4.5, 6.2, 6.3, 1.2, 2.9, 9.1]"
      ]
     },
     "execution_count": 70,
     "metadata": {},
     "output_type": "execute_result"
    }
   ],
   "source": [
    "lit2"
   ]
  },
  {
   "cell_type": "code",
   "execution_count": 71,
   "id": "4693d71f",
   "metadata": {},
   "outputs": [
    {
     "data": {
      "text/plain": [
       "6.3"
      ]
     },
     "execution_count": 71,
     "metadata": {},
     "output_type": "execute_result"
    }
   ],
   "source": [
    "lit2[8]"
   ]
  },
  {
   "cell_type": "code",
   "execution_count": 72,
   "id": "eae50db5",
   "metadata": {},
   "outputs": [
    {
     "data": {
      "text/plain": [
       "[50, 80, 4.5, 6.2]"
      ]
     },
     "execution_count": 72,
     "metadata": {},
     "output_type": "execute_result"
    }
   ],
   "source": [
    "lit2[4:8]"
   ]
  },
  {
   "cell_type": "code",
   "execution_count": 73,
   "id": "450c07c5",
   "metadata": {},
   "outputs": [],
   "source": [
    "# clear -> It will clear all the elements and list will be empty\n",
    "lit2.clear()"
   ]
  },
  {
   "cell_type": "code",
   "execution_count": 74,
   "id": "b884947e",
   "metadata": {},
   "outputs": [
    {
     "data": {
      "text/plain": [
       "[]"
      ]
     },
     "execution_count": 74,
     "metadata": {},
     "output_type": "execute_result"
    }
   ],
   "source": [
    "lit2"
   ]
  },
  {
   "cell_type": "code",
   "execution_count": 75,
   "id": "48e7ba75",
   "metadata": {},
   "outputs": [
    {
     "data": {
      "text/plain": [
       "['pramod', 'Trishaan', 'kumar', 'pramod']"
      ]
     },
     "execution_count": 75,
     "metadata": {},
     "output_type": "execute_result"
    }
   ],
   "source": [
    "list1"
   ]
  },
  {
   "cell_type": "code",
   "execution_count": 76,
   "id": "182d4800",
   "metadata": {},
   "outputs": [
    {
     "data": {
      "text/plain": [
       "2"
      ]
     },
     "execution_count": 76,
     "metadata": {},
     "output_type": "execute_result"
    }
   ],
   "source": [
    "# count how many times elements present\n",
    "list1.count(\"pramod\")"
   ]
  },
  {
   "cell_type": "code",
   "execution_count": 77,
   "id": "4765d4f6",
   "metadata": {},
   "outputs": [
    {
     "data": {
      "text/plain": [
       "1"
      ]
     },
     "execution_count": 77,
     "metadata": {},
     "output_type": "execute_result"
    }
   ],
   "source": [
    "list1.index(\"Trishaan\")"
   ]
  },
  {
   "cell_type": "code",
   "execution_count": 78,
   "id": "ad717dce",
   "metadata": {},
   "outputs": [
    {
     "data": {
      "text/plain": [
       "0"
      ]
     },
     "execution_count": 78,
     "metadata": {},
     "output_type": "execute_result"
    }
   ],
   "source": [
    "list1.count(\"sigh\") # element is not there "
   ]
  },
  {
   "cell_type": "code",
   "execution_count": 79,
   "id": "1b1460c8",
   "metadata": {},
   "outputs": [
    {
     "data": {
      "text/plain": [
       "[4.5, 6.2, 6.3, 1.2, 2.9, 9.1, 10.2]"
      ]
     },
     "execution_count": 79,
     "metadata": {},
     "output_type": "execute_result"
    }
   ],
   "source": [
    "list3"
   ]
  },
  {
   "cell_type": "code",
   "execution_count": 80,
   "id": "518b03d7",
   "metadata": {},
   "outputs": [],
   "source": [
    "# Sorting the list # Sort Function will return None values\n",
    "list3.sort()  # By defalt ascending order"
   ]
  },
  {
   "cell_type": "code",
   "execution_count": 81,
   "id": "760b19b9",
   "metadata": {},
   "outputs": [
    {
     "data": {
      "text/plain": [
       "[1.2, 2.9, 4.5, 6.2, 6.3, 9.1, 10.2]"
      ]
     },
     "execution_count": 81,
     "metadata": {},
     "output_type": "execute_result"
    }
   ],
   "source": [
    "list3"
   ]
  },
  {
   "cell_type": "code",
   "execution_count": 82,
   "id": "67ce453e",
   "metadata": {},
   "outputs": [],
   "source": [
    "list3.sort(reverse = True)"
   ]
  },
  {
   "cell_type": "code",
   "execution_count": 83,
   "id": "e257dd5b",
   "metadata": {},
   "outputs": [
    {
     "data": {
      "text/plain": [
       "[10.2, 9.1, 6.3, 6.2, 4.5, 2.9, 1.2]"
      ]
     },
     "execution_count": 83,
     "metadata": {},
     "output_type": "execute_result"
    }
   ],
   "source": [
    "list3"
   ]
  },
  {
   "cell_type": "code",
   "execution_count": 84,
   "id": "0dc6b899",
   "metadata": {},
   "outputs": [
    {
     "data": {
      "text/plain": [
       "[1.2, 2.9, 4.5, 6.2, 6.3, 9.1, 10.2]"
      ]
     },
     "execution_count": 84,
     "metadata": {},
     "output_type": "execute_result"
    }
   ],
   "source": [
    "# sorted\n",
    "sorted(list3)"
   ]
  },
  {
   "cell_type": "code",
   "execution_count": 85,
   "id": "fcebb5c8",
   "metadata": {},
   "outputs": [
    {
     "data": {
      "text/plain": [
       "[10.2, 9.1, 6.3, 6.2, 4.5, 2.9, 1.2]"
      ]
     },
     "execution_count": 85,
     "metadata": {},
     "output_type": "execute_result"
    }
   ],
   "source": [
    "list3"
   ]
  },
  {
   "cell_type": "markdown",
   "id": "994adcf4",
   "metadata": {},
   "source": [
    "1. sorted -> is returning me the sorted values and it will not update the list\n",
    "\n",
    "\n",
    "2. sort -> it will sort the values and update the list and return Non values"
   ]
  },
  {
   "cell_type": "code",
   "execution_count": null,
   "id": "97970820",
   "metadata": {},
   "outputs": [],
   "source": []
  },
  {
   "cell_type": "markdown",
   "id": "ea74231c",
   "metadata": {},
   "source": [
    "# <font color = red> Tuples   \n",
    "    \n",
    "1. Tuples are Immutable(once define you cannot change the values)\n",
    "    \n",
    "2. Tuples are also ordered\n",
    "    \n",
    "3. Tuples can allow duplicates\n",
    "    \n",
    "4. Tuples are defined in small brackets ()\n",
    "  \n",
    "5. Tupels are faster than list"
   ]
  },
  {
   "cell_type": "markdown",
   "id": "2a980f85",
   "metadata": {},
   "source": [
    "**Uses of Tuple**\n",
    "\n",
    "1. Tuples are used to store multiple items in a single variable\n",
    "\n",
    "2. A Tuple is a collection which is orderd and unchangeble"
   ]
  },
  {
   "cell_type": "code",
   "execution_count": 86,
   "id": "aca22b5b",
   "metadata": {},
   "outputs": [
    {
     "name": "stdout",
     "output_type": "stream",
     "text": [
      "() <class 'tuple'>\n"
     ]
    }
   ],
   "source": [
    "tuple1 = ()  # empty tuple\n",
    "print(tuple1,type(tuple1))"
   ]
  },
  {
   "cell_type": "code",
   "execution_count": 87,
   "id": "ba5baf15",
   "metadata": {},
   "outputs": [
    {
     "name": "stdout",
     "output_type": "stream",
     "text": [
      "() <class 'tuple'>\n"
     ]
    }
   ],
   "source": [
    "tuple1 = tuple()  # empty tuple\n",
    "print(tuple1,type(tuple1))"
   ]
  },
  {
   "cell_type": "code",
   "execution_count": 88,
   "id": "dc4fa8c6",
   "metadata": {},
   "outputs": [
    {
     "name": "stdout",
     "output_type": "stream",
     "text": [
      "(10, 20, 30, 40)\n",
      "<class 'tuple'>\n"
     ]
    }
   ],
   "source": [
    "tuple2=(10,20,30,40)\n",
    "print(tuple2)\n",
    "print(type(tuple2))"
   ]
  },
  {
   "cell_type": "code",
   "execution_count": 89,
   "id": "4d16841b",
   "metadata": {},
   "outputs": [
    {
     "name": "stdout",
     "output_type": "stream",
     "text": [
      "(10.1, 20.2, 30.0, 40.1)\n",
      "<class 'tuple'>\n"
     ]
    }
   ],
   "source": [
    "tuple3 = (10.1,20.2,30.0,40.1)\n",
    "print(tuple3)\n",
    "print(type(tuple3))"
   ]
  },
  {
   "cell_type": "code",
   "execution_count": 90,
   "id": "dcd832cd",
   "metadata": {},
   "outputs": [
    {
     "name": "stdout",
     "output_type": "stream",
     "text": [
      "('Parmeet', 'Singh', 'Dang')\n",
      "<class 'tuple'>\n"
     ]
    }
   ],
   "source": [
    "tuple4 = ('Parmeet','Singh','Dang')\n",
    "print(tuple4)\n",
    "print(type(tuple4))"
   ]
  },
  {
   "cell_type": "code",
   "execution_count": 91,
   "id": "c18d79d6",
   "metadata": {},
   "outputs": [
    {
     "name": "stdout",
     "output_type": "stream",
     "text": [
      "(True, False, True, False)\n",
      "<class 'tuple'>\n"
     ]
    }
   ],
   "source": [
    "tuple5 = (True, False, True, False)\n",
    "print(tuple5)\n",
    "print(type(tuple5))"
   ]
  },
  {
   "cell_type": "code",
   "execution_count": 92,
   "id": "e07bcf70",
   "metadata": {},
   "outputs": [
    {
     "name": "stdout",
     "output_type": "stream",
     "text": [
      "(True, 1, 5.6, 'Parmeet')\n",
      "<class 'tuple'>\n"
     ]
    }
   ],
   "source": [
    "tuple6 = (True, 1,5.6,'Parmeet')\n",
    "print(tuple6)\n",
    "print(type(tuple6))"
   ]
  },
  {
   "cell_type": "code",
   "execution_count": 93,
   "id": "5983117f",
   "metadata": {},
   "outputs": [
    {
     "data": {
      "text/plain": [
       "(True, 1, 5.6, 'Parmeet')"
      ]
     },
     "execution_count": 93,
     "metadata": {},
     "output_type": "execute_result"
    }
   ],
   "source": [
    "tuple6"
   ]
  },
  {
   "cell_type": "code",
   "execution_count": 94,
   "id": "641eb4b2",
   "metadata": {},
   "outputs": [],
   "source": [
    "# converting tuple to the list\n",
    "list1= list(tuple6)"
   ]
  },
  {
   "cell_type": "code",
   "execution_count": 95,
   "id": "dafebf2e",
   "metadata": {},
   "outputs": [
    {
     "data": {
      "text/plain": [
       "[True, 1, 5.6, 'Parmeet']"
      ]
     },
     "execution_count": 95,
     "metadata": {},
     "output_type": "execute_result"
    }
   ],
   "source": [
    "list1"
   ]
  },
  {
   "cell_type": "code",
   "execution_count": 96,
   "id": "9c69939a",
   "metadata": {},
   "outputs": [],
   "source": [
    "list1[3] = \"pramod\""
   ]
  },
  {
   "cell_type": "code",
   "execution_count": 97,
   "id": "4a3d861c",
   "metadata": {},
   "outputs": [
    {
     "data": {
      "text/plain": [
       "[True, 1, 5.6, 'pramod']"
      ]
     },
     "execution_count": 97,
     "metadata": {},
     "output_type": "execute_result"
    }
   ],
   "source": [
    "list1"
   ]
  },
  {
   "cell_type": "code",
   "execution_count": 98,
   "id": "704b4383",
   "metadata": {},
   "outputs": [],
   "source": [
    "# converting list into tuple\n",
    "tuple6 = tuple(list1)"
   ]
  },
  {
   "cell_type": "code",
   "execution_count": 99,
   "id": "cd6cb74f",
   "metadata": {},
   "outputs": [
    {
     "data": {
      "text/plain": [
       "(True, 1, 5.6, 'pramod')"
      ]
     },
     "execution_count": 99,
     "metadata": {},
     "output_type": "execute_result"
    }
   ],
   "source": [
    "tuple6"
   ]
  },
  {
   "cell_type": "code",
   "execution_count": 100,
   "id": "a55756f6",
   "metadata": {},
   "outputs": [],
   "source": [
    "list1 = list(tuple6)"
   ]
  },
  {
   "cell_type": "code",
   "execution_count": 101,
   "id": "009e45d9",
   "metadata": {},
   "outputs": [],
   "source": [
    "list1.append(\"parmeet\")"
   ]
  },
  {
   "cell_type": "code",
   "execution_count": 102,
   "id": "7712da9a",
   "metadata": {},
   "outputs": [
    {
     "data": {
      "text/plain": [
       "[True, 1, 5.6, 'pramod', 'parmeet']"
      ]
     },
     "execution_count": 102,
     "metadata": {},
     "output_type": "execute_result"
    }
   ],
   "source": [
    "list1"
   ]
  },
  {
   "cell_type": "code",
   "execution_count": 103,
   "id": "08932a0d",
   "metadata": {},
   "outputs": [],
   "source": [
    "tuple6 = tuple(list1)"
   ]
  },
  {
   "cell_type": "code",
   "execution_count": 104,
   "id": "9a953ccf",
   "metadata": {},
   "outputs": [
    {
     "data": {
      "text/plain": [
       "(True, 1, 5.6, 'pramod', 'parmeet')"
      ]
     },
     "execution_count": 104,
     "metadata": {},
     "output_type": "execute_result"
    }
   ],
   "source": [
    "tuple6"
   ]
  },
  {
   "cell_type": "code",
   "execution_count": 105,
   "id": "bd24eb32",
   "metadata": {},
   "outputs": [
    {
     "data": {
      "text/plain": [
       "5"
      ]
     },
     "execution_count": 105,
     "metadata": {},
     "output_type": "execute_result"
    }
   ],
   "source": [
    "len(tuple6)"
   ]
  },
  {
   "cell_type": "code",
   "execution_count": 106,
   "id": "79af8873",
   "metadata": {},
   "outputs": [
    {
     "data": {
      "text/plain": [
       "1"
      ]
     },
     "execution_count": 106,
     "metadata": {},
     "output_type": "execute_result"
    }
   ],
   "source": [
    "tuple6.count(\"pramod\")"
   ]
  },
  {
   "cell_type": "code",
   "execution_count": 107,
   "id": "dc9e45a4",
   "metadata": {},
   "outputs": [
    {
     "data": {
      "text/plain": [
       "0"
      ]
     },
     "execution_count": 107,
     "metadata": {},
     "output_type": "execute_result"
    }
   ],
   "source": [
    "tuple6.count(\"Mango\")"
   ]
  },
  {
   "cell_type": "code",
   "execution_count": 108,
   "id": "eaaf4dbd",
   "metadata": {},
   "outputs": [
    {
     "name": "stdout",
     "output_type": "stream",
     "text": [
      "mango\n",
      "<class 'str'>\n"
     ]
    }
   ],
   "source": [
    "tuple7 = (\"mango\")\n",
    "print(tuple7)\n",
    "print(type(tuple7))"
   ]
  },
  {
   "cell_type": "code",
   "execution_count": 109,
   "id": "92f235bc",
   "metadata": {},
   "outputs": [
    {
     "name": "stdout",
     "output_type": "stream",
     "text": [
      "<class 'tuple'>\n",
      "('p', 'r', 'a', 'm', 'o', 'd')\n"
     ]
    }
   ],
   "source": [
    "# tuple for string\n",
    "t1 = tuple(\"pramod\")\n",
    "print(type(t1))\n",
    "print(t1)"
   ]
  },
  {
   "cell_type": "markdown",
   "id": "1cad93a8",
   "metadata": {},
   "source": [
    "**zip() function**"
   ]
  },
  {
   "cell_type": "code",
   "execution_count": 110,
   "id": "a5516c6f",
   "metadata": {},
   "outputs": [
    {
     "name": "stdout",
     "output_type": "stream",
     "text": [
      "(('laptop', 40000), ('desktop', 25000), ('mobile', 15000))\n",
      "<class 'tuple'>\n"
     ]
    }
   ],
   "source": [
    "L1 = ['laptop','desktop','mobile']\n",
    "L2 = [40000,25000,15000]\n",
    "L3 = tuple(list(zip(L1,L2)))\n",
    "print(L3)\n",
    "print(type(L3))"
   ]
  },
  {
   "cell_type": "markdown",
   "id": "c133e885",
   "metadata": {},
   "source": [
    "## Unpacking concept"
   ]
  },
  {
   "cell_type": "code",
   "execution_count": 111,
   "id": "90edf036",
   "metadata": {},
   "outputs": [],
   "source": [
    "tuple1 =(\"Mango\",\"Banana\",\"Cherry\")"
   ]
  },
  {
   "cell_type": "code",
   "execution_count": 112,
   "id": "b6d77dcf",
   "metadata": {},
   "outputs": [],
   "source": [
    "a,b,c =tuple1"
   ]
  },
  {
   "cell_type": "code",
   "execution_count": 113,
   "id": "734ee6f3",
   "metadata": {},
   "outputs": [
    {
     "name": "stdout",
     "output_type": "stream",
     "text": [
      "Mango Banana Cherry\n"
     ]
    }
   ],
   "source": [
    "print(a,b,c)"
   ]
  },
  {
   "cell_type": "code",
   "execution_count": 114,
   "id": "809af500",
   "metadata": {},
   "outputs": [],
   "source": [
    "# a,b = tuple1\n",
    "\n",
    "# Errors :- too many values to unpack"
   ]
  },
  {
   "cell_type": "code",
   "execution_count": 115,
   "id": "775b5635",
   "metadata": {},
   "outputs": [],
   "source": [
    "a, *b = tuple1"
   ]
  },
  {
   "cell_type": "code",
   "execution_count": 116,
   "id": "457223d0",
   "metadata": {},
   "outputs": [
    {
     "name": "stdout",
     "output_type": "stream",
     "text": [
      "Mango\n",
      "['Banana', 'Cherry']\n"
     ]
    }
   ],
   "source": [
    "print(a)\n",
    "print(b)"
   ]
  },
  {
   "cell_type": "code",
   "execution_count": 117,
   "id": "7ce62fff",
   "metadata": {},
   "outputs": [
    {
     "data": {
      "text/plain": [
       "('Mango', 'Banana', 'Cherry')"
      ]
     },
     "execution_count": 117,
     "metadata": {},
     "output_type": "execute_result"
    }
   ],
   "source": [
    "tuple1"
   ]
  },
  {
   "cell_type": "code",
   "execution_count": 118,
   "id": "89d742c3",
   "metadata": {},
   "outputs": [],
   "source": [
    "*a,b = tuple1"
   ]
  },
  {
   "cell_type": "code",
   "execution_count": 119,
   "id": "35492b51",
   "metadata": {},
   "outputs": [
    {
     "name": "stdout",
     "output_type": "stream",
     "text": [
      "['Mango', 'Banana']\n",
      "Cherry\n"
     ]
    }
   ],
   "source": [
    "print(a)\n",
    "print(b)"
   ]
  },
  {
   "cell_type": "code",
   "execution_count": null,
   "id": "ef8e05d8",
   "metadata": {},
   "outputs": [],
   "source": []
  },
  {
   "cell_type": "markdown",
   "id": "ac347a32",
   "metadata": {},
   "source": [
    "# <font color = red> Sets"
   ]
  },
  {
   "cell_type": "markdown",
   "id": "d9eadce0",
   "metadata": {},
   "source": [
    "1. sets are immutable -> cannot change the element\n",
    "\n",
    "2. sets are unordered\n",
    "\n",
    "3. sets doesnot allow duplicates"
   ]
  },
  {
   "cell_type": "code",
   "execution_count": 120,
   "id": "0078b870",
   "metadata": {},
   "outputs": [
    {
     "data": {
      "text/plain": [
       "set"
      ]
     },
     "execution_count": 120,
     "metadata": {},
     "output_type": "execute_result"
    }
   ],
   "source": [
    "a = {1,2,3}\n",
    "type(a)"
   ]
  },
  {
   "cell_type": "code",
   "execution_count": 121,
   "id": "919b3ff1",
   "metadata": {},
   "outputs": [
    {
     "data": {
      "text/plain": [
       "dict"
      ]
     },
     "execution_count": 121,
     "metadata": {},
     "output_type": "execute_result"
    }
   ],
   "source": [
    "a = {}\n",
    "type(a)"
   ]
  },
  {
   "cell_type": "code",
   "execution_count": 122,
   "id": "59af5697",
   "metadata": {},
   "outputs": [
    {
     "data": {
      "text/plain": [
       "set"
      ]
     },
     "execution_count": 122,
     "metadata": {},
     "output_type": "execute_result"
    }
   ],
   "source": [
    "a = set()  # Empty set\n",
    "type(a)"
   ]
  },
  {
   "cell_type": "code",
   "execution_count": 123,
   "id": "3b28af6b",
   "metadata": {},
   "outputs": [
    {
     "name": "stdout",
     "output_type": "stream",
     "text": [
      "{1, 2, 3, 4, 5, 6, 7, 10, 11}\n"
     ]
    }
   ],
   "source": [
    "a = {1,11,10,2,3,4,5,6,7}   # example of orderd set\n",
    "print(a)"
   ]
  },
  {
   "cell_type": "code",
   "execution_count": 124,
   "id": "ae65bf0d",
   "metadata": {},
   "outputs": [
    {
     "data": {
      "text/plain": [
       "True"
      ]
     },
     "execution_count": 124,
     "metadata": {},
     "output_type": "execute_result"
    }
   ],
   "source": [
    "2 in a"
   ]
  },
  {
   "cell_type": "code",
   "execution_count": 125,
   "id": "f9e71cb6",
   "metadata": {},
   "outputs": [
    {
     "data": {
      "text/plain": [
       "False"
      ]
     },
     "execution_count": 125,
     "metadata": {},
     "output_type": "execute_result"
    }
   ],
   "source": [
    "2 not in a"
   ]
  },
  {
   "cell_type": "code",
   "execution_count": 126,
   "id": "d14c3af4",
   "metadata": {},
   "outputs": [
    {
     "data": {
      "text/plain": [
       "1"
      ]
     },
     "execution_count": 126,
     "metadata": {},
     "output_type": "execute_result"
    }
   ],
   "source": [
    "a.pop() # remove by defalut 1st elements     Note: in list last ele removed"
   ]
  },
  {
   "cell_type": "code",
   "execution_count": 127,
   "id": "c1d207ca",
   "metadata": {},
   "outputs": [
    {
     "data": {
      "text/plain": [
       "{1, 2, 3, 4, 5, 6, 7, 8}"
      ]
     },
     "execution_count": 127,
     "metadata": {},
     "output_type": "execute_result"
    }
   ],
   "source": [
    "a ={1,1,1,2,2,2,4,4,5,6,7,8,3}\n",
    "a"
   ]
  },
  {
   "cell_type": "code",
   "execution_count": 128,
   "id": "277ac7bf",
   "metadata": {},
   "outputs": [],
   "source": [
    "set1 = {1,2,3,4,5}\n",
    "set2 = {2,5,7}\n",
    "set3 = {8}"
   ]
  },
  {
   "cell_type": "code",
   "execution_count": 129,
   "id": "512341db",
   "metadata": {},
   "outputs": [
    {
     "data": {
      "text/plain": [
       "{1, 2, 3, 4, 5}"
      ]
     },
     "execution_count": 129,
     "metadata": {},
     "output_type": "execute_result"
    }
   ],
   "source": [
    "set1"
   ]
  },
  {
   "cell_type": "code",
   "execution_count": 130,
   "id": "42d0e91d",
   "metadata": {},
   "outputs": [],
   "source": [
    "set1.add(9)"
   ]
  },
  {
   "cell_type": "code",
   "execution_count": 131,
   "id": "8a54db65",
   "metadata": {},
   "outputs": [
    {
     "data": {
      "text/plain": [
       "{1, 2, 3, 4, 5, 9}"
      ]
     },
     "execution_count": 131,
     "metadata": {},
     "output_type": "execute_result"
    }
   ],
   "source": [
    "set1"
   ]
  },
  {
   "cell_type": "code",
   "execution_count": 132,
   "id": "5e9400a2",
   "metadata": {},
   "outputs": [],
   "source": [
    "set1.add(3)"
   ]
  },
  {
   "cell_type": "code",
   "execution_count": 133,
   "id": "93bf28ee",
   "metadata": {},
   "outputs": [
    {
     "data": {
      "text/plain": [
       "{1, 2, 3, 4, 5, 9}"
      ]
     },
     "execution_count": 133,
     "metadata": {},
     "output_type": "execute_result"
    }
   ],
   "source": [
    "set1"
   ]
  },
  {
   "cell_type": "code",
   "execution_count": 134,
   "id": "f1ed8327",
   "metadata": {},
   "outputs": [
    {
     "name": "stdout",
     "output_type": "stream",
     "text": [
      "{1, 2, 3, 4, 5, 9}\n",
      "{2, 5, 7}\n"
     ]
    }
   ],
   "source": [
    "print(set1)\n",
    "print(set2)"
   ]
  },
  {
   "cell_type": "code",
   "execution_count": 135,
   "id": "a9fc09d7",
   "metadata": {},
   "outputs": [
    {
     "data": {
      "text/plain": [
       "{1, 2, 3, 4, 5, 7, 9}"
      ]
     },
     "execution_count": 135,
     "metadata": {},
     "output_type": "execute_result"
    }
   ],
   "source": [
    "set1.union(set2)"
   ]
  },
  {
   "cell_type": "code",
   "execution_count": 136,
   "id": "97bf91db",
   "metadata": {},
   "outputs": [],
   "source": [
    "set1.update(set2) # updating set1 with set2 elements"
   ]
  },
  {
   "cell_type": "code",
   "execution_count": 137,
   "id": "ac3064c0",
   "metadata": {},
   "outputs": [
    {
     "data": {
      "text/plain": [
       "{1, 2, 3, 4, 5, 7, 9}"
      ]
     },
     "execution_count": 137,
     "metadata": {},
     "output_type": "execute_result"
    }
   ],
   "source": [
    "set1"
   ]
  },
  {
   "cell_type": "code",
   "execution_count": 138,
   "id": "1030348a",
   "metadata": {},
   "outputs": [],
   "source": [
    "set2 = {54,56,57,2,5}"
   ]
  },
  {
   "cell_type": "code",
   "execution_count": 139,
   "id": "1de5192f",
   "metadata": {},
   "outputs": [
    {
     "name": "stdout",
     "output_type": "stream",
     "text": [
      "set1: {1, 2, 3, 4, 5, 7, 9}\n",
      "set2: {2, 5, 54, 56, 57}\n"
     ]
    }
   ],
   "source": [
    "print(f\"set1: {set1}\")\n",
    "print(f\"set2: {set2}\")"
   ]
  },
  {
   "cell_type": "code",
   "execution_count": 140,
   "id": "116d5c54",
   "metadata": {},
   "outputs": [
    {
     "data": {
      "text/plain": [
       "{1, 3, 4, 7, 9}"
      ]
     },
     "execution_count": 140,
     "metadata": {},
     "output_type": "execute_result"
    }
   ],
   "source": [
    "set1.difference(set2) # remove all the common elements from set1"
   ]
  },
  {
   "cell_type": "code",
   "execution_count": 141,
   "id": "a8ce6322",
   "metadata": {},
   "outputs": [
    {
     "data": {
      "text/plain": [
       "{54, 56, 57}"
      ]
     },
     "execution_count": 141,
     "metadata": {},
     "output_type": "execute_result"
    }
   ],
   "source": [
    "set2.difference(set1) # remove all the common elements from set2"
   ]
  },
  {
   "cell_type": "code",
   "execution_count": 142,
   "id": "b94f87b9",
   "metadata": {},
   "outputs": [],
   "source": [
    "set1 = {1,2,3,4,5}\n",
    "set2 = {2,5}"
   ]
  },
  {
   "cell_type": "code",
   "execution_count": 143,
   "id": "40a92ca3",
   "metadata": {},
   "outputs": [
    {
     "data": {
      "text/plain": [
       "True"
      ]
     },
     "execution_count": 143,
     "metadata": {},
     "output_type": "execute_result"
    }
   ],
   "source": [
    "set2.issubset(set1)"
   ]
  },
  {
   "cell_type": "code",
   "execution_count": 144,
   "id": "faa62206",
   "metadata": {},
   "outputs": [
    {
     "data": {
      "text/plain": [
       "True"
      ]
     },
     "execution_count": 144,
     "metadata": {},
     "output_type": "execute_result"
    }
   ],
   "source": [
    "set1.issuperset(set2)"
   ]
  },
  {
   "cell_type": "code",
   "execution_count": 145,
   "id": "ec9b3eea",
   "metadata": {},
   "outputs": [],
   "source": [
    "set1 = {1, 2, 3, 4, 5, 7, 9}\n",
    "set2 = {2, 5, 54, 56, 57}"
   ]
  },
  {
   "cell_type": "code",
   "execution_count": 146,
   "id": "323374d2",
   "metadata": {},
   "outputs": [
    {
     "data": {
      "text/plain": [
       "{2, 5}"
      ]
     },
     "execution_count": 146,
     "metadata": {},
     "output_type": "execute_result"
    }
   ],
   "source": [
    "set1.intersection(set2)"
   ]
  },
  {
   "cell_type": "code",
   "execution_count": 147,
   "id": "9e93ed81",
   "metadata": {},
   "outputs": [
    {
     "data": {
      "text/plain": [
       "{2, 5}"
      ]
     },
     "execution_count": 147,
     "metadata": {},
     "output_type": "execute_result"
    }
   ],
   "source": [
    "set2.intersection(set1)"
   ]
  },
  {
   "cell_type": "code",
   "execution_count": 148,
   "id": "5da8b93a",
   "metadata": {},
   "outputs": [],
   "source": [
    "set1 = {1,2,3,4}\n",
    "set2 = {7,5,2}"
   ]
  },
  {
   "cell_type": "code",
   "execution_count": 149,
   "id": "4a1a1fdc",
   "metadata": {},
   "outputs": [
    {
     "data": {
      "text/plain": [
       "False"
      ]
     },
     "execution_count": 149,
     "metadata": {},
     "output_type": "execute_result"
    }
   ],
   "source": [
    "set1.isdisjoint(set2)"
   ]
  },
  {
   "cell_type": "code",
   "execution_count": 150,
   "id": "e3f3de57",
   "metadata": {},
   "outputs": [
    {
     "data": {
      "text/plain": [
       "{1, 2, 3, 4}"
      ]
     },
     "execution_count": 150,
     "metadata": {},
     "output_type": "execute_result"
    }
   ],
   "source": [
    "set1"
   ]
  },
  {
   "cell_type": "code",
   "execution_count": 151,
   "id": "8bfabe17",
   "metadata": {},
   "outputs": [],
   "source": [
    "set1.remove(3)"
   ]
  },
  {
   "cell_type": "code",
   "execution_count": 152,
   "id": "0d6f5a16",
   "metadata": {},
   "outputs": [
    {
     "data": {
      "text/plain": [
       "{1, 2, 4}"
      ]
     },
     "execution_count": 152,
     "metadata": {},
     "output_type": "execute_result"
    }
   ],
   "source": [
    "set1"
   ]
  },
  {
   "cell_type": "code",
   "execution_count": 153,
   "id": "56e4ba48",
   "metadata": {},
   "outputs": [],
   "source": [
    "set1 = {1,2,3,4,5,6,7,8,9}"
   ]
  },
  {
   "cell_type": "code",
   "execution_count": 154,
   "id": "cb8bda13",
   "metadata": {},
   "outputs": [
    {
     "data": {
      "text/plain": [
       "{1, 2, 3, 4, 5, 6, 7, 8, 9}"
      ]
     },
     "execution_count": 154,
     "metadata": {},
     "output_type": "execute_result"
    }
   ],
   "source": [
    "set1"
   ]
  },
  {
   "cell_type": "code",
   "execution_count": null,
   "id": "afd16398",
   "metadata": {},
   "outputs": [],
   "source": []
  },
  {
   "cell_type": "markdown",
   "id": "781e79d3",
   "metadata": {},
   "source": [
    "# <font color = red> Dictionaries"
   ]
  },
  {
   "cell_type": "code",
   "execution_count": 155,
   "id": "c658ab12",
   "metadata": {},
   "outputs": [
    {
     "name": "stdout",
     "output_type": "stream",
     "text": [
      "{}\n",
      "<class 'dict'>\n"
     ]
    }
   ],
   "source": [
    "d1 = {} # Empty dictionary\n",
    "print(d1)\n",
    "print(type(d1))"
   ]
  },
  {
   "cell_type": "code",
   "execution_count": 156,
   "id": "a94ad286",
   "metadata": {},
   "outputs": [],
   "source": [
    "d1 = {\"pramod\": \"7856984512\", \"Rathod\": \"0000000000\", \"sharma\": \"9865454545\"}"
   ]
  },
  {
   "cell_type": "code",
   "execution_count": 157,
   "id": "69dd42e8",
   "metadata": {},
   "outputs": [
    {
     "data": {
      "text/plain": [
       "{'pramod': '7856984512', 'Rathod': '0000000000', 'sharma': '9865454545'}"
      ]
     },
     "execution_count": 157,
     "metadata": {},
     "output_type": "execute_result"
    }
   ],
   "source": [
    "d1"
   ]
  },
  {
   "cell_type": "code",
   "execution_count": 158,
   "id": "cd7ef398",
   "metadata": {},
   "outputs": [],
   "source": [
    "#Add new records\n",
    "d1[\"amol\"] = \"9645786532\""
   ]
  },
  {
   "cell_type": "code",
   "execution_count": 159,
   "id": "87f255d4",
   "metadata": {},
   "outputs": [
    {
     "data": {
      "text/plain": [
       "{'pramod': '7856984512',\n",
       " 'Rathod': '0000000000',\n",
       " 'sharma': '9865454545',\n",
       " 'amol': '9645786532'}"
      ]
     },
     "execution_count": 159,
     "metadata": {},
     "output_type": "execute_result"
    }
   ],
   "source": [
    "d1"
   ]
  },
  {
   "cell_type": "code",
   "execution_count": 160,
   "id": "9b74d6f0",
   "metadata": {},
   "outputs": [],
   "source": [
    "# Replace the old value by new\n",
    "d1[\"Rathod\"] = \"9856874532\""
   ]
  },
  {
   "cell_type": "code",
   "execution_count": 161,
   "id": "081bdec9",
   "metadata": {},
   "outputs": [
    {
     "data": {
      "text/plain": [
       "{'pramod': '7856984512',\n",
       " 'Rathod': '9856874532',\n",
       " 'sharma': '9865454545',\n",
       " 'amol': '9645786532'}"
      ]
     },
     "execution_count": 161,
     "metadata": {},
     "output_type": "execute_result"
    }
   ],
   "source": [
    "d1"
   ]
  },
  {
   "cell_type": "code",
   "execution_count": 162,
   "id": "fdfaa041",
   "metadata": {},
   "outputs": [
    {
     "data": {
      "text/plain": [
       "'9856874532'"
      ]
     },
     "execution_count": 162,
     "metadata": {},
     "output_type": "execute_result"
    }
   ],
   "source": [
    "d1[\"Rathod\"] # Retriving Values"
   ]
  },
  {
   "cell_type": "code",
   "execution_count": 163,
   "id": "b846e289",
   "metadata": {},
   "outputs": [],
   "source": [
    "# Delete values\n",
    "del d1[\"Rathod\"]"
   ]
  },
  {
   "cell_type": "code",
   "execution_count": 164,
   "id": "78ff7a14",
   "metadata": {},
   "outputs": [
    {
     "data": {
      "text/plain": [
       "{'pramod': '7856984512', 'sharma': '9865454545', 'amol': '9645786532'}"
      ]
     },
     "execution_count": 164,
     "metadata": {},
     "output_type": "execute_result"
    }
   ],
   "source": [
    "d1"
   ]
  },
  {
   "cell_type": "markdown",
   "id": "6f332d40",
   "metadata": {},
   "source": [
    "### Nasted dictionaries"
   ]
  },
  {
   "cell_type": "code",
   "execution_count": 165,
   "id": "46de2e21",
   "metadata": {},
   "outputs": [],
   "source": [
    "Players = {\"Virat Kohli\":{\"ODI\":9645, \"Test\":10452,\"T20\":5053},\n",
    "          \"Sachine Tendulkar\": {\"ODI\":12748, \"Test\":15462,\"T20\":2215}}"
   ]
  },
  {
   "cell_type": "code",
   "execution_count": 166,
   "id": "64a31edc",
   "metadata": {},
   "outputs": [
    {
     "data": {
      "text/plain": [
       "{'Virat Kohli': {'ODI': 9645, 'Test': 10452, 'T20': 5053},\n",
       " 'Sachine Tendulkar': {'ODI': 12748, 'Test': 15462, 'T20': 2215}}"
      ]
     },
     "execution_count": 166,
     "metadata": {},
     "output_type": "execute_result"
    }
   ],
   "source": [
    "Players"
   ]
  },
  {
   "cell_type": "code",
   "execution_count": 167,
   "id": "9f85d91f",
   "metadata": {},
   "outputs": [
    {
     "data": {
      "text/plain": [
       "9645"
      ]
     },
     "execution_count": 167,
     "metadata": {},
     "output_type": "execute_result"
    }
   ],
   "source": [
    "Players[\"Virat Kohli\"][\"ODI\"]"
   ]
  },
  {
   "cell_type": "code",
   "execution_count": 168,
   "id": "ecc1e513",
   "metadata": {},
   "outputs": [
    {
     "data": {
      "text/plain": [
       "5053"
      ]
     },
     "execution_count": 168,
     "metadata": {},
     "output_type": "execute_result"
    }
   ],
   "source": [
    "Players[\"Virat Kohli\"][\"T20\"]"
   ]
  },
  {
   "cell_type": "code",
   "execution_count": 169,
   "id": "7662e622",
   "metadata": {},
   "outputs": [
    {
     "data": {
      "text/plain": [
       "12748"
      ]
     },
     "execution_count": 169,
     "metadata": {},
     "output_type": "execute_result"
    }
   ],
   "source": [
    "Players[\"Sachine Tendulkar\"][\"ODI\"]"
   ]
  },
  {
   "cell_type": "code",
   "execution_count": null,
   "id": "ee697073",
   "metadata": {},
   "outputs": [],
   "source": []
  },
  {
   "cell_type": "markdown",
   "id": "c175c072",
   "metadata": {},
   "source": [
    "# <font color = red> String"
   ]
  },
  {
   "cell_type": "code",
   "execution_count": 170,
   "id": "a591f5e0",
   "metadata": {},
   "outputs": [],
   "source": [
    "s1 = \"Pramod\""
   ]
  },
  {
   "cell_type": "code",
   "execution_count": 171,
   "id": "a1053392",
   "metadata": {},
   "outputs": [
    {
     "data": {
      "text/plain": [
       "'P'"
      ]
     },
     "execution_count": 171,
     "metadata": {},
     "output_type": "execute_result"
    }
   ],
   "source": [
    "s1[0]"
   ]
  },
  {
   "cell_type": "code",
   "execution_count": 172,
   "id": "62b0592b",
   "metadata": {},
   "outputs": [],
   "source": [
    "s2 = \"I Love Python Programming\""
   ]
  },
  {
   "cell_type": "code",
   "execution_count": 173,
   "id": "0433d23a",
   "metadata": {},
   "outputs": [
    {
     "name": "stdout",
     "output_type": "stream",
     "text": [
      "PramodI Love Python Programming\n"
     ]
    }
   ],
   "source": [
    "print(s1+ s2)"
   ]
  },
  {
   "cell_type": "code",
   "execution_count": 174,
   "id": "e4473339",
   "metadata": {},
   "outputs": [
    {
     "data": {
      "text/plain": [
       "'Lv yhnPor'"
      ]
     },
     "execution_count": 174,
     "metadata": {},
     "output_type": "execute_result"
    }
   ],
   "source": [
    "s2[2:20:2]"
   ]
  },
  {
   "cell_type": "code",
   "execution_count": 175,
   "id": "9b8b4162",
   "metadata": {},
   "outputs": [
    {
     "data": {
      "text/plain": [
       "True"
      ]
     },
     "execution_count": 175,
     "metadata": {},
     "output_type": "execute_result"
    }
   ],
   "source": [
    "\"Love\" in  s2"
   ]
  },
  {
   "cell_type": "code",
   "execution_count": 176,
   "id": "76776fa7",
   "metadata": {},
   "outputs": [
    {
     "data": {
      "text/plain": [
       "False"
      ]
     },
     "execution_count": 176,
     "metadata": {},
     "output_type": "execute_result"
    }
   ],
   "source": [
    "\"pramod\" in s2"
   ]
  },
  {
   "cell_type": "code",
   "execution_count": 177,
   "id": "444898d0",
   "metadata": {},
   "outputs": [
    {
     "data": {
      "text/plain": [
       "True"
      ]
     },
     "execution_count": 177,
     "metadata": {},
     "output_type": "execute_result"
    }
   ],
   "source": [
    "\"pramod\" not in  s2"
   ]
  },
  {
   "cell_type": "code",
   "execution_count": 178,
   "id": "5083e186",
   "metadata": {},
   "outputs": [],
   "source": [
    "s3 = \"f string is used in string\""
   ]
  },
  {
   "cell_type": "code",
   "execution_count": 179,
   "id": "634b6e22",
   "metadata": {},
   "outputs": [
    {
     "data": {
      "text/plain": [
       "['f', 'string', 'is', 'used', 'in', 'string']"
      ]
     },
     "execution_count": 179,
     "metadata": {},
     "output_type": "execute_result"
    }
   ],
   "source": [
    "s3.split()"
   ]
  },
  {
   "cell_type": "code",
   "execution_count": 180,
   "id": "5ceea40e",
   "metadata": {},
   "outputs": [],
   "source": [
    "s4 = str(\"the-main-part-of-string-is-here\")"
   ]
  },
  {
   "cell_type": "code",
   "execution_count": 181,
   "id": "0c183cc0",
   "metadata": {},
   "outputs": [
    {
     "data": {
      "text/plain": [
       "['the-main-part-of-string-is-here']"
      ]
     },
     "execution_count": 181,
     "metadata": {},
     "output_type": "execute_result"
    }
   ],
   "source": [
    "s4.split()"
   ]
  },
  {
   "cell_type": "code",
   "execution_count": 182,
   "id": "326d3bf6",
   "metadata": {},
   "outputs": [
    {
     "data": {
      "text/plain": [
       "['the', 'main', 'part', 'of', 'string', 'is', 'here']"
      ]
     },
     "execution_count": 182,
     "metadata": {},
     "output_type": "execute_result"
    }
   ],
   "source": [
    "s4.split(\"-\")"
   ]
  },
  {
   "cell_type": "markdown",
   "id": "3b0407c2",
   "metadata": {},
   "source": [
    "### Testing string"
   ]
  },
  {
   "cell_type": "markdown",
   "id": "aa1a70e0",
   "metadata": {},
   "source": [
    "- str.isalnum()\n",
    "- str.isalpha()\n",
    "- str.isdigit()\n",
    "- str.islower()\n",
    "- str.isupper()\n",
    "- str.isspace()"
   ]
  },
  {
   "cell_type": "code",
   "execution_count": 183,
   "id": "18eeac1f",
   "metadata": {},
   "outputs": [
    {
     "data": {
      "text/plain": [
       "'Pramod'"
      ]
     },
     "execution_count": 183,
     "metadata": {},
     "output_type": "execute_result"
    }
   ],
   "source": [
    "s1"
   ]
  },
  {
   "cell_type": "code",
   "execution_count": 184,
   "id": "7a85fa16",
   "metadata": {},
   "outputs": [
    {
     "data": {
      "text/plain": [
       "True"
      ]
     },
     "execution_count": 184,
     "metadata": {},
     "output_type": "execute_result"
    }
   ],
   "source": [
    "s1.isalpha() # check all are alphabets or not"
   ]
  },
  {
   "cell_type": "code",
   "execution_count": 185,
   "id": "c69c52a7",
   "metadata": {},
   "outputs": [],
   "source": [
    "s5 = \"1pramod\""
   ]
  },
  {
   "cell_type": "code",
   "execution_count": 186,
   "id": "337fa636",
   "metadata": {},
   "outputs": [
    {
     "data": {
      "text/plain": [
       "False"
      ]
     },
     "execution_count": 186,
     "metadata": {},
     "output_type": "execute_result"
    }
   ],
   "source": [
    "s5.isalpha()"
   ]
  },
  {
   "cell_type": "markdown",
   "id": "2b40bcac",
   "metadata": {},
   "source": [
    "# convert\n",
    "\n",
    "- str.upper()\n",
    "- str.lower()\n",
    "- str.capitalize()\n",
    "- str.title()\n",
    "- str.swapcase()"
   ]
  },
  {
   "cell_type": "code",
   "execution_count": 187,
   "id": "f90667e0",
   "metadata": {},
   "outputs": [
    {
     "data": {
      "text/plain": [
       "'Pramod'"
      ]
     },
     "execution_count": 187,
     "metadata": {},
     "output_type": "execute_result"
    }
   ],
   "source": [
    "s1.capitalize()  # first latter will capital"
   ]
  },
  {
   "cell_type": "code",
   "execution_count": 188,
   "id": "7bd26b89",
   "metadata": {},
   "outputs": [
    {
     "data": {
      "text/plain": [
       "'PRAMOD'"
      ]
     },
     "execution_count": 188,
     "metadata": {},
     "output_type": "execute_result"
    }
   ],
   "source": [
    "s1.upper()"
   ]
  },
  {
   "cell_type": "markdown",
   "id": "59f2f1a4",
   "metadata": {},
   "source": [
    "# Searching Substring"
   ]
  },
  {
   "cell_type": "markdown",
   "id": "e69c6369",
   "metadata": {},
   "source": [
    "- str.startswith(\"str\")\n",
    "- str.endswith(\"str\")\n",
    "- str.find(\"str\")\n",
    "- str.rfind(\"str\")\n",
    "- str.count(\"str\")"
   ]
  },
  {
   "cell_type": "code",
   "execution_count": 189,
   "id": "a123216f",
   "metadata": {},
   "outputs": [
    {
     "data": {
      "text/plain": [
       "'I Love Python Programming'"
      ]
     },
     "execution_count": 189,
     "metadata": {},
     "output_type": "execute_result"
    }
   ],
   "source": [
    "s2"
   ]
  },
  {
   "cell_type": "code",
   "execution_count": 190,
   "id": "51816897",
   "metadata": {},
   "outputs": [
    {
     "data": {
      "text/plain": [
       "True"
      ]
     },
     "execution_count": 190,
     "metadata": {},
     "output_type": "execute_result"
    }
   ],
   "source": [
    "s2.startswith(\"I\")"
   ]
  },
  {
   "cell_type": "code",
   "execution_count": 191,
   "id": "da5e298f",
   "metadata": {},
   "outputs": [
    {
     "data": {
      "text/plain": [
       "17"
      ]
     },
     "execution_count": 191,
     "metadata": {},
     "output_type": "execute_result"
    }
   ],
   "source": [
    "s2.find(\"g\") # find From lowest index"
   ]
  },
  {
   "cell_type": "code",
   "execution_count": 192,
   "id": "a3a756a3",
   "metadata": {},
   "outputs": [
    {
     "data": {
      "text/plain": [
       "16"
      ]
     },
     "execution_count": 192,
     "metadata": {},
     "output_type": "execute_result"
    }
   ],
   "source": [
    "s2.rfind(\"o\") # find From highest index"
   ]
  },
  {
   "cell_type": "code",
   "execution_count": 193,
   "id": "0e8af42a",
   "metadata": {},
   "outputs": [
    {
     "data": {
      "text/plain": [
       "3"
      ]
     },
     "execution_count": 193,
     "metadata": {},
     "output_type": "execute_result"
    }
   ],
   "source": [
    "s2.count(\"o\")"
   ]
  },
  {
   "cell_type": "markdown",
   "id": "e4c8f378",
   "metadata": {},
   "source": [
    "# conditional statements\n",
    "\n",
    "#### Loops"
   ]
  },
  {
   "cell_type": "code",
   "execution_count": 194,
   "id": "86beff9d",
   "metadata": {},
   "outputs": [
    {
     "name": "stdout",
     "output_type": "stream",
     "text": [
      "1 2 3 4 5 6 7 8 9 "
     ]
    }
   ],
   "source": [
    "for ele in range(1,10):\n",
    "    print(ele, end=\" \")"
   ]
  },
  {
   "cell_type": "code",
   "execution_count": 195,
   "id": "5dd4addf",
   "metadata": {},
   "outputs": [],
   "source": [
    "list1 =[\"pramod\",\"singh\",\"rathod\"]"
   ]
  },
  {
   "cell_type": "code",
   "execution_count": 196,
   "id": "0309a8c5",
   "metadata": {},
   "outputs": [
    {
     "data": {
      "text/plain": [
       "3"
      ]
     },
     "execution_count": 196,
     "metadata": {},
     "output_type": "execute_result"
    }
   ],
   "source": [
    "len(list1)"
   ]
  },
  {
   "cell_type": "code",
   "execution_count": 197,
   "id": "2008743b",
   "metadata": {},
   "outputs": [
    {
     "name": "stdout",
     "output_type": "stream",
     "text": [
      "0\n",
      "1\n",
      "2\n"
     ]
    }
   ],
   "source": [
    "for ele in range(len(list1)):\n",
    "    print(ele)"
   ]
  },
  {
   "cell_type": "code",
   "execution_count": 198,
   "id": "a6e460c3",
   "metadata": {},
   "outputs": [
    {
     "name": "stdout",
     "output_type": "stream",
     "text": [
      "pramod\n",
      "singh\n",
      "rathod\n"
     ]
    }
   ],
   "source": [
    "for ele in list1:\n",
    "    print(ele)"
   ]
  },
  {
   "cell_type": "code",
   "execution_count": 199,
   "id": "f5c67fc1",
   "metadata": {},
   "outputs": [
    {
     "name": "stdout",
     "output_type": "stream",
     "text": [
      "p\n",
      "r\n",
      "a\n",
      "m\n",
      "o\n",
      "d\n",
      "r\n",
      "a\n",
      "t\n",
      "h\n",
      "o\n",
      "d\n"
     ]
    }
   ],
   "source": [
    "for ele in \"pramodrathod\":\n",
    "    print(ele)"
   ]
  },
  {
   "cell_type": "code",
   "execution_count": 200,
   "id": "5008c107",
   "metadata": {},
   "outputs": [
    {
     "name": "stdout",
     "output_type": "stream",
     "text": [
      "0 p\n",
      "1 r\n",
      "2 a\n",
      "3 m\n",
      "4 o\n",
      "5 d\n",
      "6 r\n",
      "7 a\n",
      "8 t\n",
      "9 h\n",
      "10 o\n",
      "11 d\n"
     ]
    }
   ],
   "source": [
    "# Enumarate = return the tuple of 2 elements(1st=index, 2nd=ele)\n",
    "for idx,ele in enumerate(\"pramodrathod\"):\n",
    "    print(idx,ele)"
   ]
  },
  {
   "cell_type": "code",
   "execution_count": 201,
   "id": "f9218705",
   "metadata": {},
   "outputs": [
    {
     "name": "stdout",
     "output_type": "stream",
     "text": [
      "0 pramod\n",
      "1 singh\n",
      "2 rathod\n"
     ]
    }
   ],
   "source": [
    "for idx,ele in enumerate(list1):\n",
    "    print(idx,ele)"
   ]
  },
  {
   "cell_type": "code",
   "execution_count": 202,
   "id": "595a17a1",
   "metadata": {},
   "outputs": [
    {
     "data": {
      "text/plain": [
       "('Mango', 'Banana', 'Cherry')"
      ]
     },
     "execution_count": 202,
     "metadata": {},
     "output_type": "execute_result"
    }
   ],
   "source": [
    "tuple1"
   ]
  },
  {
   "cell_type": "code",
   "execution_count": 203,
   "id": "aa8bfdd1",
   "metadata": {},
   "outputs": [
    {
     "name": "stdout",
     "output_type": "stream",
     "text": [
      "0 Mango\n",
      "1 Banana\n",
      "2 Cherry\n"
     ]
    }
   ],
   "source": [
    "for idx,ele in enumerate(tuple1):\n",
    "    print(idx,ele)"
   ]
  },
  {
   "cell_type": "code",
   "execution_count": 204,
   "id": "ed686d66",
   "metadata": {},
   "outputs": [
    {
     "data": {
      "text/plain": [
       "{1, 2, 3, 4, 5, 6, 7, 8, 9}"
      ]
     },
     "execution_count": 204,
     "metadata": {},
     "output_type": "execute_result"
    }
   ],
   "source": [
    "set1"
   ]
  },
  {
   "cell_type": "code",
   "execution_count": 205,
   "id": "46dcfaf8",
   "metadata": {},
   "outputs": [
    {
     "name": "stdout",
     "output_type": "stream",
     "text": [
      "0 1\n",
      "1 2\n",
      "2 3\n",
      "3 4\n",
      "4 5\n",
      "5 6\n",
      "6 7\n",
      "7 8\n",
      "8 9\n"
     ]
    }
   ],
   "source": [
    "for idx, ele in enumerate(set1):\n",
    "    print(idx, ele)"
   ]
  },
  {
   "cell_type": "code",
   "execution_count": 206,
   "id": "ca8a605d",
   "metadata": {},
   "outputs": [
    {
     "name": "stdout",
     "output_type": "stream",
     "text": [
      "1\n",
      "3\n",
      "5\n",
      "7\n",
      "9\n"
     ]
    }
   ],
   "source": [
    "# print only odd elements\n",
    "for ele in set1:\n",
    "    if ele %2 !=0:\n",
    "        print(ele)"
   ]
  },
  {
   "cell_type": "code",
   "execution_count": 207,
   "id": "7af43d66",
   "metadata": {},
   "outputs": [
    {
     "name": "stdout",
     "output_type": "stream",
     "text": [
      "2\n",
      "4\n",
      "6\n",
      "8\n"
     ]
    }
   ],
   "source": [
    "# print even elements\n",
    "for ele in set1:\n",
    "    if ele %2 ==0:\n",
    "        print(ele)"
   ]
  },
  {
   "cell_type": "code",
   "execution_count": 208,
   "id": "d53c0183",
   "metadata": {},
   "outputs": [
    {
     "name": "stdout",
     "output_type": "stream",
     "text": [
      "1 4 9 16 25 36 49 64 81 "
     ]
    }
   ],
   "source": [
    "for ele in set1:\n",
    "    print(ele*ele, end=\" \")"
   ]
  },
  {
   "cell_type": "code",
   "execution_count": null,
   "id": "ebeefb0a",
   "metadata": {},
   "outputs": [],
   "source": []
  },
  {
   "cell_type": "markdown",
   "id": "fa5729d9",
   "metadata": {},
   "source": [
    "# <center><font color = green> List Processing: Searching & Sorting"
   ]
  },
  {
   "cell_type": "markdown",
   "id": "bc185f34",
   "metadata": {},
   "source": [
    "# <font color = red>Searching"
   ]
  },
  {
   "cell_type": "markdown",
   "id": "71daff7b",
   "metadata": {},
   "source": [
    "- searching is a technique of quickly finding a specific item from a given list of item, such as a number in a telephone directory.\n",
    "\n",
    "- Depending on the way the information is stored for searching a perticular record.\n",
    "\n",
    "- Search techniques are categorised as \n",
    "\n",
    "**1. Linear or sequential search**\n",
    "\n",
    "**2. Binary search**"
   ]
  },
  {
   "cell_type": "markdown",
   "id": "6a92d443",
   "metadata": {},
   "source": [
    "###  <font color = blue> 1. Linear or sequential search\n",
    "    \n",
    "- In linear serch, elements are examined sequentially starting from the first elements.\n",
    "    \n",
    "- This technique usefull when size of list is small."
   ]
  },
  {
   "cell_type": "code",
   "execution_count": 209,
   "id": "d5d0a62f",
   "metadata": {},
   "outputs": [
    {
     "data": {
      "text/plain": [
       "('The 65 is present at index', 3)"
      ]
     },
     "execution_count": 209,
     "metadata": {},
     "output_type": "execute_result"
    }
   ],
   "source": [
    "# write a program to search an elements from a list\n",
    "\n",
    "def Linear_search(my_list,key):\n",
    "    for i in range(len(my_list)):\n",
    "        if (my_list[i] == key):\n",
    "            return (f\"The {key} is present at index\", i)\n",
    "            break\n",
    "    return (f\"Numer is not present in list\")\n",
    "\n",
    "my_list = [12,23,45,65,78,98,68,52]\n",
    "Linear_search(my_list,65)"
   ]
  },
  {
   "cell_type": "markdown",
   "id": "cfa58f9e",
   "metadata": {},
   "source": [
    "## <font color = blue>2. Binary search\n",
    "    \n",
    "In privious section we learn linear search alogorithm. Linear search is conventient for a small list. **if the size of list is large we need to use binary search.**"
   ]
  },
  {
   "cell_type": "markdown",
   "id": "1c33db54",
   "metadata": {},
   "source": [
    "**The binary search algorithm is based on following condition**\n",
    "\n",
    "1. The elements in list must be in sorted order.\n",
    "\n",
    "2. If the key is less than the list's middle element then a programmer has to serach only in the first half of the list.\n",
    "\n",
    "3. If the key is grater than the list's middle element then a programmer has to serach olny in second half of the list.\n",
    "\n",
    "4. if the element to be found, i.e. the key elements is equal to the middle elements in the list then the search ends.\n"
   ]
  },
  {
   "cell_type": "code",
   "execution_count": 210,
   "id": "5fbb9784",
   "metadata": {},
   "outputs": [
    {
     "data": {
      "text/plain": [
       "4"
      ]
     },
     "execution_count": 210,
     "metadata": {},
     "output_type": "execute_result"
    }
   ],
   "source": [
    "# Write a program for Binary serch\n",
    "\n",
    "def Binary_search(my_list, key):\n",
    "    low = 0\n",
    "    high = len(my_list)-1\n",
    "    while low <= high:\n",
    "        mid = ((low + high))//2\n",
    "        if my_list[mid]==key:\n",
    "            return mid\n",
    "        elif key>my_list[mid]:\n",
    "            low = mid+1\n",
    "        else:\n",
    "            high = mid -1\n",
    "    return -1\n",
    "\n",
    "my_list = [5,10,15,20,22,25,30,32,35,40,45,50,55,60,65,70,75,80,82,85,86,87,90,91,92,95,98]\n",
    "Binary_search(my_list,22)"
   ]
  },
  {
   "cell_type": "code",
   "execution_count": null,
   "id": "c31bd622",
   "metadata": {},
   "outputs": [],
   "source": []
  },
  {
   "cell_type": "markdown",
   "id": "1153a7eb",
   "metadata": {},
   "source": [
    "# <font color = red> Sorting\n",
    "    \n",
    "Sorting algorithm are divided into two main categories:\n",
    "    \n",
    "**1.Internal Sorting :** \n",
    "    Any sorting algorithm which uses the **main memory** exclusively during sorting is called an **internal sort algorithm.** it takes advantage of the random access nature of the main memory. **Internal sorting is faster thyan exturnal sorting** \n",
    "    \n",
    "**2. External Sorting :** Exturnal sorting is carried on **secondary storage.** theirefore, any sorting algorithm which used external memory. such as tape and disk during sorting is called **exturnal sort algorithm**"
   ]
  },
  {
   "cell_type": "markdown",
   "id": "43cd1cdb",
   "metadata": {},
   "source": [
    "### The Various sorting algorithms are:\n",
    "\n",
    "**1. Bubble sort :** it sort the elements by repeatedly moving the largest element to the highest index position of the list.\n",
    "\n",
    "**2. Selection sort :** it search the smallest element within list and interchange list[0] with that small number.\n",
    "\n",
    "**3. Insertion sort :** \n",
    "\n",
    "**4. Quick sort :** fastest internal sorting algorithm. \n",
    "\n",
    "**5. Merge sort**"
   ]
  },
  {
   "cell_type": "code",
   "execution_count": null,
   "id": "0a1d52af",
   "metadata": {},
   "outputs": [],
   "source": []
  },
  {
   "cell_type": "code",
   "execution_count": null,
   "id": "adf1f992",
   "metadata": {},
   "outputs": [],
   "source": []
  }
 ],
 "metadata": {
  "kernelspec": {
   "display_name": "Python 3 (ipykernel)",
   "language": "python",
   "name": "python3"
  },
  "language_info": {
   "codemirror_mode": {
    "name": "ipython",
    "version": 3
   },
   "file_extension": ".py",
   "mimetype": "text/x-python",
   "name": "python",
   "nbconvert_exporter": "python",
   "pygments_lexer": "ipython3",
   "version": "3.9.7"
  }
 },
 "nbformat": 4,
 "nbformat_minor": 5
}
