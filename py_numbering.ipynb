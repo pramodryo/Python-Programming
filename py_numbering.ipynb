{
 "cells": [
  {
   "cell_type": "markdown",
   "id": "967f15ad",
   "metadata": {},
   "source": [
    "## Python Numbering"
   ]
  },
  {
   "cell_type": "code",
   "execution_count": 1,
   "id": "2221fb21",
   "metadata": {},
   "outputs": [
    {
     "name": "stdout",
     "output_type": "stream",
     "text": [
      "10 9 8 7 6 5 4 3 2 1 "
     ]
    }
   ],
   "source": [
    "## WAP to print 10 to 1 number\n",
    "for i in range(10,0,-1):\n",
    "    print(i,end=\" \")"
   ]
  },
  {
   "cell_type": "code",
   "execution_count": 2,
   "id": "f4ddc6a6",
   "metadata": {},
   "outputs": [
    {
     "name": "stdout",
     "output_type": "stream",
     "text": [
      "20 18 16 14 12 10 8 6 4 2 "
     ]
    }
   ],
   "source": [
    "## WAP to print 20 to 1 with one number skip\n",
    "\n",
    "for i in range(20,0,-2):\n",
    "    print(i,end=\" \")"
   ]
  },
  {
   "cell_type": "code",
   "execution_count": 3,
   "id": "0de85a8f",
   "metadata": {},
   "outputs": [
    {
     "name": "stdout",
     "output_type": "stream",
     "text": [
      "  1   2   3   5   7   11   13   17   19   23   29   31   37   41   43   47   53   59   61   67   71   73   79   83   89   97 "
     ]
    }
   ],
   "source": [
    "## WAP to print prime number between 1 to 100\n",
    "\n",
    "for i in range(1,100):\n",
    "    c=0;\n",
    "    for j in range(2,i):\n",
    "        if(i%j==0):\n",
    "            c= c+1\n",
    "    if(c==0):\n",
    "        print(\" \",i,end=\" \")\n"
   ]
  },
  {
   "cell_type": "code",
   "execution_count": 4,
   "id": "11e87533",
   "metadata": {},
   "outputs": [
    {
     "name": "stdout",
     "output_type": "stream",
     "text": [
      "10 12 14 "
     ]
    }
   ],
   "source": [
    "# WAP to find number odd and even number from list\n",
    "\n",
    "a = [10,11,12,13,14,15,11,23,45,77]\n",
    "\n",
    "for i in range(0,len(a)):\n",
    "    if(a[i]%2 ==0):\n",
    "        print(a[i],end=\" \")"
   ]
  },
  {
   "cell_type": "code",
   "execution_count": 5,
   "id": "524a1cfd",
   "metadata": {},
   "outputs": [
    {
     "name": "stdout",
     "output_type": "stream",
     "text": [
      "hai..\n",
      "hai..\n",
      "hai..\n"
     ]
    }
   ],
   "source": [
    "for i in range(0,3):\n",
    "    print(\"hai..\")"
   ]
  },
  {
   "cell_type": "code",
   "execution_count": 6,
   "id": "76d73704",
   "metadata": {},
   "outputs": [
    {
     "name": "stdout",
     "output_type": "stream",
     "text": [
      "<class 'list'>\n",
      "<class 'str'>\n",
      "<class 'int'>\n",
      "<class 'float'>\n",
      "<class 'str'>\n"
     ]
    }
   ],
   "source": [
    "a = [\"pramod\", 20, 23.45, 'a']   # list\n",
    "print(type(a))\n",
    "print(type(a[0]))\n",
    "print(type(a[1]))\n",
    "print(type(a[2]))\n",
    "print(type(a[3]))"
   ]
  },
  {
   "cell_type": "code",
   "execution_count": 7,
   "id": "377b65d8",
   "metadata": {},
   "outputs": [
    {
     "name": "stdout",
     "output_type": "stream",
     "text": [
      "Enter a list of numbers, separated by spaces: 45 67 89 09 76 3 2\n",
      "The entered list is: [45, 67, 89, 9, 76, 3, 2]\n",
      "The entered list is: [2, 3, 76, 9, 89, 67, 45]\n"
     ]
    }
   ],
   "source": [
    "# WAP to scan int list and reverse it\n",
    "\n",
    "user_input = input(\"Enter a list of numbers, separated by spaces: \")\n",
    "numbers = user_input.split()  # Split the input string into individual elements\n",
    "\n",
    "\n",
    "# Convert the list of strings to a list of integers\n",
    "numbers = [int(num) for num in numbers]\n",
    "print(\"The entered list is:\", numbers)\n",
    "\n",
    "numbers = numbers[::-1]\n",
    "print(\"The entered list is:\", numbers)"
   ]
  },
  {
   "cell_type": "code",
   "execution_count": 8,
   "id": "3c8dca28",
   "metadata": {},
   "outputs": [
    {
     "name": "stdout",
     "output_type": "stream",
     "text": [
      "Enter the stringhello i am prama from india \n",
      "<class 'str'>\n",
      "h e l l o   i   a m   p r a m a   f r o m   i n d i a   "
     ]
    }
   ],
   "source": [
    "a = input(\"Enter the string\")\n",
    "print(type(a))\n",
    "for i in a:\n",
    "    print(i, end=\" \")"
   ]
  },
  {
   "cell_type": "code",
   "execution_count": 9,
   "id": "63e5d907",
   "metadata": {},
   "outputs": [
    {
     "name": "stdout",
     "output_type": "stream",
     "text": [
      "enter the charactor which you want to delete: i\n",
      "hello nda  am the prama\n"
     ]
    }
   ],
   "source": [
    "# WAP to delete perticular charactor from string\n",
    "name = \"hello india i am the prama\"\n",
    "\n",
    "char = input(\"enter the charactor which you want to delete: \")\n",
    "new_name = \"\"\n",
    "for ele in name:\n",
    "    if(ele == char):\n",
    "        continue\n",
    "    else:\n",
    "        new_name += ele\n",
    "        \n",
    "print(new_name)"
   ]
  },
  {
   "cell_type": "code",
   "execution_count": null,
   "id": "859db69c",
   "metadata": {},
   "outputs": [],
   "source": []
  },
  {
   "cell_type": "code",
   "execution_count": null,
   "id": "5c195bbb",
   "metadata": {},
   "outputs": [],
   "source": []
  },
  {
   "cell_type": "code",
   "execution_count": null,
   "id": "850f6032",
   "metadata": {},
   "outputs": [],
   "source": []
  },
  {
   "cell_type": "code",
   "execution_count": null,
   "id": "2f993414",
   "metadata": {},
   "outputs": [],
   "source": []
  },
  {
   "cell_type": "code",
   "execution_count": null,
   "id": "589ba71b",
   "metadata": {},
   "outputs": [],
   "source": []
  },
  {
   "cell_type": "code",
   "execution_count": null,
   "id": "9286296e",
   "metadata": {},
   "outputs": [],
   "source": []
  }
 ],
 "metadata": {
  "kernelspec": {
   "display_name": "Python 3 (ipykernel)",
   "language": "python",
   "name": "python3"
  },
  "language_info": {
   "codemirror_mode": {
    "name": "ipython",
    "version": 3
   },
   "file_extension": ".py",
   "mimetype": "text/x-python",
   "name": "python",
   "nbconvert_exporter": "python",
   "pygments_lexer": "ipython3",
   "version": "3.9.7"
  }
 },
 "nbformat": 4,
 "nbformat_minor": 5
}
