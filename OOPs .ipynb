{
 "cells": [
  {
   "cell_type": "markdown",
   "id": "c2d7d3cd",
   "metadata": {},
   "source": [
    "# <font color =\"green\"> <center> Object oriented programming: Class, Objects and Inheritance"
   ]
  },
  {
   "cell_type": "markdown",
   "id": "6e5f76aa",
   "metadata": {},
   "source": [
    "**Python is an Object oriented language**. OOPs help a programmer to reduce the complexity of program by reusing existing modules or function. the concept of **object oriented programming language is based on class.**"
   ]
  },
  {
   "cell_type": "markdown",
   "id": "278f73d5",
   "metadata": {},
   "source": [
    "Syntax:\n",
    "\n",
    "class Class_name:\n",
    "\n",
    "        Initializer\n",
    "        \n",
    "        attributes \n",
    "        \n",
    "        method() \n",
    "        \n",
    "        Statements(s)"
   ]
  },
  {
   "cell_type": "markdown",
   "id": "00b833db",
   "metadata": {},
   "source": [
    "# 1. adding attributs to a class"
   ]
  },
  {
   "cell_type": "code",
   "execution_count": 1,
   "id": "e5e40366",
   "metadata": {},
   "outputs": [
    {
     "name": "stdout",
     "output_type": "stream",
     "text": [
      "Wlcome to Object Oriented Programming\n",
      "<__main__.MyFirstProgram object at 0x0000015212C6FD90>\n"
     ]
    }
   ],
   "source": [
    "# write a simple OOPs program to print \"Welcome to OOPs program\"\n",
    "\n",
    "class MyFirstProgram:\n",
    "    print(\"Wlcome to Object Oriented Programming\")\n",
    "    \n",
    "    \n",
    "c = MyFirstProgram()   # instance of class\n",
    "print(c)"
   ]
  },
  {
   "cell_type": "code",
   "execution_count": 2,
   "id": "d56a90cb",
   "metadata": {},
   "outputs": [
    {
     "name": "stdout",
     "output_type": "stream",
     "text": [
      "2\n",
      "5\n"
     ]
    }
   ],
   "source": [
    "#  Write a program to access the attributes of class\n",
    "\n",
    "class rectangle:\n",
    "    length = 2;\n",
    "    breath = 5;   # length and breath are Attribute\n",
    "    \n",
    "R1 = rectangle ()  # Instance of class\n",
    "\n",
    "print(R1.length)\n",
    "print(R1.breath)    # access Attributs"
   ]
  },
  {
   "cell_type": "markdown",
   "id": "f6207d28",
   "metadata": {},
   "source": [
    "# 2. Assingning value to an attributes"
   ]
  },
  {
   "cell_type": "code",
   "execution_count": 3,
   "id": "ee14dea1",
   "metadata": {},
   "outputs": [
    {
     "name": "stdout",
     "output_type": "stream",
     "text": [
      "0\n",
      "0\n",
      "Area of rectangle before Assign attributes is 0\n",
      "\n",
      "40\n",
      "50\n",
      "Area of rectangle after Assign attributes is 2000\n"
     ]
    }
   ],
   "source": [
    "# Write a program to claculate the area of a rectangle by assigning the value to the attributes of a rectangle.\n",
    "\n",
    "class Rectangle:\n",
    "    length = 0;\n",
    "    breath = 0;\n",
    "\n",
    "R1 = Rectangle()\n",
    "\n",
    "print(R1.length)\n",
    "print(R1.breath)\n",
    "print(f\"Area of rectangle before Assign attributes is {R1.length * R1.breath}\\n\")\n",
    "\n",
    "\n",
    "R1.length = 40;\n",
    "R1.breath = 50;\n",
    "print(R1.length)\n",
    "print(R1.breath)\n",
    "print(f\"Area of rectangle after Assign attributes is {R1.length * R1.breath}\")\n"
   ]
  },
  {
   "cell_type": "markdown",
   "id": "7991a7d5",
   "metadata": {},
   "source": [
    "# 3. The Self-Parameter and adding methods to a class"
   ]
  },
  {
   "cell_type": "code",
   "execution_count": 4,
   "id": "c3479470",
   "metadata": {},
   "outputs": [
    {
     "name": "stdout",
     "output_type": "stream",
     "text": [
      "Welcome to python programming\n"
     ]
    }
   ],
   "source": [
    "# Write a program to create a method Display_Massage() in a class having the name MethodDemo\n",
    "\n",
    "class MethodDemo:\n",
    "    def Display_Massage(self):\n",
    "        print(\"Welcome to python programming\")\n",
    "\n",
    "ob1 = MethodDemo()         # instance of class\n",
    "ob1.Display_Massage()      # calling method"
   ]
  },
  {
   "cell_type": "code",
   "execution_count": 5,
   "id": "c3cb3437",
   "metadata": {},
   "outputs": [
    {
     "name": "stdout",
     "output_type": "stream",
     "text": [
      "radius =  5\n",
      "Area of circle is =  78.5398\n"
     ]
    }
   ],
   "source": [
    "# Write a program to create a class name Circle. pass the parameter redius to the method.\n",
    "\n",
    "import math\n",
    "class Circle:\n",
    "    def Calc_Area(self,radius):\n",
    "        print(\"radius = \",radius)\n",
    "        return math.pi*radius**2\n",
    "\n",
    "ob1 = Circle()\n",
    "print(\"Area of circle is = \", round(ob1.Calc_Area(5),4))"
   ]
  },
  {
   "cell_type": "code",
   "execution_count": 6,
   "id": "8c8b194c",
   "metadata": {},
   "outputs": [
    {
     "name": "stdout",
     "output_type": "stream",
     "text": [
      "length  5\n",
      "breath  6\n",
      "Area of rectangle is = 30\n"
     ]
    }
   ],
   "source": [
    "# write the program to calculate area of rectangle \n",
    "\n",
    "class Rectangle:\n",
    "    def Calc_Area_Rect(self,length,breath):\n",
    "        print(\"length \", length)\n",
    "        print(\"breath \", breath)\n",
    "        return length*breath\n",
    "\n",
    "ob1 = Rectangle()\n",
    "print(\"Area of rectangle is =\", ob1.Calc_Area_Rect(5,6))"
   ]
  },
  {
   "cell_type": "code",
   "execution_count": 7,
   "id": "1b7db9b5",
   "metadata": {},
   "outputs": [
    {
     "name": "stdout",
     "output_type": "stream",
     "text": [
      "30\n",
      "5\n"
     ]
    }
   ],
   "source": [
    "# demonstrate the use of self with an instance variable. (Very imp concept)\n",
    "\n",
    "class Prac:\n",
    "    x = 5\n",
    "    def Disp(self,x):\n",
    "        x = 30\n",
    "        print(x)          # local variable \n",
    "        print(self.x)     # instance Variable\n",
    "\n",
    "ob = Prac()\n",
    "ob.Disp(0)"
   ]
  },
  {
   "cell_type": "markdown",
   "id": "f2c67fbf",
   "metadata": {},
   "source": [
    "# 4. The self-parameter with Method\n",
    "**The self is also used within methods to call another method from the same class**"
   ]
  },
  {
   "cell_type": "code",
   "execution_count": 10,
   "id": "7209bf73",
   "metadata": {},
   "outputs": [
    {
     "name": "stdout",
     "output_type": "stream",
     "text": [
      "In Method B calling method A\n",
      "In Method A\n",
      "Wow got a called from A\n"
     ]
    }
   ],
   "source": [
    "# Write a program to create two methods and call them. (Very IMP concept)\n",
    "\n",
    "class Self_Demo:\n",
    "    def Method_A(self):\n",
    "        print(\"In Method A\")\n",
    "        print(\"Wow got a called from A\")\n",
    "    def Method_B(self):\n",
    "        print(\"In Method B calling method A\")\n",
    "        self.Method_A()                           # call method_A\n",
    "        \n",
    "Q= Self_Demo()\n",
    "Q.Method_B()    "
   ]
  },
  {
   "cell_type": "code",
   "execution_count": 11,
   "id": "2a3dc859",
   "metadata": {},
   "outputs": [
    {
     "data": {
      "text/plain": [
       "['__class__',\n",
       " '__delattr__',\n",
       " '__dict__',\n",
       " '__dir__',\n",
       " '__doc__',\n",
       " '__eq__',\n",
       " '__format__',\n",
       " '__ge__',\n",
       " '__getattribute__',\n",
       " '__gt__',\n",
       " '__hash__',\n",
       " '__init__',\n",
       " '__init_subclass__',\n",
       " '__le__',\n",
       " '__lt__',\n",
       " '__module__',\n",
       " '__ne__',\n",
       " '__new__',\n",
       " '__reduce__',\n",
       " '__reduce_ex__',\n",
       " '__repr__',\n",
       " '__setattr__',\n",
       " '__sizeof__',\n",
       " '__str__',\n",
       " '__subclasshook__',\n",
       " '__weakref__']"
      ]
     },
     "execution_count": 11,
     "metadata": {},
     "output_type": "execute_result"
    }
   ],
   "source": [
    "# special class attributes\n",
    "\n",
    "class Demol:\n",
    "    pass\n",
    "D1= Demol()\n",
    "\n",
    "dir(D1)"
   ]
  },
  {
   "cell_type": "markdown",
   "id": "4c5bdc3d",
   "metadata": {},
   "source": [
    "**List of Special Attributes of a class**\n",
    "\n",
    "   **Attributes**---------------------**meaning**\n",
    "   \n",
    "**C.__class__**------------------->String name of class\n",
    "\n",
    "**C.__doc__**--------------------->Documentation string for class\n",
    "\n",
    "**C.__dict__**-------------------->Attributes of class\n",
    "\n",
    "**C.__module__**------------------>Module where class is defined "
   ]
  },
  {
   "cell_type": "markdown",
   "id": "e3d493fc",
   "metadata": {},
   "source": [
    "# <center> 5. Accessibility\n",
    "\n",
    "In python, there are no keywords like **public, protected, or private.** all attributes and methods are public by default.\n",
    " \n",
    "There is one way to define **private** in python.\n",
    "    \n",
    "    __Attribute\n",
    "    \n",
    "    __methods_Name()"
   ]
  },
  {
   "cell_type": "code",
   "execution_count": 12,
   "id": "01e574f0",
   "metadata": {},
   "outputs": [
    {
     "name": "stdout",
     "output_type": "stream",
     "text": [
      "Name = Bill Gates\n",
      "Name = Bill Gates\n",
      "Bank Account Number = 98665986\n"
     ]
    }
   ],
   "source": [
    "# Write a program to illustrate the use of private\n",
    "\n",
    "class Person:\n",
    "    def __init__(self):\n",
    "        self.Name = \"Bill Gates\"\n",
    "        self.__BankAccNo = 98665986\n",
    "        \n",
    "    def Display(self):\n",
    "        \n",
    "        print(\"Name =\", self.Name)\n",
    "        print(\"Bank Account Number =\", self.__BankAccNo)\n",
    "\n",
    "P = Person()\n",
    "\n",
    "#Access public attribute outside class\n",
    "print(\"Name =\", P.Name)\n",
    "P.Display()\n",
    "\n",
    "\n",
    "# Try to access private variable outside class but fails\n",
    "\n",
    "# print(\"salary =\", P.BankAccNo)\n",
    "# P.Display()"
   ]
  },
  {
   "cell_type": "markdown",
   "id": "ac5a84ea",
   "metadata": {},
   "source": [
    "# <font color =\"green\">6. The _ _init_ _ method (constructor)\n",
    "\n",
    " The **_ _init_ _** method is known as an initialiser. it is a special method that is used to ***initialise the instance variable*** of an object. this method run as soon as an object of class is instantiated. "
   ]
  },
  {
   "cell_type": "code",
   "execution_count": 13,
   "id": "bd965d68",
   "metadata": {},
   "outputs": [
    {
     "name": "stdout",
     "output_type": "stream",
     "text": [
      "The area of Circle is =  78.5\n"
     ]
    }
   ],
   "source": [
    "#  write a program using the init method\n",
    "\n",
    "class Circle:\n",
    "    \n",
    "    def __init__(self,pi):\n",
    "        self.pi = pi\n",
    "    def Calc_area(self,radius):\n",
    "        return self.pi *radius **2\n",
    "\n",
    "C1 = Circle(3.14)\n",
    "print(\"The area of Circle is = \",C1.Calc_area(5))"
   ]
  },
  {
   "cell_type": "code",
   "execution_count": 14,
   "id": "f69fefd5",
   "metadata": {},
   "outputs": [
    {
     "name": "stdout",
     "output_type": "stream",
     "text": [
      "radius  5\n",
      "The area of cirle is =  78.5\n"
     ]
    }
   ],
   "source": [
    "# write a program to initialise the value of the attributes by making use of the init method\n",
    "\n",
    "class Circle:\n",
    "    pi = 0;\n",
    "    radius = 0\n",
    "    def __init__(self):\n",
    "        self.pi = 3.14\n",
    "        self.radius = 5\n",
    "    def calc_area(self):\n",
    "        print(\"radius \", self.radius)\n",
    "        return self.pi*self.radius**2\n",
    "    \n",
    "    \n",
    "C1 = Circle()\n",
    "print(\"The area of cirle is = \", C1.calc_area())"
   ]
  },
  {
   "cell_type": "code",
   "execution_count": 15,
   "id": "a9a9977b",
   "metadata": {},
   "outputs": [
    {
     "name": "stdout",
     "output_type": "stream",
     "text": [
      "width =  5\n",
      "height =  5\n",
      "depth =  5\n",
      "The valome of box is =  125\n"
     ]
    }
   ],
   "source": [
    "# Write a program to calculate the volume of box\n",
    "\n",
    "class Box:\n",
    "    width=0;\n",
    "    height=0;\n",
    "    depth=0;\n",
    "    volume=0;\n",
    "    def __init__(self):\n",
    "        self.width=5\n",
    "        self.height=5\n",
    "        self.depth=5\n",
    "    def Calc_volume(self):\n",
    "        print(\"width = \",self.width)\n",
    "        print(\"height = \", self.height)\n",
    "        print(\"depth = \", self.depth)\n",
    "        return self.width * self.height * self.depth\n",
    "    \n",
    "B1 = Box()\n",
    "print(\"The valome of box is = \", B1.Calc_volume())"
   ]
  },
  {
   "cell_type": "code",
   "execution_count": null,
   "id": "f7ad57f1",
   "metadata": {},
   "outputs": [],
   "source": []
  },
  {
   "cell_type": "markdown",
   "id": "2753aae7",
   "metadata": {},
   "source": [
    "# <center> <font color = \"green\">7. Passing An Object As Parameter To A Method"
   ]
  },
  {
   "cell_type": "code",
   "execution_count": 16,
   "id": "7824a443",
   "metadata": {},
   "outputs": [
    {
     "name": "stdout",
     "output_type": "stream",
     "text": [
      "obj1 == obj2 True\n",
      "obj1 == obj3 False\n"
     ]
    }
   ],
   "source": [
    "# write a program to pass an object as parameter to a method\n",
    "\n",
    "class Test:\n",
    "    a=0\n",
    "    b=0\n",
    "    def __init__(self,x,y):\n",
    "        self.a = x\n",
    "        self.b = y\n",
    "    def equals(self,obj):\n",
    "        if(obj.a == self.a and obj.b== self.b):\n",
    "            return True\n",
    "        else:\n",
    "            return False\n",
    "\n",
    "obj1 = Test(10,20)\n",
    "obj2 = Test(10,20)\n",
    "obj3 = Test(12,90)\n",
    "\n",
    "print(\"obj1 == obj2\", obj1.equals(obj2))\n",
    "print(\"obj1 == obj3\", obj1.equals(obj3))"
   ]
  },
  {
   "cell_type": "code",
   "execution_count": 17,
   "id": "9eb73ffb",
   "metadata": {},
   "outputs": [
    {
     "name": "stdout",
     "output_type": "stream",
     "text": [
      "length = 10\n",
      "width = 20\n",
      "The area of reactangle is = 200\n"
     ]
    }
   ],
   "source": [
    "# Write a program to calculate the area of a rectangle by passing an object as parameter\n",
    "\n",
    "class Rectangle:\n",
    "    length =0;\n",
    "    width =0;\n",
    "    def __init__(self, l, w):\n",
    "        self.length = l\n",
    "        self.width = w\n",
    "    def calc_rect(self,obj):\n",
    "        print(\"length =\", self.length)\n",
    "        print(\"width =\", self.width)\n",
    "        return self.length * self.width\n",
    "\n",
    "    \n",
    "obj1 = Rectangle(10,20)\n",
    "print(\"The area of reactangle is =\", obj1.calc_rect(obj1))"
   ]
  },
  {
   "cell_type": "code",
   "execution_count": null,
   "id": "35b8de76",
   "metadata": {},
   "outputs": [],
   "source": []
  },
  {
   "cell_type": "markdown",
   "id": "b61dcbcc",
   "metadata": {},
   "source": [
    "# <font color =\"green\">8. The _ _del_ _ method (DESTRUCTOR)"
   ]
  },
  {
   "cell_type": "code",
   "execution_count": 18,
   "id": "b02082ad",
   "metadata": {},
   "outputs": [
    {
     "name": "stdout",
     "output_type": "stream",
     "text": [
      "Welcome\n",
      "Id of obj1 =  1452014483104\n",
      "Id of obj2 =  1452014483104\n",
      "Id of obj3 =  1452014483104\n",
      "Destructor executed successfully\n"
     ]
    }
   ],
   "source": [
    "# Write a program to illustrate the use of the __del__ method\n",
    "\n",
    "class Destructor_Demo:\n",
    "    def __init__(self):        #constructor\n",
    "        print(\"Welcome\")\n",
    "    def __del__(self):         #DESTRUCTOR\n",
    "        print(\"Destructor executed successfully\")\n",
    "        \n",
    "obj1 = Destructor_Demo()\n",
    "obj2 = obj1\n",
    "obj3 = obj1\n",
    "\n",
    "print(\"Id of obj1 = \", id(obj1))\n",
    "print(\"Id of obj2 = \", id(obj2))\n",
    "print(\"Id of obj3 = \", id(obj3))\n",
    "\n",
    "\n",
    "del obj2\n",
    "del obj1\n",
    "del obj3\n",
    "\n",
    "#inbuilt Function id():is used to confrim that all the three aliases reference to the same object\n",
    "# The destructor __del__ is not invoked unless all the aliases are deleted\n",
    "# The destructor is called exactly once."
   ]
  },
  {
   "cell_type": "markdown",
   "id": "79d85627",
   "metadata": {},
   "source": [
    "# <font color =\"green\"> 9. Method of Overloading   "
   ]
  },
  {
   "cell_type": "markdown",
   "id": "407e3c43",
   "metadata": {},
   "source": [
    "- It simply refers to having **multiple methods with the same name** which accept different set of arguments.\n",
    "\n",
    "- Overloading can be solved by using the inbuilt function **isinstanceof**"
   ]
  },
  {
   "cell_type": "code",
   "execution_count": null,
   "id": "307bd2b9",
   "metadata": {},
   "outputs": [],
   "source": [
    "# Program on overloading \n",
    "\n",
    "# class OverloadDemo:\n",
    "#     def add(self,a, b):\n",
    "#         print(a + b)\n",
    "#     def add(self, a, b, c):\n",
    "#         print(a + b + c)\n",
    "\n",
    "# P= OverloadDemo()\n",
    "# P.add(10,20)\n",
    "\n",
    "# it shows Error --> add() missing 1 required positional argument: 'c'"
   ]
  },
  {
   "cell_type": "code",
   "execution_count": null,
   "id": "5abfb52b",
   "metadata": {},
   "outputs": [],
   "source": []
  },
  {
   "cell_type": "markdown",
   "id": "ddba1816",
   "metadata": {},
   "source": [
    "# <font color =\"green\"> <center> 10. Special Method "
   ]
  },
  {
   "cell_type": "markdown",
   "id": "c46c1e34",
   "metadata": {},
   "source": [
    "**Special method for Arithmatic Operation**"
   ]
  },
  {
   "cell_type": "markdown",
   "id": "f4ed29a9",
   "metadata": {},
   "source": [
    "**operation** ------------------**special method**-----------------**Description**\n",
    "\n",
    "- x+y ------------------->    **_ _add_ _**(self,Other)-------------------> Add x and y\n",
    "- x-y ------------------->    **_ _sub_ _**(self,Other)-------------------> Subtract x and y\n",
    "- x*y ------------------->    _ _mul_ _ (self,Other)-------------------> product x and y\n",
    "- x/y ------------------->    **_ _truediv_ _**(self,Other)-----------> y divides x and it shows the quotient as its output \n",
    "- x//y ------------------->    **_ _floordiv_ _**(self,Other)-------------------> floored quotient of x and y\n",
    "- x % y ------------------->    **_ _mod_ _**(self,Other)-------------------> x mod y gives a remainder when dividing x and y\n",
    "- -X ------------------->   **_ _neg_ _**(self,Other)-------------------> Arithmatic negative of X"
   ]
  },
  {
   "cell_type": "code",
   "execution_count": 19,
   "id": "40226ade",
   "metadata": {},
   "outputs": [
    {
     "name": "stdout",
     "output_type": "stream",
     "text": [
      "the value of ob1 = 20\n",
      "the value of ob2 = 30\n",
      "the addition of two object is  =50\n"
     ]
    }
   ],
   "source": [
    "# Write a program to overload the + Operator and perform the addition of two objects\n",
    "\n",
    "class OprOverloadingDemo:\n",
    "    def __init__(self,x):\n",
    "        self.x = x\n",
    "        \n",
    "    def __add__(self,other):\n",
    "        print(\"the value of ob1 =\", self.x)\n",
    "        print(\"the value of ob2 =\", other.x)\n",
    "        print(\"the addition of two object is  =\", end=\"\")\n",
    "        return ((self.x+other.x))\n",
    "\n",
    "ob1 = OprOverloadingDemo(20)\n",
    "ob2 = OprOverloadingDemo(30)\n",
    "ob3 = ob1 + ob2\n",
    "\n",
    "print(ob3)"
   ]
  },
  {
   "cell_type": "code",
   "execution_count": null,
   "id": "822ae150",
   "metadata": {},
   "outputs": [],
   "source": []
  },
  {
   "cell_type": "markdown",
   "id": "fd9200d5",
   "metadata": {},
   "source": [
    "**Special method for Comparing Type**"
   ]
  },
  {
   "cell_type": "markdown",
   "id": "7972524f",
   "metadata": {},
   "source": [
    "- x==y ------------------->    **_ _eq_ _**(self,Other)-------------------> x is equal to y\n",
    "- x < y ------------------->    **_ _lt_ _**(self,Other)-------------------> x is less than y\n",
    "- x <= y ------------------->    **_ _le_ _**(self,Other)-------------------> x is less than or equal to y\n",
    "- x > y ------------------->    **_ _gt_ _**(self,Other)-------------------> x is greater than y\n",
    "- x >= y ------------------->    **_ _ge_ _**(self,Other)-------------------> x is greater than or equal to y\n",
    "\n"
   ]
  },
  {
   "cell_type": "code",
   "execution_count": 20,
   "id": "1e0d0d63",
   "metadata": {},
   "outputs": [
    {
     "name": "stdout",
     "output_type": "stream",
     "text": [
      "the value of ob1 = 20\n",
      "the value of ob2 = 30\n",
      "ob1 < ob2: True\n",
      "ob1 <= ob2: True\n",
      "ob1 > ob2: False\n"
     ]
    }
   ],
   "source": [
    "# program for comparing Type\n",
    "\n",
    "class CmpOprDemo:\n",
    "    def __init__(self,x):\n",
    "        self.x = x\n",
    "        \n",
    "    def __lt__(self,other):\n",
    "        print(\"the value of ob1 =\", self.x)\n",
    "        print(\"the value of ob2 =\", other.x)\n",
    "        print(\"ob1 < ob2: \", end=\"\")\n",
    "        return self.x < other.x\n",
    "    \n",
    "    def __gt__(self,other):\n",
    "        print(\"ob1 > ob2: \", end=\"\")\n",
    "        return self.x > other.x\n",
    "    \n",
    "    def __le__(self,other):\n",
    "        print(\"ob1 <= ob2: \", end=\"\")\n",
    "        return self.x <= other.x\n",
    "\n",
    "    \n",
    "ob1 = CmpOprDemo(20)\n",
    "ob2 = CmpOprDemo(30)\n",
    "print(ob1 < ob2)\n",
    "print(ob1 <= ob2)\n",
    "print(ob1 > ob2)"
   ]
  },
  {
   "cell_type": "markdown",
   "id": "e6596fcc",
   "metadata": {},
   "source": [
    "**Special Method For Overloading Inbult Function**"
   ]
  },
  {
   "cell_type": "markdown",
   "id": "feb11a07",
   "metadata": {},
   "source": [
    "- abs() ------------------->    **_ _abs_ _**(self)-------------------> Absolute value of x \n",
    "- float() ------------------->    **_ _float_ _**(self)-------------------> Float equivalent of x\n",
    "- str(x) ------------------->    **_ _str_ _**(self)-------------------> string representation of x\n",
    "- iter(x) ------------------->    **_ _itr_ _**(self)-------------------> iterator  of x\n",
    "- hash(x) ------------------->    **_ _hash_ _**(self)-------------------> Genrates an integer hash code for x\n",
    "- len(x) ------------------->    **_ _len_ _**(self)-------------------> Length of x"
   ]
  },
  {
   "cell_type": "code",
   "execution_count": null,
   "id": "73f7ecd9",
   "metadata": {},
   "outputs": [],
   "source": []
  },
  {
   "cell_type": "code",
   "execution_count": null,
   "id": "9add4d86",
   "metadata": {},
   "outputs": [],
   "source": []
  },
  {
   "cell_type": "markdown",
   "id": "217481e7",
   "metadata": {},
   "source": [
    "# <font color =\"RED\"> <center> 11. INHERITANCE"
   ]
  },
  {
   "cell_type": "markdown",
   "id": "14d111e9",
   "metadata": {},
   "source": [
    " **Types of class**\n",
    " \n",
    " - Base class (parent class or super class)\n",
    " - Derived class (child class or subclass)\n",
    " "
   ]
  },
  {
   "cell_type": "code",
   "execution_count": 21,
   "id": "36b4b70d",
   "metadata": {},
   "outputs": [
    {
     "name": "stdout",
     "output_type": "stream",
     "text": [
      "Hello i am in base class\n",
      "Wow, I am in derived class\n"
     ]
    }
   ],
   "source": [
    "# write a program on inheritance\n",
    "\n",
    "class A:        # base class\n",
    "    print(\"Hello i am in base class\")\n",
    "    \n",
    "class B(A):     # derived class\n",
    "    print(\"Wow, I am in derived class\")\n",
    "    \n",
    "ob2 = A()"
   ]
  },
  {
   "cell_type": "code",
   "execution_count": 22,
   "id": "b7dbd3a2",
   "metadata": {},
   "outputs": [
    {
     "ename": "AttributeError",
     "evalue": "'Point' object has no attribute 'Draw'",
     "output_type": "error",
     "traceback": [
      "\u001b[1;31m---------------------------------------------------------------------------\u001b[0m",
      "\u001b[1;31mAttributeError\u001b[0m                            Traceback (most recent call last)",
      "\u001b[1;32mC:\\Users\\PRAMOD~1\\AppData\\Local\\Temp/ipykernel_7344/1008657492.py\u001b[0m in \u001b[0;36m<module>\u001b[1;34m\u001b[0m\n\u001b[0;32m     13\u001b[0m \u001b[0mP\u001b[0m \u001b[1;33m=\u001b[0m \u001b[0mPoint\u001b[0m\u001b[1;33m(\u001b[0m\u001b[1;33m)\u001b[0m\u001b[1;33m\u001b[0m\u001b[1;33m\u001b[0m\u001b[0m\n\u001b[0;32m     14\u001b[0m \u001b[0mP\u001b[0m\u001b[1;33m.\u001b[0m\u001b[0mSet_Cordinate\u001b[0m\u001b[1;33m(\u001b[0m\u001b[1;36m10\u001b[0m\u001b[1;33m,\u001b[0m\u001b[1;36m20\u001b[0m\u001b[1;33m)\u001b[0m\u001b[1;33m\u001b[0m\u001b[1;33m\u001b[0m\u001b[0m\n\u001b[1;32m---> 15\u001b[1;33m \u001b[0mP\u001b[0m\u001b[1;33m.\u001b[0m\u001b[0mDraw\u001b[0m\u001b[1;33m(\u001b[0m\u001b[1;33m)\u001b[0m\u001b[1;33m\u001b[0m\u001b[1;33m\u001b[0m\u001b[0m\n\u001b[0m",
      "\u001b[1;31mAttributeError\u001b[0m: 'Point' object has no attribute 'Draw'"
     ]
    }
   ],
   "source": [
    "# write a program to create base class with Point. Define the method Set_Cordinate(X,Y),\n",
    "# Define the new class as New_Point, which inherits the Point class. Also add draw() method inside the subclass.\n",
    "\n",
    "class Point:                       #Base class\n",
    "    def Set_Cordinate(self,x,y):\n",
    "        self.x = x\n",
    "        self.y = y\n",
    "class New_Point(Point):                #Derived Class\n",
    "    def Draw(self):\n",
    "        print(\"Locate Point X =\", self.x, \"on x axis\")\n",
    "        print(\"Locate Point Y =\", self.y, \"on y axis\")\n",
    "\n",
    "P = Point()\n",
    "P.Set_Cordinate(10,20)\n",
    "P.Draw()"
   ]
  },
  {
   "cell_type": "code",
   "execution_count": 23,
   "id": "2c2a0095",
   "metadata": {},
   "outputs": [
    {
     "name": "stdout",
     "output_type": "stream",
     "text": [
      "Content of ob1\n",
      "i = 100 j = 200\n",
      "\n",
      "\n",
      "Content of ob2\n",
      "i = 100 j = 200\n",
      "i = 100 j = 200 k = 300\n",
      "\n",
      "\n",
      "sum of i,j,k in ob2\n",
      "i + j +  k = 600\n"
     ]
    }
   ],
   "source": [
    "# Write a program to inherit attributes of the parent class to child class\n",
    "\n",
    "class A:\n",
    "    i =0;\n",
    "    j =0;\n",
    "    def Showij(self):\n",
    "        print(\"i =\", self.i, \"j =\", self.j)\n",
    "class B(A):\n",
    "    k = 0;\n",
    "    def Showijk(self):\n",
    "        print(\"i =\", self.i, \"j =\", self.j, \"k =\",self.k)\n",
    "    def sum(self):\n",
    "        print(\"i + j +  k =\", self.i+self.j+self.k)\n",
    "        \n",
    "ob1 = A()\n",
    "ob2 = B()\n",
    "ob1.i = 100\n",
    "ob1.j = 200\n",
    "print(\"Content of ob1\")\n",
    "ob1.Showij()\n",
    "print(\"\\n\")\n",
    "\n",
    "ob2.i =100\n",
    "ob2.j =200\n",
    "ob2.k =300\n",
    "print(\"Content of ob2\")\n",
    "ob2.Showij()\n",
    "ob2.Showijk()\n",
    "print(\"\\n\")\n",
    "\n",
    "print(\"sum of i,j,k in ob2\")\n",
    "ob2.sum()"
   ]
  },
  {
   "cell_type": "code",
   "execution_count": null,
   "id": "794151ed",
   "metadata": {},
   "outputs": [],
   "source": []
  },
  {
   "attachments": {
    "image-2.png": {
     "image/png": "[encoded data removed]"
    },
    "image-3.png": {
     "image/png": "[encoded data removed]"
    },
    "image-4.png": {
     "image/png": "[encoded data removed]"
    },
    "image.png": {
     "image/png": "[encoded data removed]"
    }
   },
   "cell_type": "markdown",
   "id": "040bf381",
   "metadata": {},
   "source": [
    "**Types of Inheritance**\n",
    " \n",
    " - **single inheritance:** Single inheritance enables a derived class to inherit properties from a single parent class, thus enabling code reusability and the addition of new features to existing code.\n",
    " ![image.png](attachment:image.png)\n",
    " \n",
    " \n",
    " - **multilevel inheritance:** In multilevel inheritance, features of the base class and the derived class are further inherited into the new derived class. This is similar to a relationship representing a child and a grandfather. \n",
    " \n",
    " ![image-3.png](attachment:image-3.png)\n",
    " \n",
    " \n",
    " - **multiple inheritance:** When a class can be derived from more than one base class this type of inheritance is called multiple inheritances. In multiple inheritances, all the features of the base classes are inherited into the derived class. \n",
    " \n",
    " ![image-2.png](attachment:image-2.png)\n",
    " \n",
    " \n",
    " - **Hierarchical Inheritance:** When more than one derived class are created from a single base this type of inheritance is called hierarchical inheritance. In this program, we have a parent (base) class and two child (derived) classes.\n",
    "\n",
    "![image-4.png](attachment:image-4.png)"
   ]
  },
  {
   "cell_type": "code",
   "execution_count": 24,
   "id": "408cab9f",
   "metadata": {},
   "outputs": [
    {
     "name": "stdout",
     "output_type": "stream",
     "text": [
      "This function is in parent class.\n",
      "This function is in child class.\n"
     ]
    }
   ],
   "source": [
    "# single inheritance\n",
    " \n",
    "# Base class\n",
    "class Parent:\n",
    "    def func1(self):\n",
    "        print(\"This function is in parent class.\")\n",
    "        \n",
    "        \n",
    " # Derived class\n",
    "class Child(Parent):\n",
    "    def func2(self):\n",
    "        print(\"This function is in child class.\")\n",
    " \n",
    " \n",
    "# Driver's code\n",
    "object = Child()\n",
    "object.func1()\n",
    "object.func2()"
   ]
  },
  {
   "cell_type": "code",
   "execution_count": 25,
   "id": "d8935061",
   "metadata": {},
   "outputs": [
    {
     "name": "stdout",
     "output_type": "stream",
     "text": [
      "Lal mani\n",
      "Grandfather name : Lal mani\n",
      "Father name : Rampal\n",
      "Son name : Prince\n"
     ]
    }
   ],
   "source": [
    "# multilevel inheritance\n",
    " \n",
    "# Base class\n",
    " \n",
    "class Grandfather:\n",
    " \n",
    "    def __init__(self, grandfathername):\n",
    "        self.grandfathername = grandfathername\n",
    "\n",
    "        \n",
    "# Intermediate class\n",
    "class Father(Grandfather):\n",
    "    def __init__(self, fathername, grandfathername):\n",
    "        self.fathername = fathername\n",
    " \n",
    "        # invoking constructor of Grandfather class\n",
    "        Grandfather.__init__(self, grandfathername)\n",
    "\n",
    "        \n",
    "# Derived class \n",
    "class Son(Father):\n",
    "    def __init__(self, sonname, fathername, grandfathername):\n",
    "        self.sonname = sonname\n",
    " \n",
    "        # invoking constructor of Father class\n",
    "        Father.__init__(self, fathername, grandfathername)\n",
    " \n",
    "    def print_name(self):\n",
    "        print('Grandfather name :', self.grandfathername)\n",
    "        print(\"Father name :\", self.fathername)\n",
    "        print(\"Son name :\", self.sonname)\n",
    " \n",
    " \n",
    "#  Driver code\n",
    "s1 = Son('Prince', 'Rampal', 'Lal mani')\n",
    "print(s1.grandfathername)\n",
    "s1.print_name()"
   ]
  },
  {
   "cell_type": "code",
   "execution_count": 26,
   "id": "7916374d",
   "metadata": {},
   "outputs": [
    {
     "name": "stdout",
     "output_type": "stream",
     "text": [
      "Enter the following data: \n",
      "enter Name: Pramod Rathod\n",
      "enter age:24\n",
      "enter height: 5.8\n",
      "Enter weight: 60\n",
      "Entered values are as fallow: \n",
      "name = Pramod Rathod\n",
      "age = 24\n",
      "height= 5.8\n",
      "weight = 60\n"
     ]
    }
   ],
   "source": [
    "# miltilevel inheritance\n",
    "\n",
    "class A:\n",
    "    name = \" \"\n",
    "    age = 0;\n",
    "    \n",
    "class B(A):\n",
    "    height = \" \"\n",
    "    \n",
    "class C(B):\n",
    "    weight = \" \"\n",
    "    \n",
    "    def Read(self):\n",
    "        print(\"Enter the following data: \")\n",
    "        self.name = input(\"enter Name: \")\n",
    "        self.age = int(input(\"enter age:\"))\n",
    "        self.height = (input(\"enter height: \"))\n",
    "        self.weight = (int(input(\"Enter weight: \")))\n",
    "        \n",
    "    def Display(self):\n",
    "        print(\"Entered values are as fallow: \")\n",
    "        print(\"name =\", self.name)\n",
    "        print(\"age =\", self.age)\n",
    "        print(\"height=\", self.height)\n",
    "        print(\"weight =\", self.weight)\n",
    "\n",
    "B1 = C()\n",
    "B1.Read()\n",
    "B1.Display()"
   ]
  },
  {
   "cell_type": "code",
   "execution_count": 27,
   "id": "7405cf8e",
   "metadata": {},
   "outputs": [
    {
     "name": "stdout",
     "output_type": "stream",
     "text": [
      "Father : RAM\n",
      "Mother : SITA\n"
     ]
    }
   ],
   "source": [
    "# multiple inheritance\n",
    " \n",
    "\n",
    "class Mother:                # Base class1\n",
    "    mothername = \"\"\n",
    " \n",
    "    def mother(self):\n",
    "        print(self.mothername)\n",
    "        \n",
    "\n",
    "class Father:                    # Base class2\n",
    "    fathername = \"\"\n",
    " \n",
    "    def father(self):\n",
    "        print(self.fathername)\n",
    "        \n",
    "class Son(Mother, Father):          # Derived class\n",
    "    def parents(self):\n",
    "        print(\"Father :\", self.fathername)\n",
    "        print(\"Mother :\", self.mothername)\n",
    " \n",
    " \n",
    "# Driver's code\n",
    "s1 = Son()\n",
    "s1.fathername = \"RAM\"\n",
    "s1.mothername = \"SITA\"\n",
    "s1.parents()"
   ]
  },
  {
   "cell_type": "code",
   "execution_count": 28,
   "id": "8246dec2",
   "metadata": {},
   "outputs": [
    {
     "name": "stdout",
     "output_type": "stream",
     "text": [
      "Enter the following data: \n",
      "A =:65\n",
      "B =:75\n",
      "C =:0\n",
      "Entered values are as fallow: \n",
      "A = 65\n",
      "B = 75\n",
      "C = 0\n"
     ]
    }
   ],
   "source": [
    "# multiple inheritance\n",
    "\n",
    "class A():\n",
    "    a=0\n",
    "    \n",
    "class B():\n",
    "    b = 0\n",
    "    \n",
    "class C(A,B):\n",
    "    c = 0\n",
    "    \n",
    "    def Read(self):\n",
    "        print(\"Enter the following data: \")\n",
    "        self.a = int(input(\"A =:\"))\n",
    "        self.b = int(input(\"B =:\"))\n",
    "        self.c = int(input(\"C =:\"))\n",
    "        \n",
    "    def Display(self):\n",
    "        print(\"Entered values are as fallow: \")\n",
    "        print(\"A =\", self.a)\n",
    "        print(\"B =\", self.b)\n",
    "        print(\"C =\", self.c)\n",
    "        \n",
    "ob1 = C()\n",
    "ob1.Read()\n",
    "ob1.Display()"
   ]
  },
  {
   "cell_type": "code",
   "execution_count": 29,
   "id": "d0329ace",
   "metadata": {},
   "outputs": [
    {
     "name": "stdout",
     "output_type": "stream",
     "text": [
      "This function is in parent class.\n",
      "This function is in child 1.\n",
      "This function is in parent class.\n",
      "This function is in child 2.\n"
     ]
    }
   ],
   "source": [
    "# Hierarchical inheritance\n",
    " \n",
    "class Parent:            # Base class\n",
    "    def func1(self):\n",
    "        print(\"This function is in parent class.\")\n",
    "        \n",
    "        \n",
    "class Child1(Parent):                # Derived class1\n",
    "    def func2(self):\n",
    "        print(\"This function is in child 1.\")\n",
    "        \n",
    "        \n",
    "        \n",
    "class Child2(Parent):               # Derivied class2\n",
    "    def func3(self):\n",
    "        print(\"This function is in child 2.\")\n",
    " \n",
    " \n",
    "# Driver's code\n",
    "object1 = Child1()\n",
    "object2 = Child2()\n",
    "object1.func1()\n",
    "object1.func2()\n",
    "object2.func1()\n",
    "object2.func3()"
   ]
  },
  {
   "cell_type": "code",
   "execution_count": null,
   "id": "c3275d52",
   "metadata": {},
   "outputs": [],
   "source": []
  },
  {
   "cell_type": "code",
   "execution_count": null,
   "id": "add9a9c2",
   "metadata": {},
   "outputs": [],
   "source": []
  }
 ],
 "metadata": {
  "kernelspec": {
   "display_name": "Python 3 (ipykernel)",
   "language": "python",
   "name": "python3"
  },
  "language_info": {
   "codemirror_mode": {
    "name": "ipython",
    "version": 3
   },
   "file_extension": ".py",
   "mimetype": "text/x-python",
   "name": "python",
   "nbconvert_exporter": "python",
   "pygments_lexer": "ipython3",
   "version": "3.9.7"
  }
 },
 "nbformat": 4,
 "nbformat_minor": 5
}
