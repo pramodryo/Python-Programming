{
 "cells": [
  {
   "cell_type": "markdown",
   "id": "7bcec072",
   "metadata": {},
   "source": [
    "# <font color = red >  Q1. Python Enumarate Example"
   ]
  },
  {
   "cell_type": "code",
   "execution_count": 1,
   "id": "1cd79773",
   "metadata": {},
   "outputs": [
    {
     "name": "stdout",
     "output_type": "stream",
     "text": [
      "0 sachine\n",
      "1 hodda\n",
      "2 pramod\n",
      "3 divya\n",
      "4 deva\n",
      "5 kumar\n"
     ]
    }
   ],
   "source": [
    "\"\"\"enumatare() function adds a counter to an iterable objects(counter for column).\n",
    "it can accept sequential indexing starting from zero\"\"\"\n",
    "\n",
    "names = ('sachine', 'hodda','pramod','divya','deva','kumar')\n",
    "for i, name in enumerate(names):\n",
    "    print(i, name)"
   ]
  },
  {
   "cell_type": "markdown",
   "id": "1ff1d786",
   "metadata": {},
   "source": [
    "# <font color = red >  Q2. Python lambda Example"
   ]
  },
  {
   "cell_type": "markdown",
   "id": "fe365dfc",
   "metadata": {},
   "source": [
    "**What is lambada function?**\n",
    "\n",
    "A lambada function is a small **anonymous (a function that is defined without name)** function\n",
    "\n",
    "A lambada function can take any number of arguments, but can only have one expression"
   ]
  },
  {
   "cell_type": "code",
   "execution_count": 2,
   "id": "5f2ae2c5",
   "metadata": {},
   "outputs": [
    {
     "name": "stdout",
     "output_type": "stream",
     "text": [
      "25\n"
     ]
    }
   ],
   "source": [
    "x = lambda a: a+10 \n",
    "print(x(15))"
   ]
  },
  {
   "cell_type": "code",
   "execution_count": null,
   "id": "16722bcc",
   "metadata": {},
   "outputs": [],
   "source": []
  },
  {
   "cell_type": "code",
   "execution_count": null,
   "id": "7615a86d",
   "metadata": {},
   "outputs": [],
   "source": []
  },
  {
   "cell_type": "markdown",
   "id": "90912826",
   "metadata": {},
   "source": [
    "# <font color = green> Q2.  write a program to reverse the number in python"
   ]
  },
  {
   "cell_type": "code",
   "execution_count": 3,
   "id": "57e07d00",
   "metadata": {},
   "outputs": [
    {
     "name": "stdout",
     "output_type": "stream",
     "text": [
      "the reverse of the number is:  987654\n"
     ]
    }
   ],
   "source": [
    "# num = int(input(\"Enter your number: \"))\n",
    "\n",
    "num = 456789\n",
    "rev = 0\n",
    "while (num > 0):\n",
    "    dig = num%10\n",
    "    rev = rev*10 + dig\n",
    "    num = num // 10\n",
    "print(\"the reverse of the number is: \",rev)"
   ]
  },
  {
   "cell_type": "markdown",
   "id": "a2de5505",
   "metadata": {},
   "source": [
    "# #  Q3. Write a python program to calculate the average of givan number"
   ]
  },
  {
   "cell_type": "code",
   "execution_count": 4,
   "id": "2dc7e9e3",
   "metadata": {},
   "outputs": [
    {
     "name": "stdout",
     "output_type": "stream",
     "text": [
      "Average of my_list is 6.0\n"
     ]
    }
   ],
   "source": [
    "def Average(l): \n",
    "    avg = sum(l) / len(l) \n",
    "    return avg\n",
    "  \n",
    "my_list = [2,4,6,8,10] \n",
    "average = Average(my_list) \n",
    "  \n",
    "print(\"Average of my_list is\", average)"
   ]
  },
  {
   "cell_type": "code",
   "execution_count": 5,
   "id": "c9288166",
   "metadata": {},
   "outputs": [
    {
     "name": "stdout",
     "output_type": "stream",
     "text": [
      "Average of my_list is 6.0\n"
     ]
    }
   ],
   "source": [
    "def Average(my_list): \n",
    "    avg = sum(my_list) / len(my_list) \n",
    "    return avg\n",
    "  \n",
    "my_list = [2,4,6,8,10] \n",
    "average = Average(my_list)\n",
    "\n",
    "print(\"Average of my_list is\", average)"
   ]
  },
  {
   "cell_type": "code",
   "execution_count": null,
   "id": "a2d4dde3",
   "metadata": {},
   "outputs": [],
   "source": []
  },
  {
   "cell_type": "markdown",
   "id": "f363451f",
   "metadata": {},
   "source": [
    "# <font color = brown> Q4. Write a python program to find sum of the digits of a number"
   ]
  },
  {
   "cell_type": "code",
   "execution_count": 6,
   "id": "92debabf",
   "metadata": {},
   "outputs": [
    {
     "name": "stdout",
     "output_type": "stream",
     "text": [
      "The total sum of digits is: 39\n"
     ]
    }
   ],
   "source": [
    "# n = int(input(\"Enter a Number: \"))\n",
    "\n",
    "n = 456789\n",
    "tot = 0\n",
    "while (n>0):\n",
    "    dig = n%10                                 # it gives you reminder of number\n",
    "    tot = tot + dig\n",
    "    n = n // 10                                # how many times number divide completly\n",
    "print(\"The total sum of digits is:\", tot)\n"
   ]
  },
  {
   "cell_type": "markdown",
   "id": "a6669f09",
   "metadata": {},
   "source": [
    "# <font color = brown> Q5. In your choice of language, write a program that prints the numbers ranging from one to 30.\n"
   ]
  },
  {
   "cell_type": "markdown",
   "id": "534d4a4a",
   "metadata": {},
   "source": [
    "#### <font color = red> But for multiples of three, print \"Fizz\" instead of the number, and for the multiples of five, print \"Buzz.\" For numbers which are multiples of both three and five, print \"FizzBuzz\" "
   ]
  },
  {
   "cell_type": "code",
   "execution_count": 7,
   "id": "e82c1912",
   "metadata": {},
   "outputs": [
    {
     "name": "stdout",
     "output_type": "stream",
     "text": [
      "fizzbuzz\n",
      "1\n",
      "2\n",
      "fizz\n",
      "4\n",
      "buzz\n",
      "fizz\n",
      "7\n",
      "8\n",
      "fizz\n",
      "buzz\n",
      "11\n",
      "fizz\n",
      "13\n",
      "14\n",
      "fizzbuzz\n",
      "16\n",
      "17\n",
      "fizz\n",
      "19\n",
      "buzz\n",
      "fizz\n",
      "22\n",
      "23\n",
      "fizz\n",
      "buzz\n",
      "26\n",
      "fizz\n",
      "28\n",
      "29\n",
      "fizzbuzz\n"
     ]
    }
   ],
   "source": [
    "for number in range(31):\n",
    "    if number % 3 == 0 and number % 5 ==0:\n",
    "        print(\"fizzbuzz\")\n",
    "        continue\n",
    "    elif number % 3 ==0:\n",
    "        print(\"fizz\")\n",
    "        continue\n",
    "    elif number % 5 == 0:\n",
    "        print(\"buzz\")\n",
    "        continue\n",
    "    print(number)"
   ]
  },
  {
   "cell_type": "markdown",
   "id": "173c573e",
   "metadata": {},
   "source": [
    "# Q6. For the given points, how will you calculate the Euclidean distance in Python?"
   ]
  },
  {
   "cell_type": "code",
   "execution_count": 8,
   "id": "a5ae88a2",
   "metadata": {},
   "outputs": [],
   "source": [
    "# plot1 = [1,3]\n",
    "\n",
    "# plot2 = [2,5]\n",
    "\n",
    "# sqrt((plot1[0]-plot2[0])**2 + (plot1[1]-plot2[1])**2)"
   ]
  },
  {
   "cell_type": "markdown",
   "id": "9873a862",
   "metadata": {},
   "source": [
    "# Q7. what will be the output of following program"
   ]
  },
  {
   "cell_type": "code",
   "execution_count": 9,
   "id": "1d4e36d4",
   "metadata": {},
   "outputs": [
    {
     "data": {
      "text/plain": [
       "{1: 1}"
      ]
     },
     "execution_count": 9,
     "metadata": {},
     "output_type": "execute_result"
    }
   ],
   "source": [
    "dictionary = {}\n",
    "dictionary [1] = 1\n",
    "dictionary"
   ]
  },
  {
   "cell_type": "code",
   "execution_count": 10,
   "id": "bc3b03ed",
   "metadata": {},
   "outputs": [
    {
     "data": {
      "text/plain": [
       "{1: 1, '1': 2}"
      ]
     },
     "execution_count": 10,
     "metadata": {},
     "output_type": "execute_result"
    }
   ],
   "source": [
    "dictionary = {}\n",
    "dictionary [1] = 1\n",
    "dictionary['1'] = 2\n",
    "\n",
    "dictionary"
   ]
  },
  {
   "cell_type": "code",
   "execution_count": 11,
   "id": "39652158",
   "metadata": {},
   "outputs": [
    {
     "data": {
      "text/plain": [
       "{1: 2, '1': 2}"
      ]
     },
     "execution_count": 11,
     "metadata": {},
     "output_type": "execute_result"
    }
   ],
   "source": [
    "dictionary = {}\n",
    "dictionary [1] = 1\n",
    "dictionary['1'] =2\n",
    "dictionary[1] += 1\n",
    "\n",
    "dictionary"
   ]
  },
  {
   "cell_type": "code",
   "execution_count": 12,
   "id": "1663ef4f",
   "metadata": {},
   "outputs": [
    {
     "name": "stdout",
     "output_type": "stream",
     "text": [
      "2\n",
      "4\n"
     ]
    }
   ],
   "source": [
    "# main program\n",
    "dictionary = {}\n",
    "dictionary [1] = 1\n",
    "dictionary['1'] =2\n",
    "dictionary[1] += 1\n",
    "\n",
    "sum = 0\n",
    "for k in dictionary:\n",
    "    sum += dictionary[k]\n",
    "    \n",
    "    print(sum)"
   ]
  },
  {
   "cell_type": "code",
   "execution_count": 13,
   "id": "ce5fda8d",
   "metadata": {},
   "outputs": [
    {
     "data": {
      "text/plain": [
       "2"
      ]
     },
     "execution_count": 13,
     "metadata": {},
     "output_type": "execute_result"
    }
   ],
   "source": [
    "a = 1\n",
    "a += 1\n",
    "a"
   ]
  },
  {
   "cell_type": "markdown",
   "id": "f76c31d5",
   "metadata": {},
   "source": [
    "# Q8. what will be the output of following program: set 1"
   ]
  },
  {
   "cell_type": "code",
   "execution_count": 14,
   "id": "daa87292",
   "metadata": {},
   "outputs": [
    {
     "name": "stdout",
     "output_type": "stream",
     "text": [
      "2\n"
     ]
    }
   ],
   "source": [
    "counter = {}\n",
    "def addToCounter(country):\n",
    "    if country in counter:\n",
    "        counter[country] += 1\n",
    "    else:\n",
    "        counter[country] = 1\n",
    "addToCounter('china')\n",
    "addToCounter('japan')\n",
    "addToCounter('china')\n",
    "print (len(counter))\n",
    "    "
   ]
  },
  {
   "cell_type": "code",
   "execution_count": 15,
   "id": "702db678",
   "metadata": {},
   "outputs": [
    {
     "name": "stdout",
     "output_type": "stream",
     "text": [
      "3\n"
     ]
    }
   ],
   "source": [
    "counter = {}\n",
    "def addToCounter(country):\n",
    "    if country in counter:\n",
    "        counter[country] += 1\n",
    "    else:\n",
    "        counter[country] = 1\n",
    "addToCounter('china')\n",
    "addToCounter('japan')\n",
    "addToCounter('china')\n",
    "addToCounter('india')\n",
    "print (len(counter))"
   ]
  },
  {
   "cell_type": "markdown",
   "id": "2e1d3c57",
   "metadata": {},
   "source": [
    "# Q9. what will be the output of following program : set 2"
   ]
  },
  {
   "cell_type": "code",
   "execution_count": 16,
   "id": "33c4480a",
   "metadata": {},
   "outputs": [
    {
     "name": "stdout",
     "output_type": "stream",
     "text": [
      "111\n"
     ]
    }
   ],
   "source": [
    "class Acc:\n",
    "    def __init__(self, id):\n",
    "        self.id = id\n",
    "        id = 555\n",
    "acc = Acc(111)\n",
    "print(acc.id)"
   ]
  },
  {
   "cell_type": "code",
   "execution_count": 17,
   "id": "1e5a68ef",
   "metadata": {},
   "outputs": [
    {
     "name": "stdout",
     "output_type": "stream",
     "text": [
      "0\n",
      "1\n",
      "4\n",
      "5\n"
     ]
    }
   ],
   "source": [
    "for i in range(2):\n",
    "    print(i)\n",
    "\n",
    "for i in range (4,6):\n",
    "    print(i)"
   ]
  },
  {
   "cell_type": "code",
   "execution_count": 18,
   "id": "1447e3b6",
   "metadata": {},
   "outputs": [
    {
     "name": "stdout",
     "output_type": "stream",
     "text": [
      "1\n",
      "2\n",
      "3\n",
      "4\n"
     ]
    }
   ],
   "source": [
    "values = [1,2,3,4]\n",
    "numbers = set(values)\n",
    "\n",
    "def checknums (num):\n",
    "    if num in numbers:\n",
    "        return True\n",
    "    else:\n",
    "        return False\n",
    "    \n",
    "for i in  filter(checknums, values):\n",
    "    print(i)"
   ]
  },
  {
   "cell_type": "code",
   "execution_count": 19,
   "id": "f64c5812",
   "metadata": {},
   "outputs": [
    {
     "name": "stdout",
     "output_type": "stream",
     "text": [
      "24\n"
     ]
    }
   ],
   "source": [
    "r = lambda q: q * 2\n",
    "s = lambda q: q * 3\n",
    "x = 2\n",
    "x = r(x)\n",
    "x = s(x)\n",
    "x = r(x)\n",
    "print(x)"
   ]
  },
  {
   "cell_type": "code",
   "execution_count": 20,
   "id": "015cc7a0",
   "metadata": {},
   "outputs": [
    {
     "name": "stdout",
     "output_type": "stream",
     "text": [
      "2.0\n"
     ]
    }
   ],
   "source": [
    "a = 4.5\n",
    "b = 2\n",
    "print(a // b)"
   ]
  },
  {
   "cell_type": "code",
   "execution_count": 21,
   "id": "94ab2a76",
   "metadata": {},
   "outputs": [
    {
     "name": "stdout",
     "output_type": "stream",
     "text": [
      "2.25\n"
     ]
    }
   ],
   "source": [
    "a = 4.5\n",
    "b = 2\n",
    "print(a / b)"
   ]
  },
  {
   "cell_type": "code",
   "execution_count": 22,
   "id": "24d9cc67",
   "metadata": {},
   "outputs": [
    {
     "name": "stdout",
     "output_type": "stream",
     "text": [
      "0.5\n"
     ]
    }
   ],
   "source": [
    "a = 4.5\n",
    "b = 2\n",
    "print(a % b)"
   ]
  },
  {
   "cell_type": "code",
   "execution_count": 23,
   "id": "81082d6f",
   "metadata": {},
   "outputs": [
    {
     "name": "stdout",
     "output_type": "stream",
     "text": [
      "pramod\n"
     ]
    }
   ],
   "source": [
    "a = True\n",
    "b = False\n",
    "c = False\n",
    "\n",
    "if a or b and c:\n",
    "    print(\"pramod\")\n",
    "else:\n",
    "    print(\"rathod\")\n",
    "    \n",
    "    \n",
    "    \n",
    "# Explanation:\n",
    "\n",
    "# In python, AND operator has higher precedance then or oprator. \n",
    "# so, it is evaluated first. i.e.(b and c) evaluats to false. now OR operator is evaluated.\n",
    "# here (True or False) evaluates to True and pramod is printed as output "
   ]
  },
  {
   "cell_type": "code",
   "execution_count": 24,
   "id": "5c9956b3",
   "metadata": {},
   "outputs": [
    {
     "name": "stdout",
     "output_type": "stream",
     "text": [
      "3\n"
     ]
    }
   ],
   "source": [
    "a = True\n",
    "b = False\n",
    "c = False\n",
    "\n",
    "if not a or b:\n",
    "    print(1)\n",
    "elif not a or not b and c:\n",
    "    print(2)\n",
    "elif not a or b or not b and a:\n",
    "    print(3)\n",
    "else:\n",
    "    print(4)  "
   ]
  },
  {
   "cell_type": "code",
   "execution_count": 25,
   "id": "b7f6d78e",
   "metadata": {},
   "outputs": [
    {
     "name": "stdout",
     "output_type": "stream",
     "text": [
      "4\n"
     ]
    }
   ],
   "source": [
    "count = 1\n",
    "\n",
    "def doThis():\n",
    "    global count\n",
    "    \n",
    "    for i in (1, 2, 3):\n",
    "        count += 1\n",
    "doThis()\n",
    "print(count)"
   ]
  },
  {
   "cell_type": "markdown",
   "id": "d19a3728",
   "metadata": {},
   "source": [
    "# Q9. what will be the output of following program : set 3"
   ]
  },
  {
   "cell_type": "code",
   "execution_count": 26,
   "id": "efdfef02",
   "metadata": {},
   "outputs": [
    {
     "name": "stdout",
     "output_type": "stream",
     "text": [
      "51\n"
     ]
    }
   ],
   "source": [
    "class Geeks:\n",
    "    def __init__(self, id):\n",
    "        self.id = id\n",
    "\n",
    "manager = Geeks(100)\n",
    "manager.__dict__['life'] = 49\n",
    "\n",
    "print(manager.life + len(manager.__dict__))\n",
    "\n",
    "#  length of dictionary = 2  and 49 add them"
   ]
  },
  {
   "cell_type": "code",
   "execution_count": 27,
   "id": "074c5079",
   "metadata": {},
   "outputs": [
    {
     "name": "stdout",
     "output_type": "stream",
     "text": [
      "2\n",
      "125\n"
     ]
    }
   ],
   "source": [
    "class Geeks:\n",
    "    def __init__(self, id):\n",
    "        self.id = id\n",
    "\n",
    "manager = Geeks(100)\n",
    "manager.__dict__['life'] = 123\n",
    "\n",
    "\n",
    "print(len(manager.__dict__))\n",
    "print(manager.life + len(manager.__dict__))\n",
    "\n",
    "#  length of dictionary = 2  and 123 add them"
   ]
  },
  {
   "cell_type": "code",
   "execution_count": 28,
   "id": "24bf2dc9",
   "metadata": {},
   "outputs": [],
   "source": [
    "# a = 'geeksForGeeks'\n",
    "# b = 13\n",
    "\n",
    "# print(a + b)\n",
    "\n",
    "# It shows an Error : can only concatenate str (not \"int\") to str"
   ]
  },
  {
   "cell_type": "code",
   "execution_count": 29,
   "id": "e9f9cc53",
   "metadata": {},
   "outputs": [
    {
     "name": "stdout",
     "output_type": "stream",
     "text": [
      "2\n",
      "{3: '3', 1: '10'}\n"
     ]
    }
   ],
   "source": [
    "dictionary = {1:\"1\", 2:\"2\", 3:\"3\"}\n",
    "del dictionary[1]\n",
    "dictionary[1] = \"10\"\n",
    "del dictionary[2]\n",
    "print(len(dictionary))\n",
    "\n",
    "print(dictionary)\n",
    "# print(dictionary[1])\n",
    "# print(dictionary[3])"
   ]
  },
  {
   "cell_type": "markdown",
   "id": "221c99b8",
   "metadata": {},
   "source": [
    "#  Q9. what will be the output of following program : set 4"
   ]
  },
  {
   "cell_type": "code",
   "execution_count": 30,
   "id": "ae81abe4",
   "metadata": {},
   "outputs": [
    {
     "name": "stdout",
     "output_type": "stream",
     "text": [
      "k\n"
     ]
    }
   ],
   "source": [
    "namelist = ['Harsh','Pratik','Bob','Dhruv']\n",
    "\n",
    "print(namelist[1][-1])"
   ]
  },
  {
   "cell_type": "code",
   "execution_count": 31,
   "id": "50dc2463",
   "metadata": {},
   "outputs": [
    {
     "name": "stdout",
     "output_type": "stream",
     "text": [
      "pos3:  3\n",
      "pos3:  15\n",
      "pos2:  10\n"
     ]
    }
   ],
   "source": [
    "namelist = ['Harsh','Pratik','Bob','Dhruv']\n",
    "\n",
    "# pos = namelist.index(\"GeeksForGeeks\")   # it thows an error: 'GeeksForGeeks' is not in list\n",
    "pos3 = namelist.index(\"Dhruv\")\n",
    "pos2 = namelist.index(\"Bob\")\n",
    "\n",
    "print(\"pos3: \",pos3)\n",
    "\n",
    "print(\"pos3: \",pos3 * 5)\n",
    "print(\"pos2: \",pos2 * 5)"
   ]
  },
  {
   "cell_type": "code",
   "execution_count": 32,
   "id": "1bbe3f65",
   "metadata": {},
   "outputs": [
    {
     "name": "stdout",
     "output_type": "stream",
     "text": [
      "5\n",
      "[1, 2, 3, 4, [5, 6, 7, 8]]\n"
     ]
    }
   ],
   "source": [
    "geeksCodes = [1, 2, 3, 4]\n",
    "\n",
    "geeksCodes.append([5, 6, 7, 8])\n",
    "# list will look like as [1, 2, 3, 4,[5, 6, 7, 8]]\n",
    "\n",
    "print(len(geeksCodes))\n",
    "print(geeksCodes)"
   ]
  },
  {
   "cell_type": "code",
   "execution_count": 33,
   "id": "a459e87e",
   "metadata": {},
   "outputs": [
    {
     "name": "stdout",
     "output_type": "stream",
     "text": [
      "5\n"
     ]
    }
   ],
   "source": [
    "def addToList(listcontainer):\n",
    "    listcontainer += [10]\n",
    "    \n",
    "mylistContainer = [10, 20, 30, 40]\n",
    "addToList(mylistContainer)\n",
    "\n",
    "print(len(mylistContainer))"
   ]
  },
  {
   "cell_type": "markdown",
   "id": "e635572f",
   "metadata": {},
   "source": [
    "#  Q9. what will be the output of following program : set 5"
   ]
  },
  {
   "cell_type": "code",
   "execution_count": 34,
   "id": "47d08de6",
   "metadata": {},
   "outputs": [
    {
     "name": "stdout",
     "output_type": "stream",
     "text": [
      "cool\n"
     ]
    }
   ],
   "source": [
    "def gfgFunction():\n",
    "    \"geeksforgeeks is cool website for boosting up technical skills\"\n",
    "    return 1\n",
    "\n",
    "print(gfgFunction.__doc__[17:21])\n",
    "\n",
    "# docstring functon"
   ]
  },
  {
   "cell_type": "code",
   "execution_count": 35,
   "id": "6d1b88a5",
   "metadata": {},
   "outputs": [
    {
     "name": "stdout",
     "output_type": "stream",
     "text": [
      "1 1 1\n",
      "1 2 1\n",
      "3 2 3\n"
     ]
    }
   ],
   "source": [
    "class A(object):\n",
    "    val = 1\n",
    "    \n",
    "class B(A):\n",
    "    pass\n",
    "\n",
    "class C(A):\n",
    "    pass\n",
    "\n",
    "print(A.val, B.val, C.val)\n",
    "B.val = 2\n",
    "\n",
    "print(A.val, B.val, C.val)\n",
    "A.val = 3\n",
    "\n",
    "print(A.val, B.val, C.val)"
   ]
  },
  {
   "cell_type": "code",
   "execution_count": 36,
   "id": "b9cb2bc5",
   "metadata": {},
   "outputs": [
    {
     "name": "stdout",
     "output_type": "stream",
     "text": [
      "12\n"
     ]
    }
   ],
   "source": [
    "check1 = ['Learn', 'Quiz', 'Practice', 'contribute']\n",
    "check2 = check1\n",
    "check3 = check1[:]\n",
    "\n",
    "\n",
    "check2 [0] = 'Code'\n",
    "check3[1] = 'Mcq'\n",
    "\n",
    "\n",
    "count = 0\n",
    "\n",
    "for c in (check1, check2, check3):\n",
    "    if c[0] == 'Code':\n",
    "        count += 1\n",
    "    if c[1] == 'Mcq':\n",
    "        count += 10\n",
    "print(count)"
   ]
  },
  {
   "cell_type": "code",
   "execution_count": 37,
   "id": "733cf375",
   "metadata": {},
   "outputs": [
    {
     "name": "stdout",
     "output_type": "stream",
     "text": [
      "[0, 1]\n",
      "[3, 2, 1, 0, 1, 4]\n",
      "[0, 1, 0, 1, 4]\n"
     ]
    }
   ],
   "source": [
    "def gfg(x, l=[]):\n",
    "    for i in range(x):\n",
    "        l.append(i*i)\n",
    "    print(l)\n",
    "gfg(2)\n",
    "gfg(3,[3,2,1])\n",
    "gfg(3)"
   ]
  },
  {
   "cell_type": "markdown",
   "id": "a178d4e0",
   "metadata": {},
   "source": [
    "#  Q10.  set 6"
   ]
  },
  {
   "cell_type": "code",
   "execution_count": 38,
   "id": "f6299f8c",
   "metadata": {},
   "outputs": [
    {
     "name": "stdout",
     "output_type": "stream",
     "text": [
      "list1[0]: physics\n",
      "list1[0]:  1997\n",
      "list1[-2]:  list[slice(1, None, None)]\n",
      "list2[1:5]:  [2, 3, 4, 5]\n"
     ]
    }
   ],
   "source": [
    "list1 = [\"physics\",\"chemistry\",1997,2000]\n",
    "list2 = [1,2,3,4,5,6,7]\n",
    "\n",
    "print(\"list1[0]:\", list1[0])\n",
    "print(\"list1[0]: \",list1[-2])\n",
    "print(\"list1[-2]: \", list[1: ])\n",
    "print(\"list2[1:5]: \", list2[1:5])"
   ]
  },
  {
   "cell_type": "code",
   "execution_count": 39,
   "id": "e7ab5dbe",
   "metadata": {},
   "outputs": [
    {
     "name": "stdout",
     "output_type": "stream",
     "text": [
      "list[1][1]:  h\n",
      "list1[1][-1]:  y\n"
     ]
    }
   ],
   "source": [
    "list1 = [\"physics\",\"chemistry\",1997,2000]\n",
    "print(\"list[1][1]: \", list1[1][1])\n",
    "print(\"list1[1][-1]: \", list1[1][-1])"
   ]
  },
  {
   "cell_type": "code",
   "execution_count": 40,
   "id": "07bbebd8",
   "metadata": {},
   "outputs": [
    {
     "name": "stdout",
     "output_type": "stream",
     "text": [
      "list1 + list2 = : [1998, 2002, 1997, 2000, 2014, 2016, 1996, 2009]\n",
      "list1 *2 = : [1998, 2002, 1997, 2000, 1998, 2002, 1997, 2000]\n"
     ]
    }
   ],
   "source": [
    "list1 = [1998,2002,1997,2000]\n",
    "list2 = [2014,2016,1996,2009]\n",
    "\n",
    "print(\"list1 + list2 = :\", list1 + list2)\n",
    "\n",
    "print(\"list1 *2 = :\", list1 *2)"
   ]
  },
  {
   "cell_type": "code",
   "execution_count": 41,
   "id": "d7af2dcd",
   "metadata": {},
   "outputs": [
    {
     "name": "stdout",
     "output_type": "stream",
     "text": [
      "index of element 105 is :  5\n"
     ]
    }
   ],
   "source": [
    "list1 = range(100, 110)\n",
    "print(\"index of element 105 is : \", list1.index(105))"
   ]
  },
  {
   "cell_type": "code",
   "execution_count": 42,
   "id": "424c566d",
   "metadata": {},
   "outputs": [
    {
     "name": "stdout",
     "output_type": "stream",
     "text": [
      "list = : [0, 2, 3, 4, 5]\n"
     ]
    }
   ],
   "source": [
    "list1 = [1,2,3,4,5]\n",
    "list2 = list1\n",
    "\n",
    "list2[0] = 0;\n",
    "\n",
    "print(\"list = :\", list1)"
   ]
  },
  {
   "cell_type": "markdown",
   "id": "a1335994",
   "metadata": {},
   "source": [
    "#  Q10.  set 7"
   ]
  },
  {
   "cell_type": "code",
   "execution_count": 43,
   "id": "fa0bb964",
   "metadata": {},
   "outputs": [
    {
     "name": "stdout",
     "output_type": "stream",
     "text": [
      "24\n"
     ]
    }
   ],
   "source": [
    "[x for x in range(3)]\n",
    "print(x)"
   ]
  },
  {
   "cell_type": "code",
   "execution_count": 44,
   "id": "ba28173b",
   "metadata": {},
   "outputs": [
    {
     "name": "stdout",
     "output_type": "stream",
     "text": [
      "[[[2, 3, 9]], [[2, 3, 9]], [[2, 3, 9]]]\n"
     ]
    }
   ],
   "source": [
    "data = [2,3,9]\n",
    "temp = [[x for x in [data]] for x in range(3)]\n",
    "print(temp)"
   ]
  },
  {
   "cell_type": "code",
   "execution_count": 45,
   "id": "c40c43f2",
   "metadata": {},
   "outputs": [
    {
     "name": "stdout",
     "output_type": "stream",
     "text": [
      "[0, 2, 4]\n"
     ]
    }
   ],
   "source": [
    "data = [ x for x in range(5)]\n",
    "temp = [x for x in range(7) if x in data and x%2==0]\n",
    "print(temp)"
   ]
  },
  {
   "cell_type": "code",
   "execution_count": 46,
   "id": "4ad32c53",
   "metadata": {},
   "outputs": [
    {
     "name": "stdout",
     "output_type": "stream",
     "text": [
      "['G', 'F', 'G']\n"
     ]
    }
   ],
   "source": [
    "temp = ['geeks', 'for', 'geeks']\n",
    "arr = [i[0].upper()for i in temp]\n",
    "print(arr)"
   ]
  },
  {
   "cell_type": "code",
   "execution_count": 47,
   "id": "47bf0bf4",
   "metadata": {},
   "outputs": [
    {
     "name": "stdout",
     "output_type": "stream",
     "text": [
      "[2, 2, 6, 4, 4]\n"
     ]
    }
   ],
   "source": [
    "temp = \"Geeks 22536 for 445 Geeks\"\n",
    "data = [x for x in (int(x) for x in temp if x.isdigit()) if x%2==0]\n",
    "print(data)"
   ]
  },
  {
   "cell_type": "code",
   "execution_count": 48,
   "id": "575376fd",
   "metadata": {},
   "outputs": [
    {
     "name": "stdout",
     "output_type": "stream",
     "text": [
      "[]\n"
     ]
    }
   ],
   "source": [
    "data = [x for x in (x for x in \"Geeks 22966 for Geeks\" if x.isdigit()) if\n",
    "       (x in ([x for x in range(20)]))]\n",
    "print(data)"
   ]
  },
  {
   "cell_type": "markdown",
   "id": "3f78388b",
   "metadata": {},
   "source": [
    "#  Q10.  set 8  list and tuples"
   ]
  },
  {
   "cell_type": "code",
   "execution_count": 49,
   "id": "d7d05d0f",
   "metadata": {},
   "outputs": [
    {
     "name": "stdout",
     "output_type": "stream",
     "text": [
      "11\n"
     ]
    }
   ],
   "source": [
    "L1 = []\n",
    "L1.append([1,[2,3],4])\n",
    "L1.extend([7,8,9])\n",
    "\n",
    "print(L1[0][1][1] + L1[2])\n",
    "\n",
    "#  explanation in the print(), indexing is used.\n",
    "# L1[0] = [1,[2,3],4]\n",
    "# L1[0][1] = [2,3]\n",
    "# l1[0][1][1]= 3\n",
    "# and \n",
    "# L1[2] = 8"
   ]
  },
  {
   "cell_type": "code",
   "execution_count": 50,
   "id": "240f7fb0",
   "metadata": {},
   "outputs": [
    {
     "name": "stdout",
     "output_type": "stream",
     "text": [
      "2.33  GFGNO\n"
     ]
    }
   ],
   "source": [
    "L1 = [1, 1.33, 'GFG', 0, 'NO', None, 'G',True] \n",
    "val1, val2 = 0, ' '\n",
    "\n",
    "for x in L1:\n",
    "    if (type(x) == int or type(x) == float):\n",
    "        val1 += x\n",
    "    elif (type(x) == str):\n",
    "        val2 += x\n",
    "    else:\n",
    "        break\n",
    "        \n",
    "print(val1, val2)"
   ]
  },
  {
   "cell_type": "code",
   "execution_count": 51,
   "id": "9e0005e9",
   "metadata": {},
   "outputs": [
    {
     "name": "stdout",
     "output_type": "stream",
     "text": [
      "[[5], 2, 3, 4] [[5], 2, 3, 4] [1, 2, 3, 4] [1, 2, 3, 4]\n"
     ]
    }
   ],
   "source": [
    "L1 = [1,2,3,4]\n",
    "L2 = L1\n",
    "L3 = L1.copy()\n",
    "L4 = L3\n",
    "L1[0] = [5]\n",
    "print(L1,L2,L3,L4)"
   ]
  },
  {
   "cell_type": "code",
   "execution_count": 52,
   "id": "a9b8871b",
   "metadata": {},
   "outputs": [],
   "source": [
    "# T1 = (1)\n",
    "# T2 = (3,4)\n",
    "# T1 += 5\n",
    "# print(T1)\n",
    "# print(T1 + T2)\n",
    "\n",
    "# Output = 6   And Type Error: unsupported operand type(s) for +: 'int' and 'tuple'"
   ]
  },
  {
   "cell_type": "markdown",
   "id": "54efcee7",
   "metadata": {},
   "source": [
    "#  Q10.  set 9"
   ]
  },
  {
   "cell_type": "code",
   "execution_count": 53,
   "id": "4b1777d8",
   "metadata": {},
   "outputs": [],
   "source": [
    "# L = [2e-04, 'a', False, 87]\n",
    "# T = (6.22, 'boy', True, 554)\n",
    "\n",
    "# for i in range(len(L)):\n",
    "#     if L(i):\n",
    "#         L[i] = L[i] + T[i]\n",
    "#     else:\n",
    "#         T[i] = L[i] + T[i]\n",
    "#         break\n",
    "        \n",
    "\n",
    "#  type Error : 'list' object is not callable"
   ]
  },
  {
   "cell_type": "code",
   "execution_count": 54,
   "id": "aaa159f9",
   "metadata": {},
   "outputs": [
    {
     "name": "stdout",
     "output_type": "stream",
     "text": [
      "11\n"
     ]
    }
   ],
   "source": [
    "T = (2e-04, True, False, 8, 1.001, True)\n",
    "val = 0\n",
    "\n",
    "for x in T:\n",
    "    val += int(x)\n",
    "print(val)\n",
    "\n",
    "\n",
    "#  integer value of 2e-04(0.0002) is 0,\n",
    "#  True holds a value 1 and False holds 0\n",
    "# 1.001 = 1\n",
    "# hence sum of [0,1,0,8,1,1] = 11"
   ]
  },
  {
   "cell_type": "code",
   "execution_count": 55,
   "id": "788ce021",
   "metadata": {},
   "outputs": [],
   "source": [
    "# L = [3,1,2,4]\n",
    "# T = (\"A\",\"b\",\"c\",\"d\")\n",
    "# L.sort()\n",
    "# counter = 0\n",
    "\n",
    "# for x in T:\n",
    "#     L[counter] += int(x)\n",
    "#     counter += 1\n",
    "#     break\n",
    "# print(L)\n",
    "\n",
    "\n",
    "# type conversion if char \"A\" to integer will throw error and value can not be stored in L[0]\n",
    "\n",
    "# invalid literal for int() with base 10: 'A'"
   ]
  },
  {
   "cell_type": "code",
   "execution_count": 56,
   "id": "51ef69a7",
   "metadata": {},
   "outputs": [
    {
     "name": "stdout",
     "output_type": "stream",
     "text": [
      "5\n"
     ]
    }
   ],
   "source": [
    "T = (1,2,3,4,5,6,7,8)\n",
    "print(T[T.index(5)])\n",
    "\n",
    "# The inbuilt function index() return the index of the element. T.index(5) = and T[4] = 5 "
   ]
  },
  {
   "cell_type": "code",
   "execution_count": 57,
   "id": "5d8754eb",
   "metadata": {},
   "outputs": [
    {
     "name": "stdout",
     "output_type": "stream",
     "text": [
      "8\n"
     ]
    }
   ],
   "source": [
    "T = (1,2,3,4,5,6,7,8)\n",
    "print(T[T[T[6]-3]-6])\n",
    "\n",
    "# T[6] = 7\n",
    "# T[6]-3 = 4\n",
    "# T[T[6]-3] = T[4] = 5\n",
    "# T[T[6]-3]-6 = 5-6 = -1\n",
    "# T[T[T[6]-3]-6] = T[-1] = 8"
   ]
  },
  {
   "cell_type": "code",
   "execution_count": 58,
   "id": "6bbe4cce",
   "metadata": {},
   "outputs": [
    {
     "name": "stdout",
     "output_type": "stream",
     "text": [
      "[7.531, 5.31, 3.1, 1]\n"
     ]
    }
   ],
   "source": [
    "def REVERSE(L):\n",
    "    L.reverse()\n",
    "    return(L)\n",
    "def YKNJS(L):\n",
    "    List = []\n",
    "    List.extend(REVERSE(L))\n",
    "    print(List)\n",
    "    \n",
    "L = [1, 3.1, 5.31, 7.531]\n",
    "YKNJS(L)"
   ]
  },
  {
   "cell_type": "code",
   "execution_count": 59,
   "id": "42e92452",
   "metadata": {},
   "outputs": [
    {
     "name": "stdout",
     "output_type": "stream",
     "text": [
      "10.0 4\n"
     ]
    }
   ],
   "source": [
    "from math import sqrt\n",
    "L1 = [x**2 for x in range(10)].pop()\n",
    "L1 += 19\n",
    "print(sqrt(L1), end = \" \")\n",
    "L1 = [x**2 for x in reversed(range(10))].pop()\n",
    "L1 += 16\n",
    "print(int(sqrt(L1)))"
   ]
  },
  {
   "cell_type": "code",
   "execution_count": 60,
   "id": "ea5407fd",
   "metadata": {},
   "outputs": [
    {
     "name": "stdout",
     "output_type": "stream",
     "text": [
      "9 None None [3, 5, 7, 13]\n"
     ]
    }
   ],
   "source": [
    "L = [1,3,5,7,9,12,13]\n",
    "print(L.pop(-3),end= \" \")\n",
    "print(L.remove(L[0]), end= \" \")\n",
    "print(L.remove(12), end= \" \")\n",
    "print(L)\n",
    "\n",
    "\n",
    "#  pop(): will delet and return the element whose index was passes as parameter\n",
    "#  remove: does not return any value"
   ]
  },
  {
   "cell_type": "code",
   "execution_count": null,
   "id": "53e87178",
   "metadata": {},
   "outputs": [],
   "source": []
  },
  {
   "cell_type": "markdown",
   "id": "bf23e44d",
   "metadata": {},
   "source": [
    "# Armstrong number"
   ]
  },
  {
   "cell_type": "code",
   "execution_count": 61,
   "id": "ed77cf67",
   "metadata": {},
   "outputs": [
    {
     "name": "stdout",
     "output_type": "stream",
     "text": [
      "4\n",
      "The number is Armstrong\n"
     ]
    }
   ],
   "source": [
    "# write a program in python to check wether an integer is armstrong number or not\n",
    "\n",
    "# # what is Armstrong Number? : it is number which is equal to the sum of cub of its digit \n",
    "# ex. 153 is a number then 1^3 = 3: 5^3=125: 3^3=27 then sum (1+125+27=153) hence 153 is Armstrong number\n",
    "\n",
    "\n",
    "# num = int(input(\"enter your number: \")) # 153,663,407 are Armstrong Number\n",
    "num = 153\n",
    "sum = 0\n",
    "\n",
    "temp_num = num\n",
    "while temp_num > 0:\n",
    "    digit = temp_num % 10\n",
    "    sum += digit **3\n",
    "    temp_num //=10\n",
    "    \n",
    "print(i)\n",
    "\n",
    "if sum == num:\n",
    "    print(\"The number is Armstrong\")\n",
    "else:\n",
    "    print(\"The number is Not Armstrong\")"
   ]
  },
  {
   "cell_type": "markdown",
   "id": "16e0f8b3",
   "metadata": {},
   "source": [
    "# Prime Number"
   ]
  },
  {
   "cell_type": "code",
   "execution_count": 62,
   "id": "b1cc9c24",
   "metadata": {},
   "outputs": [
    {
     "name": "stdout",
     "output_type": "stream",
     "text": [
      "The given number is prime number\n"
     ]
    }
   ],
   "source": [
    "# write a python peogram to check the given number is prime or not\n",
    "\n",
    "i, temp=0,0\n",
    "# n = int(input(\"Enter Number: \"))\n",
    "\n",
    "n = 7\n",
    "for i in range(2, n//2):\n",
    "    if n%i == 0:\n",
    "        temp=1\n",
    "        break\n",
    "\n",
    "if temp == 1:\n",
    "    print(\"The given number is not prime number\")\n",
    "else:\n",
    "    print(\"The given number is prime number\")"
   ]
  },
  {
   "cell_type": "markdown",
   "id": "aeb45cac",
   "metadata": {},
   "source": [
    "# Fibonacci series"
   ]
  },
  {
   "cell_type": "code",
   "execution_count": 63,
   "id": "282f8d1b",
   "metadata": {},
   "outputs": [
    {
     "name": "stdout",
     "output_type": "stream",
     "text": [
      "Fibonacci series are: \n",
      "1\n",
      "1\n",
      "2\n",
      "3\n",
      "5\n",
      "8\n",
      "13\n",
      "21\n",
      "34\n",
      "55\n"
     ]
    }
   ],
   "source": [
    "#  0,1,1,2,3,5,8,13,21 like that\n",
    "\n",
    "first, second= 0,1\n",
    "# n = int(input(\"please Give a number for fibonacci series: \"))\n",
    "\n",
    "n = 10\n",
    "print(\"Fibonacci series are: \")\n",
    "\n",
    "for i in range (0,n):\n",
    "    if i<1:\n",
    "        result=1\n",
    "    else:\n",
    "        result = first + second;\n",
    "        first = second;\n",
    "        second = result;\n",
    "    print(result)"
   ]
  },
  {
   "cell_type": "markdown",
   "id": "08d7f7a0",
   "metadata": {},
   "source": [
    "# Fibonacci series using recursive method"
   ]
  },
  {
   "cell_type": "code",
   "execution_count": 64,
   "id": "c1a6899f",
   "metadata": {},
   "outputs": [
    {
     "name": "stdout",
     "output_type": "stream",
     "text": [
      "fibonacci series are: \n",
      "0\n",
      "1\n",
      "1\n",
      "2\n",
      "3\n",
      "5\n",
      "8\n",
      "13\n",
      "21\n",
      "34\n"
     ]
    }
   ],
   "source": [
    "first, second = 0,1\n",
    "\n",
    "# n= int(input(\"plsase give number for fibonacci series\"))\n",
    "n = 10\n",
    "\n",
    "def fibonacci(num):\n",
    "    if num == 0:\n",
    "        return 0\n",
    "    elif num == 1:\n",
    "        return 1\n",
    "    else:\n",
    "        return fibonacci(num-1)+fibonacci(num-2)\n",
    "    \n",
    "print(\"fibonacci series are: \")\n",
    "for i in range(0,n):\n",
    "    print(fibonacci(i))"
   ]
  },
  {
   "cell_type": "markdown",
   "id": "00a97573",
   "metadata": {},
   "source": [
    "# Palindrome Number"
   ]
  },
  {
   "cell_type": "code",
   "execution_count": 65,
   "id": "161cebd8",
   "metadata": {},
   "outputs": [
    {
     "name": "stdout",
     "output_type": "stream",
     "text": [
      "Number is palindrom\n"
     ]
    }
   ],
   "source": [
    "n = 6006         # 11,22,44,666666,88,5885,58085,6006 are palindrome\n",
    "\n",
    "reverse, temp = 0,n\n",
    "while temp !=0:\n",
    "    reverse = reverse*10 + temp%10;\n",
    "    temp = temp//10;\n",
    "\n",
    "if reverse == n:\n",
    "    print(\"Number is palindrom\")\n",
    "else:\n",
    "    print(\"Number is not palindrom\")"
   ]
  },
  {
   "cell_type": "code",
   "execution_count": null,
   "id": "85b8e212",
   "metadata": {},
   "outputs": [],
   "source": []
  },
  {
   "cell_type": "markdown",
   "id": "06589cc2",
   "metadata": {},
   "source": [
    "# Check Binary Number"
   ]
  },
  {
   "cell_type": "code",
   "execution_count": 66,
   "id": "f61c999e",
   "metadata": {},
   "outputs": [
    {
     "name": "stdout",
     "output_type": "stream",
     "text": [
      "Number is not Binary\n"
     ]
    }
   ],
   "source": [
    "num = 10101010111001102\n",
    "\n",
    "while(num>0):\n",
    "    j=num%10\n",
    "    if j!=0 and j!=1:\n",
    "        print(\"Number is not Binary\")\n",
    "        break\n",
    "    num = num//10\n",
    "    if num==0:\n",
    "        print(\"Num is binary\")"
   ]
  },
  {
   "cell_type": "markdown",
   "id": "35eb42ec",
   "metadata": {},
   "source": [
    "# Count the occurance of given character in a string"
   ]
  },
  {
   "cell_type": "code",
   "execution_count": 67,
   "id": "ce879311",
   "metadata": {},
   "outputs": [
    {
     "name": "stdout",
     "output_type": "stream",
     "text": [
      "which charactor you want to find: d\n",
      "Total number of occurance of d is:  3\n"
     ]
    }
   ],
   "source": [
    "# string= input(\"please enter the string: \") \n",
    "string = (\"hello my name is pramod and i am data scientist\")\n",
    "char = input(\"which charactor you want to find: \")\n",
    "count = 0\n",
    "for i in range(len(string)):\n",
    "    if (string[i]==char):\n",
    "        count= count+1\n",
    "print(\"Total number of occurance of\",char, \"is: \", count)"
   ]
  },
  {
   "cell_type": "markdown",
   "id": "6b10f48e",
   "metadata": {},
   "source": [
    "# Find duplicate number in an array"
   ]
  },
  {
   "cell_type": "code",
   "execution_count": 71,
   "id": "24146618",
   "metadata": {},
   "outputs": [
    {
     "name": "stdout",
     "output_type": "stream",
     "text": [
      "please enter the size of array: 5\n",
      "please enter the element of array element between o to 4: 1\n",
      "please enter the element of array element between o to 4: 0\n",
      "please enter the element of array element between o to 4: 4\n",
      "please enter the element of array element between o to 4: 3\n",
      "please enter the element of array element between o to 4: 1\n",
      "1 is repeated 2 times\n"
     ]
    }
   ],
   "source": [
    "arr, occur = [],[];\n",
    "n = int(input(\"please enter the size of array: \"))\n",
    "for x in range(n):\n",
    "    occur.append(0)\n",
    "for x in range(n):\n",
    "    element =int(input(f\"please enter the element of array element between o to {n-1}: \"))\n",
    "    arr.append(element)\n",
    "    occur[arr[x]]=occur[arr[x]]+1\n",
    "for x in range(n):\n",
    "    if occur[x]>1:\n",
    "        print(f\"{x} is repeated {occur[x]} times\")"
   ]
  },
  {
   "cell_type": "code",
   "execution_count": null,
   "id": "9eb8bc3e",
   "metadata": {},
   "outputs": [],
   "source": []
  },
  {
   "cell_type": "code",
   "execution_count": null,
   "id": "0a462a3a",
   "metadata": {},
   "outputs": [],
   "source": []
  },
  {
   "cell_type": "code",
   "execution_count": null,
   "id": "ac502f5b",
   "metadata": {},
   "outputs": [],
   "source": []
  }
 ],
 "metadata": {
  "kernelspec": {
   "display_name": "Python 3 (ipykernel)",
   "language": "python",
   "name": "python3"
  },
  "language_info": {
   "codemirror_mode": {
    "name": "ipython",
    "version": 3
   },
   "file_extension": ".py",
   "mimetype": "text/x-python",
   "name": "python",
   "nbconvert_exporter": "python",
   "pygments_lexer": "ipython3",
   "version": "3.9.7"
  }
 },
 "nbformat": 4,
 "nbformat_minor": 5
}
