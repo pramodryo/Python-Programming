{
 "cells": [
  {
   "cell_type": "markdown",
   "id": "9dc8bdd7",
   "metadata": {},
   "source": [
    "# <font color = red>List"
   ]
  },
  {
   "cell_type": "code",
   "execution_count": 1,
   "id": "c03c8e37",
   "metadata": {},
   "outputs": [],
   "source": [
    "a = \"pramod\"\n",
    "b = 1\n",
    "c =2.7"
   ]
  },
  {
   "cell_type": "code",
   "execution_count": 2,
   "id": "415246f6",
   "metadata": {},
   "outputs": [],
   "source": [
    "a = \"pramod\",\"Trishaan\",\"kumar\""
   ]
  },
  {
   "cell_type": "code",
   "execution_count": 3,
   "id": "c859a4dc",
   "metadata": {},
   "outputs": [],
   "source": [
    "a=[]  # Empty list"
   ]
  },
  {
   "cell_type": "code",
   "execution_count": 4,
   "id": "f76c27d6",
   "metadata": {},
   "outputs": [
    {
     "data": {
      "text/plain": [
       "[]"
      ]
     },
     "execution_count": 4,
     "metadata": {},
     "output_type": "execute_result"
    }
   ],
   "source": [
    "a"
   ]
  },
  {
   "cell_type": "code",
   "execution_count": 5,
   "id": "8118abd2",
   "metadata": {},
   "outputs": [
    {
     "data": {
      "text/plain": [
       "list"
      ]
     },
     "execution_count": 5,
     "metadata": {},
     "output_type": "execute_result"
    }
   ],
   "source": [
    "type(a)"
   ]
  },
  {
   "cell_type": "code",
   "execution_count": 6,
   "id": "bff4077a",
   "metadata": {},
   "outputs": [],
   "source": [
    "a = [\"pramod\",\"Trishaan\",\"kumar\"]"
   ]
  },
  {
   "cell_type": "code",
   "execution_count": 7,
   "id": "daed531a",
   "metadata": {},
   "outputs": [
    {
     "data": {
      "text/plain": [
       "['pramod', 'Trishaan', 'kumar']"
      ]
     },
     "execution_count": 7,
     "metadata": {},
     "output_type": "execute_result"
    }
   ],
   "source": [
    "a"
   ]
  },
  {
   "cell_type": "code",
   "execution_count": 8,
   "id": "27ae971b",
   "metadata": {},
   "outputs": [],
   "source": [
    "list1 =[\"pramod\",\"Trishaan\",\"kumar\",\"pramod\"]"
   ]
  },
  {
   "cell_type": "code",
   "execution_count": 9,
   "id": "1d840777",
   "metadata": {},
   "outputs": [
    {
     "data": {
      "text/plain": [
       "['pramod', 'Trishaan', 'kumar', 'pramod']"
      ]
     },
     "execution_count": 9,
     "metadata": {},
     "output_type": "execute_result"
    }
   ],
   "source": [
    "list1"
   ]
  },
  {
   "cell_type": "markdown",
   "id": "2c53c6c5",
   "metadata": {},
   "source": [
    "# List Cinfiguration\n",
    "\n",
    "1. lists are defined using [] brackets\n",
    "2. lists are ordered\n",
    "3. lists are mutable(change the elements), you can add, remove and reorderd list columns.\n",
    "4. lists can allow duplicates\n"
   ]
  },
  {
   "cell_type": "code",
   "execution_count": 10,
   "id": "f4309a7a",
   "metadata": {},
   "outputs": [],
   "source": [
    "a = list()"
   ]
  },
  {
   "cell_type": "code",
   "execution_count": 11,
   "id": "a4500a29",
   "metadata": {},
   "outputs": [
    {
     "data": {
      "text/plain": [
       "list"
      ]
     },
     "execution_count": 11,
     "metadata": {},
     "output_type": "execute_result"
    }
   ],
   "source": [
    "type(a)"
   ]
  },
  {
   "cell_type": "code",
   "execution_count": 12,
   "id": "307f4204",
   "metadata": {},
   "outputs": [
    {
     "data": {
      "text/plain": [
       "[]"
      ]
     },
     "execution_count": 12,
     "metadata": {},
     "output_type": "execute_result"
    }
   ],
   "source": [
    "a"
   ]
  },
  {
   "cell_type": "code",
   "execution_count": 13,
   "id": "6b2f56f5",
   "metadata": {},
   "outputs": [
    {
     "name": "stdout",
     "output_type": "stream",
     "text": [
      "[10, 20, 30, 40, 50, 80]\n",
      "<class 'list'>\n"
     ]
    }
   ],
   "source": [
    "# list of all integer values\n",
    "list2 = [10,20,30,40,50,80]\n",
    "print(list2)\n",
    "print(type(list2))"
   ]
  },
  {
   "cell_type": "code",
   "execution_count": 14,
   "id": "0ca3a31b",
   "metadata": {},
   "outputs": [
    {
     "name": "stdout",
     "output_type": "stream",
     "text": [
      "[4.5, 6.2, 6.3, 1.2, 2.9, 9.1, 10.2]\n",
      "<class 'list'>\n"
     ]
    }
   ],
   "source": [
    "#list of all float values\n",
    "list3 = [4.5,6.2,6.3,1.2,2.9,9.1,10.2]\n",
    "print(list3)\n",
    "print(type(list3))"
   ]
  },
  {
   "cell_type": "code",
   "execution_count": 15,
   "id": "ec65dbfa",
   "metadata": {},
   "outputs": [
    {
     "name": "stdout",
     "output_type": "stream",
     "text": [
      "[True, False, False, False, True]\n",
      "<class 'list'>\n"
     ]
    }
   ],
   "source": [
    "# list of all boolean values\n",
    "list4 = [True,False,False,False,True]\n",
    "print(list4)\n",
    "print(type(list4))"
   ]
  },
  {
   "cell_type": "code",
   "execution_count": 16,
   "id": "a622998a",
   "metadata": {},
   "outputs": [
    {
     "name": "stdout",
     "output_type": "stream",
     "text": [
      "['pramod', 45, 5.6, 0, 56.89, True]\n",
      "<class 'list'>\n"
     ]
    }
   ],
   "source": [
    "# list of all mixed data\n",
    "list5= [\"pramod\",45,5.6,0,56.89,True,]\n",
    "print(list5)\n",
    "print(type(list5))"
   ]
  },
  {
   "cell_type": "code",
   "execution_count": 17,
   "id": "1ad64035",
   "metadata": {},
   "outputs": [
    {
     "data": {
      "text/plain": [
       "'pramod'"
      ]
     },
     "execution_count": 17,
     "metadata": {},
     "output_type": "execute_result"
    }
   ],
   "source": [
    "# indexing -> [start_index:stop_index:step]\n",
    "list5[0]"
   ]
  },
  {
   "cell_type": "code",
   "execution_count": 18,
   "id": "6c3e2846",
   "metadata": {},
   "outputs": [
    {
     "data": {
      "text/plain": [
       "5.6"
      ]
     },
     "execution_count": 18,
     "metadata": {},
     "output_type": "execute_result"
    }
   ],
   "source": [
    "list5[2]"
   ]
  },
  {
   "cell_type": "code",
   "execution_count": 19,
   "id": "d888df9f",
   "metadata": {},
   "outputs": [
    {
     "data": {
      "text/plain": [
       "['pramod', 45, 5.6, 0, 56.89, True]"
      ]
     },
     "execution_count": 19,
     "metadata": {},
     "output_type": "execute_result"
    }
   ],
   "source": [
    "list5"
   ]
  },
  {
   "cell_type": "code",
   "execution_count": 20,
   "id": "7b8aed64",
   "metadata": {},
   "outputs": [
    {
     "data": {
      "text/plain": [
       "['pramod', 45, 5.6]"
      ]
     },
     "execution_count": 20,
     "metadata": {},
     "output_type": "execute_result"
    }
   ],
   "source": [
    "# lets extract first three elements\n",
    "list5[0:3]"
   ]
  },
  {
   "cell_type": "code",
   "execution_count": 21,
   "id": "d2764d11",
   "metadata": {},
   "outputs": [
    {
     "data": {
      "text/plain": [
       "[True, 56.89, 0, 5.6, 45, 'pramod']"
      ]
     },
     "execution_count": 21,
     "metadata": {},
     "output_type": "execute_result"
    }
   ],
   "source": [
    "# Reversed list\n",
    "list5[::-1]"
   ]
  },
  {
   "cell_type": "code",
   "execution_count": 22,
   "id": "77ff83cb",
   "metadata": {},
   "outputs": [
    {
     "data": {
      "text/plain": [
       "['pramod', 45, 5.6, 0, 56.89, True]"
      ]
     },
     "execution_count": 22,
     "metadata": {},
     "output_type": "execute_result"
    }
   ],
   "source": [
    "list5"
   ]
  },
  {
   "cell_type": "code",
   "execution_count": 23,
   "id": "68708844",
   "metadata": {},
   "outputs": [
    {
     "data": {
      "text/plain": [
       "[True, 56.89, 0]"
      ]
     },
     "execution_count": 23,
     "metadata": {},
     "output_type": "execute_result"
    }
   ],
   "source": [
    "list5[-1:-4:-1]"
   ]
  },
  {
   "cell_type": "markdown",
   "id": "ab9dd307",
   "metadata": {},
   "source": [
    "# List Function\n",
    "\n",
    "**len()** = Return the number of elements in the list\n",
    "\n",
    "**max()** = return the maximum value from the list\n",
    "\n",
    "**min()** = Return the minimum value from the list\n",
    "\n",
    "**sum()** = Retun the sum of all elements"
   ]
  },
  {
   "cell_type": "code",
   "execution_count": 24,
   "id": "356a34fb",
   "metadata": {},
   "outputs": [
    {
     "data": {
      "text/plain": [
       "['pramod', 45, 5.6, 0, 56.89, True]"
      ]
     },
     "execution_count": 24,
     "metadata": {},
     "output_type": "execute_result"
    }
   ],
   "source": [
    "# let us count number of elements in the list\n",
    "list5"
   ]
  },
  {
   "cell_type": "code",
   "execution_count": 25,
   "id": "0a2828ec",
   "metadata": {},
   "outputs": [
    {
     "data": {
      "text/plain": [
       "6"
      ]
     },
     "execution_count": 25,
     "metadata": {},
     "output_type": "execute_result"
    }
   ],
   "source": [
    "len(list5)"
   ]
  },
  {
   "cell_type": "code",
   "execution_count": 26,
   "id": "64460196",
   "metadata": {},
   "outputs": [
    {
     "data": {
      "text/plain": [
       "[10, 20, 30, 40, 50, 80]"
      ]
     },
     "execution_count": 26,
     "metadata": {},
     "output_type": "execute_result"
    }
   ],
   "source": [
    "list2"
   ]
  },
  {
   "cell_type": "code",
   "execution_count": 27,
   "id": "367928d8",
   "metadata": {},
   "outputs": [
    {
     "data": {
      "text/plain": [
       "80"
      ]
     },
     "execution_count": 27,
     "metadata": {},
     "output_type": "execute_result"
    }
   ],
   "source": [
    "max(list2)"
   ]
  },
  {
   "cell_type": "code",
   "execution_count": 28,
   "id": "5815286b",
   "metadata": {},
   "outputs": [
    {
     "data": {
      "text/plain": [
       "10"
      ]
     },
     "execution_count": 28,
     "metadata": {},
     "output_type": "execute_result"
    }
   ],
   "source": [
    "min(list2)"
   ]
  },
  {
   "cell_type": "code",
   "execution_count": 29,
   "id": "716fd1bd",
   "metadata": {},
   "outputs": [
    {
     "data": {
      "text/plain": [
       "230"
      ]
     },
     "execution_count": 29,
     "metadata": {},
     "output_type": "execute_result"
    }
   ],
   "source": [
    "sum(list2)"
   ]
  },
  {
   "cell_type": "markdown",
   "id": "3184ce72",
   "metadata": {},
   "source": [
    "# List operator\n",
    "\n",
    "**(+) operator =** The concatenation operator is used to join two list\n",
    "\n",
    "**(\"*\") operator =** The multiplication operator is used to replicate the elements os a list\n",
    "\n",
    "**(in) =** The in operator is used to determine whether an elements is in a list, it return true if elements is present list else it return false\n",
    "\n",
    "**(is) =** Check if two variable refer to the same object\n",
    "\n",
    "**(del) =** The del operator stands for delet. The del operator is used to remove elements from a list. to delet the elements of a list, the elements of the list are accessed using their index position and the del operator is placed before them"
   ]
  },
  {
   "cell_type": "code",
   "execution_count": 30,
   "id": "fd6a866c",
   "metadata": {},
   "outputs": [],
   "source": [
    "l1 = [1,2,3]\n",
    "l2 = [4,5,6]\n",
    "l3 = [1,2,3]"
   ]
  },
  {
   "cell_type": "code",
   "execution_count": 31,
   "id": "51549c42",
   "metadata": {},
   "outputs": [
    {
     "data": {
      "text/plain": [
       "[1, 2, 3, 4, 5, 6, 1, 2, 3]"
      ]
     },
     "execution_count": 31,
     "metadata": {},
     "output_type": "execute_result"
    }
   ],
   "source": [
    "l1 + l2 + l3"
   ]
  },
  {
   "cell_type": "code",
   "execution_count": 32,
   "id": "85f029eb",
   "metadata": {},
   "outputs": [
    {
     "name": "stdout",
     "output_type": "stream",
     "text": [
      "[1, 2, 3, 1, 2, 3]\n",
      "[4, 5, 6, 4, 5, 6, 4, 5, 6]\n"
     ]
    }
   ],
   "source": [
    "print(l1*2)\n",
    "print(l2*3)"
   ]
  },
  {
   "cell_type": "code",
   "execution_count": 33,
   "id": "34e16dbe",
   "metadata": {},
   "outputs": [],
   "source": [
    "s1 = \"python\"\n",
    "s2 = \"python\""
   ]
  },
  {
   "cell_type": "code",
   "execution_count": 34,
   "id": "f73a9a98",
   "metadata": {},
   "outputs": [
    {
     "data": {
      "text/plain": [
       "True"
      ]
     },
     "execution_count": 34,
     "metadata": {},
     "output_type": "execute_result"
    }
   ],
   "source": [
    "s1 is s2"
   ]
  },
  {
   "cell_type": "code",
   "execution_count": 35,
   "id": "ccf3a8d4",
   "metadata": {},
   "outputs": [],
   "source": [
    "A = [\"A\",\"B\",\"C\"]\n",
    "B = [\"A\",\"B\",\"C\"]"
   ]
  },
  {
   "cell_type": "code",
   "execution_count": 36,
   "id": "2f29f590",
   "metadata": {},
   "outputs": [
    {
     "data": {
      "text/plain": [
       "False"
      ]
     },
     "execution_count": 36,
     "metadata": {},
     "output_type": "execute_result"
    }
   ],
   "source": [
    "A is B"
   ]
  },
  {
   "cell_type": "markdown",
   "id": "1f81b6de",
   "metadata": {},
   "source": [
    "It is impoertant to note that in the above example, we can say that the two list are equivalent because they have the same elements. we cannot say that both the list are identical because they dont refer to the same object."
   ]
  },
  {
   "cell_type": "code",
   "execution_count": 37,
   "id": "bcd60cbc",
   "metadata": {},
   "outputs": [
    {
     "data": {
      "text/plain": [
       "[10, 20, 40, 50, 60, 70, 80, 90]"
      ]
     },
     "execution_count": 37,
     "metadata": {},
     "output_type": "execute_result"
    }
   ],
   "source": [
    "lst =[10,20,30,40,50,60,70,80,90]\n",
    "del lst[2]\n",
    "lst"
   ]
  },
  {
   "cell_type": "code",
   "execution_count": 38,
   "id": "b8679c35",
   "metadata": {},
   "outputs": [
    {
     "data": {
      "text/plain": [
       "[10, 20, 30, 40, 50, 60, 80, 90]"
      ]
     },
     "execution_count": 38,
     "metadata": {},
     "output_type": "execute_result"
    }
   ],
   "source": [
    "lst =[10,20,30,40,50,60,70,80,90]\n",
    "del lst[6]\n",
    "lst"
   ]
  },
  {
   "cell_type": "code",
   "execution_count": 39,
   "id": "7155a0f7",
   "metadata": {},
   "outputs": [
    {
     "data": {
      "text/plain": [
       "[10, 20, 70, 80, 90]"
      ]
     },
     "execution_count": 39,
     "metadata": {},
     "output_type": "execute_result"
    }
   ],
   "source": [
    "lst =[10,20,30,40,50,60,70,80,90]\n",
    "del lst[2:6]\n",
    "lst"
   ]
  },
  {
   "cell_type": "code",
   "execution_count": 40,
   "id": "94af5bd2",
   "metadata": {},
   "outputs": [
    {
     "data": {
      "text/plain": [
       "[]"
      ]
     },
     "execution_count": 40,
     "metadata": {},
     "output_type": "execute_result"
    }
   ],
   "source": [
    "lst =[10,20,30,40,50,60,70,80,90]\n",
    "del lst[:]\n",
    "lst\n",
    "# Remove all elements"
   ]
  },
  {
   "cell_type": "code",
   "execution_count": 41,
   "id": "480afb21",
   "metadata": {},
   "outputs": [],
   "source": [
    "lst =[10,20,30,40,50,60,70,80,90]\n",
    "del lst\n",
    "\n",
    "# delet the list"
   ]
  },
  {
   "cell_type": "code",
   "execution_count": 42,
   "id": "600859ef",
   "metadata": {},
   "outputs": [],
   "source": [
    "name = \"Pramod\""
   ]
  },
  {
   "cell_type": "code",
   "execution_count": 43,
   "id": "be6da5fe",
   "metadata": {},
   "outputs": [
    {
     "data": {
      "text/plain": [
       "'d'"
      ]
     },
     "execution_count": 43,
     "metadata": {},
     "output_type": "execute_result"
    }
   ],
   "source": [
    "name[-1]"
   ]
  },
  {
   "cell_type": "code",
   "execution_count": 44,
   "id": "f2bee7c6",
   "metadata": {},
   "outputs": [
    {
     "data": {
      "text/plain": [
       "'Pramo'"
      ]
     },
     "execution_count": 44,
     "metadata": {},
     "output_type": "execute_result"
    }
   ],
   "source": [
    "name[:-1]"
   ]
  },
  {
   "cell_type": "code",
   "execution_count": 45,
   "id": "8cdaa6eb",
   "metadata": {},
   "outputs": [
    {
     "data": {
      "text/plain": [
       "'d'"
      ]
     },
     "execution_count": 45,
     "metadata": {},
     "output_type": "execute_result"
    }
   ],
   "source": [
    "name[5]"
   ]
  },
  {
   "cell_type": "code",
   "execution_count": null,
   "id": "d52ec672",
   "metadata": {},
   "outputs": [],
   "source": []
  },
  {
   "cell_type": "markdown",
   "id": "2b90425c",
   "metadata": {},
   "source": [
    "# List keywords\n",
    "\n",
    "append() = \n",
    "\n",
    "insert() =\n",
    "\n",
    "extend() =\n",
    "\n",
    "**remove() =** It will take the element you want to remove\n",
    "\n",
    "**pop() =** It will take the index number and remove the ele at that index and it will return the element at that index\n",
    "\n",
    "\n",
    "**<font color= red>Note points:-** \n",
    "    \n",
    "1. append VS extend\n",
    "2. append Vs insert\n",
    "3. Remove VS pop\n",
    "    "
   ]
  },
  {
   "cell_type": "code",
   "execution_count": 46,
   "id": "510bc186",
   "metadata": {},
   "outputs": [
    {
     "name": "stdout",
     "output_type": "stream",
     "text": [
      "list2 = [10, 20, 30, 40, 50, 80]\n",
      "list3 = [4.5, 6.2, 6.3, 1.2, 2.9, 9.1, 10.2]\n"
     ]
    }
   ],
   "source": [
    "print(f\"list2 = {list2}\")\n",
    "print(f\"list3 = {list3}\")"
   ]
  },
  {
   "cell_type": "code",
   "execution_count": 47,
   "id": "7f6c8215",
   "metadata": {},
   "outputs": [],
   "source": [
    "list2.append(list3)"
   ]
  },
  {
   "cell_type": "code",
   "execution_count": 48,
   "id": "7682e1ed",
   "metadata": {},
   "outputs": [
    {
     "data": {
      "text/plain": [
       "[10, 20, 30, 40, 50, 80, [4.5, 6.2, 6.3, 1.2, 2.9, 9.1, 10.2]]"
      ]
     },
     "execution_count": 48,
     "metadata": {},
     "output_type": "execute_result"
    }
   ],
   "source": [
    "list2"
   ]
  },
  {
   "cell_type": "code",
   "execution_count": 49,
   "id": "097e473e",
   "metadata": {},
   "outputs": [
    {
     "data": {
      "text/plain": [
       "20"
      ]
     },
     "execution_count": 49,
     "metadata": {},
     "output_type": "execute_result"
    }
   ],
   "source": [
    "list2[1]"
   ]
  },
  {
   "cell_type": "code",
   "execution_count": 50,
   "id": "bafe4386",
   "metadata": {},
   "outputs": [
    {
     "data": {
      "text/plain": [
       "80"
      ]
     },
     "execution_count": 50,
     "metadata": {},
     "output_type": "execute_result"
    }
   ],
   "source": [
    "list2[5]"
   ]
  },
  {
   "cell_type": "code",
   "execution_count": 51,
   "id": "e5529d19",
   "metadata": {},
   "outputs": [
    {
     "data": {
      "text/plain": [
       "[4.5, 6.2, 6.3, 1.2, 2.9, 9.1, 10.2]"
      ]
     },
     "execution_count": 51,
     "metadata": {},
     "output_type": "execute_result"
    }
   ],
   "source": [
    "list2[6]"
   ]
  },
  {
   "cell_type": "code",
   "execution_count": 52,
   "id": "d139c57b",
   "metadata": {},
   "outputs": [
    {
     "data": {
      "text/plain": [
       "6.3"
      ]
     },
     "execution_count": 52,
     "metadata": {},
     "output_type": "execute_result"
    }
   ],
   "source": [
    "list2[6][2]"
   ]
  },
  {
   "cell_type": "code",
   "execution_count": null,
   "id": "cf3bb890",
   "metadata": {},
   "outputs": [],
   "source": []
  },
  {
   "cell_type": "code",
   "execution_count": 53,
   "id": "4bf18ccc",
   "metadata": {},
   "outputs": [],
   "source": [
    "lit2 = [10, 20, 30, 40, 50, 80]"
   ]
  },
  {
   "cell_type": "code",
   "execution_count": 54,
   "id": "88b2cb51",
   "metadata": {},
   "outputs": [
    {
     "data": {
      "text/plain": [
       "[4.5, 6.2, 6.3, 1.2, 2.9, 9.1, 10.2]"
      ]
     },
     "execution_count": 54,
     "metadata": {},
     "output_type": "execute_result"
    }
   ],
   "source": [
    "list3"
   ]
  },
  {
   "cell_type": "code",
   "execution_count": 55,
   "id": "2b4a7825",
   "metadata": {},
   "outputs": [],
   "source": [
    "lit2.extend(list3)"
   ]
  },
  {
   "cell_type": "code",
   "execution_count": 56,
   "id": "bf3564fd",
   "metadata": {},
   "outputs": [
    {
     "data": {
      "text/plain": [
       "[10, 20, 30, 40, 50, 80, 4.5, 6.2, 6.3, 1.2, 2.9, 9.1, 10.2]"
      ]
     },
     "execution_count": 56,
     "metadata": {},
     "output_type": "execute_result"
    }
   ],
   "source": [
    "lit2"
   ]
  },
  {
   "cell_type": "code",
   "execution_count": 57,
   "id": "0de5c9ee",
   "metadata": {},
   "outputs": [],
   "source": [
    "lit2.insert(3,\"pramod\")"
   ]
  },
  {
   "cell_type": "code",
   "execution_count": 58,
   "id": "4c58b0dd",
   "metadata": {},
   "outputs": [
    {
     "data": {
      "text/plain": [
       "[10, 20, 30, 'pramod', 40, 50, 80, 4.5, 6.2, 6.3, 1.2, 2.9, 9.1, 10.2]"
      ]
     },
     "execution_count": 58,
     "metadata": {},
     "output_type": "execute_result"
    }
   ],
   "source": [
    "lit2"
   ]
  },
  {
   "cell_type": "code",
   "execution_count": 59,
   "id": "4aa847a2",
   "metadata": {},
   "outputs": [],
   "source": [
    "lit2.insert(5,\"Naina\")"
   ]
  },
  {
   "cell_type": "code",
   "execution_count": 60,
   "id": "f99b2268",
   "metadata": {},
   "outputs": [
    {
     "data": {
      "text/plain": [
       "[10, 20, 30, 'pramod', 40, 'Naina', 50, 80, 4.5, 6.2, 6.3, 1.2, 2.9, 9.1, 10.2]"
      ]
     },
     "execution_count": 60,
     "metadata": {},
     "output_type": "execute_result"
    }
   ],
   "source": [
    "lit2"
   ]
  },
  {
   "cell_type": "code",
   "execution_count": 61,
   "id": "1d3b1a21",
   "metadata": {},
   "outputs": [],
   "source": [
    "lit2.append(\"LAST\")"
   ]
  },
  {
   "cell_type": "code",
   "execution_count": 62,
   "id": "459b0cd8",
   "metadata": {},
   "outputs": [
    {
     "data": {
      "text/plain": [
       "[10,\n",
       " 20,\n",
       " 30,\n",
       " 'pramod',\n",
       " 40,\n",
       " 'Naina',\n",
       " 50,\n",
       " 80,\n",
       " 4.5,\n",
       " 6.2,\n",
       " 6.3,\n",
       " 1.2,\n",
       " 2.9,\n",
       " 9.1,\n",
       " 10.2,\n",
       " 'LAST']"
      ]
     },
     "execution_count": 62,
     "metadata": {},
     "output_type": "execute_result"
    }
   ],
   "source": [
    "lit2"
   ]
  },
  {
   "cell_type": "code",
   "execution_count": 63,
   "id": "847e226e",
   "metadata": {},
   "outputs": [
    {
     "data": {
      "text/plain": [
       "'LAST'"
      ]
     },
     "execution_count": 63,
     "metadata": {},
     "output_type": "execute_result"
    }
   ],
   "source": [
    "lit2.pop() # by defalt delet last element"
   ]
  },
  {
   "cell_type": "code",
   "execution_count": 64,
   "id": "195eef19",
   "metadata": {},
   "outputs": [
    {
     "data": {
      "text/plain": [
       "[10, 20, 30, 'pramod', 40, 'Naina', 50, 80, 4.5, 6.2, 6.3, 1.2, 2.9, 9.1, 10.2]"
      ]
     },
     "execution_count": 64,
     "metadata": {},
     "output_type": "execute_result"
    }
   ],
   "source": [
    "lit2"
   ]
  },
  {
   "cell_type": "code",
   "execution_count": 65,
   "id": "2040dbff",
   "metadata": {},
   "outputs": [
    {
     "data": {
      "text/plain": [
       "10.2"
      ]
     },
     "execution_count": 65,
     "metadata": {},
     "output_type": "execute_result"
    }
   ],
   "source": [
    "lit2.pop(-1)"
   ]
  },
  {
   "cell_type": "code",
   "execution_count": 66,
   "id": "9d643ad6",
   "metadata": {},
   "outputs": [
    {
     "data": {
      "text/plain": [
       "[10, 20, 30, 'pramod', 40, 'Naina', 50, 80, 4.5, 6.2, 6.3, 1.2, 2.9, 9.1]"
      ]
     },
     "execution_count": 66,
     "metadata": {},
     "output_type": "execute_result"
    }
   ],
   "source": [
    "lit2"
   ]
  },
  {
   "cell_type": "code",
   "execution_count": 67,
   "id": "a0ec8580",
   "metadata": {},
   "outputs": [],
   "source": [
    "lit2.remove(\"pramod\")"
   ]
  },
  {
   "cell_type": "code",
   "execution_count": 68,
   "id": "83a4bdf4",
   "metadata": {},
   "outputs": [
    {
     "data": {
      "text/plain": [
       "[10, 20, 30, 40, 'Naina', 50, 80, 4.5, 6.2, 6.3, 1.2, 2.9, 9.1]"
      ]
     },
     "execution_count": 68,
     "metadata": {},
     "output_type": "execute_result"
    }
   ],
   "source": [
    "lit2"
   ]
  },
  {
   "cell_type": "code",
   "execution_count": 69,
   "id": "dbb12237",
   "metadata": {},
   "outputs": [],
   "source": [
    "lit2.remove(\"Naina\")"
   ]
  },
  {
   "cell_type": "code",
   "execution_count": 70,
   "id": "f316a2d6",
   "metadata": {},
   "outputs": [
    {
     "data": {
      "text/plain": [
       "[10, 20, 30, 40, 50, 80, 4.5, 6.2, 6.3, 1.2, 2.9, 9.1]"
      ]
     },
     "execution_count": 70,
     "metadata": {},
     "output_type": "execute_result"
    }
   ],
   "source": [
    "lit2"
   ]
  },
  {
   "cell_type": "code",
   "execution_count": 71,
   "id": "5ec8f7f6",
   "metadata": {},
   "outputs": [
    {
     "data": {
      "text/plain": [
       "6.3"
      ]
     },
     "execution_count": 71,
     "metadata": {},
     "output_type": "execute_result"
    }
   ],
   "source": [
    "lit2[8]"
   ]
  },
  {
   "cell_type": "code",
   "execution_count": 72,
   "id": "c0b39359",
   "metadata": {},
   "outputs": [
    {
     "data": {
      "text/plain": [
       "[50, 80, 4.5, 6.2]"
      ]
     },
     "execution_count": 72,
     "metadata": {},
     "output_type": "execute_result"
    }
   ],
   "source": [
    "lit2[4:8]"
   ]
  },
  {
   "cell_type": "code",
   "execution_count": 73,
   "id": "9a81b475",
   "metadata": {},
   "outputs": [],
   "source": [
    "# clear -> It will clear all the elements and list will be empty\n",
    "lit2.clear()"
   ]
  },
  {
   "cell_type": "code",
   "execution_count": 74,
   "id": "e78f605f",
   "metadata": {},
   "outputs": [
    {
     "data": {
      "text/plain": [
       "[]"
      ]
     },
     "execution_count": 74,
     "metadata": {},
     "output_type": "execute_result"
    }
   ],
   "source": [
    "lit2"
   ]
  },
  {
   "cell_type": "code",
   "execution_count": 75,
   "id": "d7d98c02",
   "metadata": {},
   "outputs": [
    {
     "data": {
      "text/plain": [
       "['pramod', 'Trishaan', 'kumar', 'pramod']"
      ]
     },
     "execution_count": 75,
     "metadata": {},
     "output_type": "execute_result"
    }
   ],
   "source": [
    "list1"
   ]
  },
  {
   "cell_type": "code",
   "execution_count": 76,
   "id": "082b5d54",
   "metadata": {},
   "outputs": [
    {
     "data": {
      "text/plain": [
       "2"
      ]
     },
     "execution_count": 76,
     "metadata": {},
     "output_type": "execute_result"
    }
   ],
   "source": [
    "# count how many times elements present\n",
    "list1.count(\"pramod\")"
   ]
  },
  {
   "cell_type": "code",
   "execution_count": 77,
   "id": "3b60c39f",
   "metadata": {},
   "outputs": [
    {
     "data": {
      "text/plain": [
       "1"
      ]
     },
     "execution_count": 77,
     "metadata": {},
     "output_type": "execute_result"
    }
   ],
   "source": [
    "list1.index(\"Trishaan\")"
   ]
  },
  {
   "cell_type": "code",
   "execution_count": 78,
   "id": "145984f1",
   "metadata": {},
   "outputs": [
    {
     "data": {
      "text/plain": [
       "0"
      ]
     },
     "execution_count": 78,
     "metadata": {},
     "output_type": "execute_result"
    }
   ],
   "source": [
    "list1.count(\"sigh\") # element is not there "
   ]
  },
  {
   "cell_type": "code",
   "execution_count": 79,
   "id": "f7077468",
   "metadata": {},
   "outputs": [
    {
     "data": {
      "text/plain": [
       "[4.5, 6.2, 6.3, 1.2, 2.9, 9.1, 10.2]"
      ]
     },
     "execution_count": 79,
     "metadata": {},
     "output_type": "execute_result"
    }
   ],
   "source": [
    "list3"
   ]
  },
  {
   "cell_type": "code",
   "execution_count": 80,
   "id": "116d5605",
   "metadata": {},
   "outputs": [],
   "source": [
    "# Sorting the list # Sort Function will return None values\n",
    "list3.sort()  # By defalt ascending order"
   ]
  },
  {
   "cell_type": "code",
   "execution_count": 81,
   "id": "cb3ddb99",
   "metadata": {},
   "outputs": [
    {
     "data": {
      "text/plain": [
       "[1.2, 2.9, 4.5, 6.2, 6.3, 9.1, 10.2]"
      ]
     },
     "execution_count": 81,
     "metadata": {},
     "output_type": "execute_result"
    }
   ],
   "source": [
    "list3"
   ]
  },
  {
   "cell_type": "code",
   "execution_count": 82,
   "id": "c44e8451",
   "metadata": {},
   "outputs": [],
   "source": [
    "list3.sort(reverse = True)"
   ]
  },
  {
   "cell_type": "code",
   "execution_count": 83,
   "id": "287dbfef",
   "metadata": {},
   "outputs": [
    {
     "data": {
      "text/plain": [
       "[10.2, 9.1, 6.3, 6.2, 4.5, 2.9, 1.2]"
      ]
     },
     "execution_count": 83,
     "metadata": {},
     "output_type": "execute_result"
    }
   ],
   "source": [
    "list3"
   ]
  },
  {
   "cell_type": "code",
   "execution_count": 84,
   "id": "664c9d0d",
   "metadata": {},
   "outputs": [
    {
     "data": {
      "text/plain": [
       "[1.2, 2.9, 4.5, 6.2, 6.3, 9.1, 10.2]"
      ]
     },
     "execution_count": 84,
     "metadata": {},
     "output_type": "execute_result"
    }
   ],
   "source": [
    "# sorted\n",
    "sorted(list3)"
   ]
  },
  {
   "cell_type": "code",
   "execution_count": 85,
   "id": "0a16a5f8",
   "metadata": {},
   "outputs": [
    {
     "data": {
      "text/plain": [
       "[10.2, 9.1, 6.3, 6.2, 4.5, 2.9, 1.2]"
      ]
     },
     "execution_count": 85,
     "metadata": {},
     "output_type": "execute_result"
    }
   ],
   "source": [
    "list3"
   ]
  },
  {
   "cell_type": "markdown",
   "id": "d70ac4ef",
   "metadata": {},
   "source": [
    "1. sorted -> is returning me the sorted values and it will not update the list\n",
    "\n",
    "\n",
    "2. sort -> it will sort the values and update the list and return Non values"
   ]
  },
  {
   "cell_type": "code",
   "execution_count": null,
   "id": "94377d02",
   "metadata": {},
   "outputs": [],
   "source": []
  },
  {
   "cell_type": "markdown",
   "id": "731dac4d",
   "metadata": {},
   "source": [
    "# <font color = red> Tuples   \n",
    "    \n",
    "1. Tuples are Immutable(once define you cannot change the values)\n",
    "    \n",
    "2. Tuples are also ordered\n",
    "    \n",
    "3. Tuples can allow duplicates\n",
    "    \n",
    "4. Tuples are defined in small brackets ()\n",
    "  \n",
    "5. Tupels are faster than list"
   ]
  },
  {
   "cell_type": "markdown",
   "id": "243d30d4",
   "metadata": {},
   "source": [
    "**Uses of Tuple**\n",
    "\n",
    "1. Tuples are used to store multiple items in a single variable\n",
    "\n",
    "2. A Tuple is a collection which is orderd and unchangeble"
   ]
  },
  {
   "cell_type": "code",
   "execution_count": 86,
   "id": "b7d25741",
   "metadata": {},
   "outputs": [
    {
     "name": "stdout",
     "output_type": "stream",
     "text": [
      "() <class 'tuple'>\n"
     ]
    }
   ],
   "source": [
    "tuple1 = ()  # empty tuple\n",
    "print(tuple1,type(tuple1))"
   ]
  },
  {
   "cell_type": "code",
   "execution_count": 87,
   "id": "68fb7a10",
   "metadata": {},
   "outputs": [
    {
     "name": "stdout",
     "output_type": "stream",
     "text": [
      "() <class 'tuple'>\n"
     ]
    }
   ],
   "source": [
    "tuple1 = tuple()  # empty tuple\n",
    "print(tuple1,type(tuple1))"
   ]
  },
  {
   "cell_type": "code",
   "execution_count": 88,
   "id": "4d438089",
   "metadata": {},
   "outputs": [
    {
     "name": "stdout",
     "output_type": "stream",
     "text": [
      "(10, 20, 30, 40)\n",
      "<class 'tuple'>\n"
     ]
    }
   ],
   "source": [
    "tuple2=(10,20,30,40)\n",
    "print(tuple2)\n",
    "print(type(tuple2))"
   ]
  },
  {
   "cell_type": "code",
   "execution_count": 89,
   "id": "1290f005",
   "metadata": {},
   "outputs": [
    {
     "name": "stdout",
     "output_type": "stream",
     "text": [
      "(10.1, 20.2, 30.0, 40.1)\n",
      "<class 'tuple'>\n"
     ]
    }
   ],
   "source": [
    "tuple3 = (10.1,20.2,30.0,40.1)\n",
    "print(tuple3)\n",
    "print(type(tuple3))"
   ]
  },
  {
   "cell_type": "code",
   "execution_count": 90,
   "id": "104d9c30",
   "metadata": {},
   "outputs": [
    {
     "name": "stdout",
     "output_type": "stream",
     "text": [
      "('Parmeet', 'Singh', 'Dang')\n",
      "<class 'tuple'>\n"
     ]
    }
   ],
   "source": [
    "tuple4 = ('Parmeet','Singh','Dang')\n",
    "print(tuple4)\n",
    "print(type(tuple4))"
   ]
  },
  {
   "cell_type": "code",
   "execution_count": 91,
   "id": "75ebb22f",
   "metadata": {},
   "outputs": [
    {
     "name": "stdout",
     "output_type": "stream",
     "text": [
      "(True, False, True, False)\n",
      "<class 'tuple'>\n"
     ]
    }
   ],
   "source": [
    "tuple5 = (True, False, True, False)\n",
    "print(tuple5)\n",
    "print(type(tuple5))"
   ]
  },
  {
   "cell_type": "code",
   "execution_count": 92,
   "id": "6c47b25a",
   "metadata": {},
   "outputs": [
    {
     "name": "stdout",
     "output_type": "stream",
     "text": [
      "(True, 1, 5.6, 'Parmeet')\n",
      "<class 'tuple'>\n"
     ]
    }
   ],
   "source": [
    "tuple6 = (True, 1,5.6,'Parmeet')\n",
    "print(tuple6)\n",
    "print(type(tuple6))"
   ]
  },
  {
   "cell_type": "code",
   "execution_count": 93,
   "id": "95df0f45",
   "metadata": {},
   "outputs": [
    {
     "data": {
      "text/plain": [
       "(True, 1, 5.6, 'Parmeet')"
      ]
     },
     "execution_count": 93,
     "metadata": {},
     "output_type": "execute_result"
    }
   ],
   "source": [
    "tuple6"
   ]
  },
  {
   "cell_type": "code",
   "execution_count": 94,
   "id": "488b31c3",
   "metadata": {},
   "outputs": [],
   "source": [
    "# converting tuple to the list\n",
    "list1= list(tuple6)"
   ]
  },
  {
   "cell_type": "code",
   "execution_count": 95,
   "id": "3c66660f",
   "metadata": {},
   "outputs": [
    {
     "data": {
      "text/plain": [
       "[True, 1, 5.6, 'Parmeet']"
      ]
     },
     "execution_count": 95,
     "metadata": {},
     "output_type": "execute_result"
    }
   ],
   "source": [
    "list1"
   ]
  },
  {
   "cell_type": "code",
   "execution_count": 96,
   "id": "67084dfb",
   "metadata": {},
   "outputs": [],
   "source": [
    "list1[3] = \"pramod\""
   ]
  },
  {
   "cell_type": "code",
   "execution_count": 97,
   "id": "f4e1c54b",
   "metadata": {},
   "outputs": [
    {
     "data": {
      "text/plain": [
       "[True, 1, 5.6, 'pramod']"
      ]
     },
     "execution_count": 97,
     "metadata": {},
     "output_type": "execute_result"
    }
   ],
   "source": [
    "list1"
   ]
  },
  {
   "cell_type": "code",
   "execution_count": 98,
   "id": "19e9a660",
   "metadata": {},
   "outputs": [],
   "source": [
    "# converting list into tuple\n",
    "tuple6 = tuple(list1)"
   ]
  },
  {
   "cell_type": "code",
   "execution_count": 99,
   "id": "a96d8873",
   "metadata": {},
   "outputs": [
    {
     "data": {
      "text/plain": [
       "(True, 1, 5.6, 'pramod')"
      ]
     },
     "execution_count": 99,
     "metadata": {},
     "output_type": "execute_result"
    }
   ],
   "source": [
    "tuple6"
   ]
  },
  {
   "cell_type": "code",
   "execution_count": 100,
   "id": "cbb37500",
   "metadata": {},
   "outputs": [],
   "source": [
    "list1 = list(tuple6)"
   ]
  },
  {
   "cell_type": "code",
   "execution_count": 101,
   "id": "18748228",
   "metadata": {},
   "outputs": [],
   "source": [
    "list1.append(\"parmeet\")"
   ]
  },
  {
   "cell_type": "code",
   "execution_count": 102,
   "id": "0b1cae3c",
   "metadata": {},
   "outputs": [
    {
     "data": {
      "text/plain": [
       "[True, 1, 5.6, 'pramod', 'parmeet']"
      ]
     },
     "execution_count": 102,
     "metadata": {},
     "output_type": "execute_result"
    }
   ],
   "source": [
    "list1"
   ]
  },
  {
   "cell_type": "code",
   "execution_count": 103,
   "id": "ea7e6c89",
   "metadata": {},
   "outputs": [],
   "source": [
    "tuple6 = tuple(list1)"
   ]
  },
  {
   "cell_type": "code",
   "execution_count": 104,
   "id": "f4b8fabb",
   "metadata": {},
   "outputs": [
    {
     "data": {
      "text/plain": [
       "(True, 1, 5.6, 'pramod', 'parmeet')"
      ]
     },
     "execution_count": 104,
     "metadata": {},
     "output_type": "execute_result"
    }
   ],
   "source": [
    "tuple6"
   ]
  },
  {
   "cell_type": "code",
   "execution_count": 105,
   "id": "bb951be4",
   "metadata": {},
   "outputs": [
    {
     "data": {
      "text/plain": [
       "5"
      ]
     },
     "execution_count": 105,
     "metadata": {},
     "output_type": "execute_result"
    }
   ],
   "source": [
    "len(tuple6)"
   ]
  },
  {
   "cell_type": "code",
   "execution_count": 106,
   "id": "4d86bde4",
   "metadata": {},
   "outputs": [
    {
     "data": {
      "text/plain": [
       "1"
      ]
     },
     "execution_count": 106,
     "metadata": {},
     "output_type": "execute_result"
    }
   ],
   "source": [
    "tuple6.count(\"pramod\")"
   ]
  },
  {
   "cell_type": "code",
   "execution_count": 107,
   "id": "7d98a7c5",
   "metadata": {},
   "outputs": [
    {
     "data": {
      "text/plain": [
       "0"
      ]
     },
     "execution_count": 107,
     "metadata": {},
     "output_type": "execute_result"
    }
   ],
   "source": [
    "tuple6.count(\"Mango\")"
   ]
  },
  {
   "cell_type": "code",
   "execution_count": 108,
   "id": "30921dea",
   "metadata": {},
   "outputs": [
    {
     "name": "stdout",
     "output_type": "stream",
     "text": [
      "mango\n",
      "<class 'str'>\n"
     ]
    }
   ],
   "source": [
    "tuple7 = (\"mango\")\n",
    "print(tuple7)\n",
    "print(type(tuple7))"
   ]
  },
  {
   "cell_type": "markdown",
   "id": "cd4ddc47",
   "metadata": {},
   "source": [
    "## Unpacking concept"
   ]
  },
  {
   "cell_type": "code",
   "execution_count": 109,
   "id": "81bd4ecc",
   "metadata": {},
   "outputs": [],
   "source": [
    "tuple1 =(\"Mango\",\"Banana\",\"Cherry\")"
   ]
  },
  {
   "cell_type": "code",
   "execution_count": 110,
   "id": "91b6699f",
   "metadata": {},
   "outputs": [],
   "source": [
    "a,b,c =tuple1"
   ]
  },
  {
   "cell_type": "code",
   "execution_count": 111,
   "id": "04da48f0",
   "metadata": {},
   "outputs": [
    {
     "name": "stdout",
     "output_type": "stream",
     "text": [
      "Mango Banana Cherry\n"
     ]
    }
   ],
   "source": [
    "print(a,b,c)"
   ]
  },
  {
   "cell_type": "code",
   "execution_count": 112,
   "id": "3c112fb4",
   "metadata": {},
   "outputs": [],
   "source": [
    "# a,b = tuple1\n",
    "\n",
    "# Errors :- too many values to unpack"
   ]
  },
  {
   "cell_type": "code",
   "execution_count": 113,
   "id": "82d84f9c",
   "metadata": {},
   "outputs": [],
   "source": [
    "a, *b = tuple1"
   ]
  },
  {
   "cell_type": "code",
   "execution_count": 114,
   "id": "1b184440",
   "metadata": {},
   "outputs": [
    {
     "name": "stdout",
     "output_type": "stream",
     "text": [
      "Mango\n",
      "['Banana', 'Cherry']\n"
     ]
    }
   ],
   "source": [
    "print(a)\n",
    "print(b)"
   ]
  },
  {
   "cell_type": "code",
   "execution_count": 115,
   "id": "0d75d446",
   "metadata": {},
   "outputs": [
    {
     "data": {
      "text/plain": [
       "('Mango', 'Banana', 'Cherry')"
      ]
     },
     "execution_count": 115,
     "metadata": {},
     "output_type": "execute_result"
    }
   ],
   "source": [
    "tuple1"
   ]
  },
  {
   "cell_type": "code",
   "execution_count": 116,
   "id": "fa76cf70",
   "metadata": {},
   "outputs": [],
   "source": [
    "*a,b = tuple1"
   ]
  },
  {
   "cell_type": "code",
   "execution_count": 117,
   "id": "217fa3b6",
   "metadata": {},
   "outputs": [
    {
     "name": "stdout",
     "output_type": "stream",
     "text": [
      "['Mango', 'Banana']\n",
      "Cherry\n"
     ]
    }
   ],
   "source": [
    "print(a)\n",
    "print(b)"
   ]
  },
  {
   "cell_type": "code",
   "execution_count": null,
   "id": "463fefc3",
   "metadata": {},
   "outputs": [],
   "source": []
  },
  {
   "cell_type": "markdown",
   "id": "4732af20",
   "metadata": {},
   "source": [
    "# <font color = red> Sets"
   ]
  },
  {
   "cell_type": "markdown",
   "id": "9906d18c",
   "metadata": {},
   "source": [
    "1. sets are immutable -> cannot change the element\n",
    "\n",
    "2. sets are unordered\n",
    "\n",
    "3. sets doesnot allow duplicates"
   ]
  },
  {
   "cell_type": "code",
   "execution_count": 118,
   "id": "e427a90c",
   "metadata": {},
   "outputs": [
    {
     "data": {
      "text/plain": [
       "set"
      ]
     },
     "execution_count": 118,
     "metadata": {},
     "output_type": "execute_result"
    }
   ],
   "source": [
    "a = {1,2,3}\n",
    "type(a)"
   ]
  },
  {
   "cell_type": "code",
   "execution_count": 119,
   "id": "0b071957",
   "metadata": {},
   "outputs": [
    {
     "data": {
      "text/plain": [
       "dict"
      ]
     },
     "execution_count": 119,
     "metadata": {},
     "output_type": "execute_result"
    }
   ],
   "source": [
    "a = {}\n",
    "type(a)"
   ]
  },
  {
   "cell_type": "code",
   "execution_count": 120,
   "id": "0a06bced",
   "metadata": {},
   "outputs": [
    {
     "data": {
      "text/plain": [
       "set"
      ]
     },
     "execution_count": 120,
     "metadata": {},
     "output_type": "execute_result"
    }
   ],
   "source": [
    "a = set()  # Empty set\n",
    "type(a)"
   ]
  },
  {
   "cell_type": "code",
   "execution_count": 121,
   "id": "e1de193c",
   "metadata": {},
   "outputs": [
    {
     "name": "stdout",
     "output_type": "stream",
     "text": [
      "{1, 2, 3, 4, 5, 6, 7}\n"
     ]
    }
   ],
   "source": [
    "a = {1,2,3,4,5,6,7}\n",
    "print(a)"
   ]
  },
  {
   "cell_type": "code",
   "execution_count": 122,
   "id": "1f2dedd8",
   "metadata": {},
   "outputs": [
    {
     "data": {
      "text/plain": [
       "1"
      ]
     },
     "execution_count": 122,
     "metadata": {},
     "output_type": "execute_result"
    }
   ],
   "source": [
    "a.pop() # remove"
   ]
  },
  {
   "cell_type": "code",
   "execution_count": 123,
   "id": "e69fd89f",
   "metadata": {},
   "outputs": [
    {
     "data": {
      "text/plain": [
       "{1, 2, 3, 4, 5, 6, 7, 8}"
      ]
     },
     "execution_count": 123,
     "metadata": {},
     "output_type": "execute_result"
    }
   ],
   "source": [
    "a ={1,1,1,2,2,2,4,4,5,6,7,8,3}\n",
    "a"
   ]
  },
  {
   "cell_type": "code",
   "execution_count": 124,
   "id": "bbe806bb",
   "metadata": {},
   "outputs": [],
   "source": [
    "set1 = {1,2,3,4,5}\n",
    "set2 = {2,5,7}\n",
    "set3 = {8}"
   ]
  },
  {
   "cell_type": "code",
   "execution_count": 125,
   "id": "65f2bfc5",
   "metadata": {},
   "outputs": [
    {
     "data": {
      "text/plain": [
       "{1, 2, 3, 4, 5}"
      ]
     },
     "execution_count": 125,
     "metadata": {},
     "output_type": "execute_result"
    }
   ],
   "source": [
    "set1"
   ]
  },
  {
   "cell_type": "code",
   "execution_count": 126,
   "id": "8c9982a4",
   "metadata": {},
   "outputs": [],
   "source": [
    "set1.add(9)"
   ]
  },
  {
   "cell_type": "code",
   "execution_count": 127,
   "id": "c5ddea21",
   "metadata": {},
   "outputs": [
    {
     "data": {
      "text/plain": [
       "{1, 2, 3, 4, 5, 9}"
      ]
     },
     "execution_count": 127,
     "metadata": {},
     "output_type": "execute_result"
    }
   ],
   "source": [
    "set1"
   ]
  },
  {
   "cell_type": "code",
   "execution_count": 128,
   "id": "3986d549",
   "metadata": {},
   "outputs": [],
   "source": [
    "set1.add(3)"
   ]
  },
  {
   "cell_type": "code",
   "execution_count": 129,
   "id": "051bc377",
   "metadata": {},
   "outputs": [
    {
     "data": {
      "text/plain": [
       "{1, 2, 3, 4, 5, 9}"
      ]
     },
     "execution_count": 129,
     "metadata": {},
     "output_type": "execute_result"
    }
   ],
   "source": [
    "set1"
   ]
  },
  {
   "cell_type": "code",
   "execution_count": 130,
   "id": "ada677cd",
   "metadata": {},
   "outputs": [
    {
     "name": "stdout",
     "output_type": "stream",
     "text": [
      "{1, 2, 3, 4, 5, 9}\n",
      "{2, 5, 7}\n"
     ]
    }
   ],
   "source": [
    "print(set1)\n",
    "print(set2)"
   ]
  },
  {
   "cell_type": "code",
   "execution_count": 131,
   "id": "6669145f",
   "metadata": {},
   "outputs": [
    {
     "data": {
      "text/plain": [
       "{1, 2, 3, 4, 5, 7, 9}"
      ]
     },
     "execution_count": 131,
     "metadata": {},
     "output_type": "execute_result"
    }
   ],
   "source": [
    "set1.union(set2)"
   ]
  },
  {
   "cell_type": "code",
   "execution_count": 132,
   "id": "940ea2b3",
   "metadata": {},
   "outputs": [],
   "source": [
    "set1.update(set2) # updating set1 with set2 elements"
   ]
  },
  {
   "cell_type": "code",
   "execution_count": 133,
   "id": "01862d71",
   "metadata": {},
   "outputs": [
    {
     "data": {
      "text/plain": [
       "{1, 2, 3, 4, 5, 7, 9}"
      ]
     },
     "execution_count": 133,
     "metadata": {},
     "output_type": "execute_result"
    }
   ],
   "source": [
    "set1"
   ]
  },
  {
   "cell_type": "code",
   "execution_count": 134,
   "id": "0e09a27c",
   "metadata": {},
   "outputs": [],
   "source": [
    "set2 = {54,56,57,2,5}"
   ]
  },
  {
   "cell_type": "code",
   "execution_count": 135,
   "id": "bd9bc953",
   "metadata": {},
   "outputs": [
    {
     "name": "stdout",
     "output_type": "stream",
     "text": [
      "set1: {1, 2, 3, 4, 5, 7, 9}\n",
      "set2: {2, 5, 54, 56, 57}\n"
     ]
    }
   ],
   "source": [
    "print(f\"set1: {set1}\")\n",
    "print(f\"set2: {set2}\")"
   ]
  },
  {
   "cell_type": "code",
   "execution_count": 136,
   "id": "75282c9b",
   "metadata": {},
   "outputs": [
    {
     "data": {
      "text/plain": [
       "{1, 3, 4, 7, 9}"
      ]
     },
     "execution_count": 136,
     "metadata": {},
     "output_type": "execute_result"
    }
   ],
   "source": [
    "set1.difference(set2) # remove all the common elements from set1"
   ]
  },
  {
   "cell_type": "code",
   "execution_count": 137,
   "id": "b46f0c2b",
   "metadata": {},
   "outputs": [
    {
     "data": {
      "text/plain": [
       "{54, 56, 57}"
      ]
     },
     "execution_count": 137,
     "metadata": {},
     "output_type": "execute_result"
    }
   ],
   "source": [
    "set2.difference(set1) # remove all the common elements from set2"
   ]
  },
  {
   "cell_type": "code",
   "execution_count": 138,
   "id": "55dc3298",
   "metadata": {},
   "outputs": [],
   "source": [
    "set1 = {1,2,3,4,5}\n",
    "set2 = {2,5}"
   ]
  },
  {
   "cell_type": "code",
   "execution_count": 139,
   "id": "bbef9cfa",
   "metadata": {},
   "outputs": [
    {
     "data": {
      "text/plain": [
       "True"
      ]
     },
     "execution_count": 139,
     "metadata": {},
     "output_type": "execute_result"
    }
   ],
   "source": [
    "set2.issubset(set1)"
   ]
  },
  {
   "cell_type": "code",
   "execution_count": 140,
   "id": "3a8a9c29",
   "metadata": {},
   "outputs": [
    {
     "data": {
      "text/plain": [
       "True"
      ]
     },
     "execution_count": 140,
     "metadata": {},
     "output_type": "execute_result"
    }
   ],
   "source": [
    "set1.issuperset(set2)"
   ]
  },
  {
   "cell_type": "code",
   "execution_count": 141,
   "id": "c6c6ef38",
   "metadata": {},
   "outputs": [],
   "source": [
    "set1 = {1, 2, 3, 4, 5, 7, 9}\n",
    "set2 = {2, 5, 54, 56, 57}"
   ]
  },
  {
   "cell_type": "code",
   "execution_count": 142,
   "id": "f9880c25",
   "metadata": {},
   "outputs": [
    {
     "data": {
      "text/plain": [
       "{2, 5}"
      ]
     },
     "execution_count": 142,
     "metadata": {},
     "output_type": "execute_result"
    }
   ],
   "source": [
    "set1.intersection(set2)"
   ]
  },
  {
   "cell_type": "code",
   "execution_count": 143,
   "id": "31f6f7cc",
   "metadata": {},
   "outputs": [
    {
     "data": {
      "text/plain": [
       "{2, 5}"
      ]
     },
     "execution_count": 143,
     "metadata": {},
     "output_type": "execute_result"
    }
   ],
   "source": [
    "set2.intersection(set1)"
   ]
  },
  {
   "cell_type": "code",
   "execution_count": 144,
   "id": "79285822",
   "metadata": {},
   "outputs": [],
   "source": [
    "set1 = {1,2,3,4}\n",
    "set2 = {7,5,2}"
   ]
  },
  {
   "cell_type": "code",
   "execution_count": 145,
   "id": "6637e33f",
   "metadata": {},
   "outputs": [
    {
     "data": {
      "text/plain": [
       "False"
      ]
     },
     "execution_count": 145,
     "metadata": {},
     "output_type": "execute_result"
    }
   ],
   "source": [
    "set1.isdisjoint(set2)"
   ]
  },
  {
   "cell_type": "code",
   "execution_count": 146,
   "id": "e8472176",
   "metadata": {},
   "outputs": [
    {
     "data": {
      "text/plain": [
       "{1, 2, 3, 4}"
      ]
     },
     "execution_count": 146,
     "metadata": {},
     "output_type": "execute_result"
    }
   ],
   "source": [
    "set1"
   ]
  },
  {
   "cell_type": "code",
   "execution_count": 147,
   "id": "0746e3a7",
   "metadata": {},
   "outputs": [],
   "source": [
    "set1.remove(3)"
   ]
  },
  {
   "cell_type": "code",
   "execution_count": 148,
   "id": "ba4a7e73",
   "metadata": {},
   "outputs": [
    {
     "data": {
      "text/plain": [
       "{1, 2, 4}"
      ]
     },
     "execution_count": 148,
     "metadata": {},
     "output_type": "execute_result"
    }
   ],
   "source": [
    "set1"
   ]
  },
  {
   "cell_type": "code",
   "execution_count": 149,
   "id": "dfb6a607",
   "metadata": {},
   "outputs": [],
   "source": [
    "set1 = {1,2,3,4,5,6,7,8,9}"
   ]
  },
  {
   "cell_type": "code",
   "execution_count": 150,
   "id": "32b0d28a",
   "metadata": {},
   "outputs": [
    {
     "data": {
      "text/plain": [
       "{1, 2, 3, 4, 5, 6, 7, 8, 9}"
      ]
     },
     "execution_count": 150,
     "metadata": {},
     "output_type": "execute_result"
    }
   ],
   "source": [
    "set1"
   ]
  },
  {
   "cell_type": "markdown",
   "id": "dce05856",
   "metadata": {},
   "source": [
    "<!-- conditional statements -->"
   ]
  },
  {
   "cell_type": "markdown",
   "id": "f1e0456b",
   "metadata": {},
   "source": [
    "# conditional statements\n",
    "\n",
    "#### Loops"
   ]
  },
  {
   "cell_type": "code",
   "execution_count": 151,
   "id": "d0e72e96",
   "metadata": {},
   "outputs": [
    {
     "name": "stdout",
     "output_type": "stream",
     "text": [
      "1 2 3 4 5 6 7 8 9 "
     ]
    }
   ],
   "source": [
    "for ele in range(1,10):\n",
    "    print(ele, end=\" \")"
   ]
  },
  {
   "cell_type": "code",
   "execution_count": 152,
   "id": "79f32faf",
   "metadata": {},
   "outputs": [],
   "source": [
    "list1 =[\"pramod\",\"singh\",\"rathod\"]"
   ]
  },
  {
   "cell_type": "code",
   "execution_count": 153,
   "id": "0a9b0aef",
   "metadata": {},
   "outputs": [
    {
     "data": {
      "text/plain": [
       "3"
      ]
     },
     "execution_count": 153,
     "metadata": {},
     "output_type": "execute_result"
    }
   ],
   "source": [
    "len(list1)"
   ]
  },
  {
   "cell_type": "code",
   "execution_count": 154,
   "id": "0c6cf2ca",
   "metadata": {},
   "outputs": [
    {
     "name": "stdout",
     "output_type": "stream",
     "text": [
      "0\n",
      "1\n",
      "2\n"
     ]
    }
   ],
   "source": [
    "for ele in range(len(list1)):\n",
    "    print(ele)"
   ]
  },
  {
   "cell_type": "code",
   "execution_count": 155,
   "id": "5a534e4b",
   "metadata": {},
   "outputs": [
    {
     "name": "stdout",
     "output_type": "stream",
     "text": [
      "pramod\n",
      "singh\n",
      "rathod\n"
     ]
    }
   ],
   "source": [
    "for ele in list1:\n",
    "    print(ele)"
   ]
  },
  {
   "cell_type": "code",
   "execution_count": 156,
   "id": "1cf418ce",
   "metadata": {},
   "outputs": [
    {
     "name": "stdout",
     "output_type": "stream",
     "text": [
      "p\n",
      "r\n",
      "a\n",
      "m\n",
      "o\n",
      "d\n",
      "r\n",
      "a\n",
      "t\n",
      "h\n",
      "o\n",
      "d\n"
     ]
    }
   ],
   "source": [
    "for ele in \"pramodrathod\":\n",
    "    print(ele)"
   ]
  },
  {
   "cell_type": "code",
   "execution_count": 157,
   "id": "1dfbbae1",
   "metadata": {},
   "outputs": [
    {
     "name": "stdout",
     "output_type": "stream",
     "text": [
      "0 p\n",
      "1 r\n",
      "2 a\n",
      "3 m\n",
      "4 o\n",
      "5 d\n",
      "6 r\n",
      "7 a\n",
      "8 t\n",
      "9 h\n",
      "10 o\n",
      "11 d\n"
     ]
    }
   ],
   "source": [
    "# Enumarate = return the tuple of 2 elements(1st=index, 2nd=ele)\n",
    "for idx,ele in enumerate(\"pramodrathod\"):\n",
    "    print(idx,ele)"
   ]
  },
  {
   "cell_type": "code",
   "execution_count": 158,
   "id": "f2dfe280",
   "metadata": {},
   "outputs": [
    {
     "name": "stdout",
     "output_type": "stream",
     "text": [
      "0 pramod\n",
      "1 singh\n",
      "2 rathod\n"
     ]
    }
   ],
   "source": [
    "for idx,ele in enumerate(list1):\n",
    "    print(idx,ele)"
   ]
  },
  {
   "cell_type": "code",
   "execution_count": 159,
   "id": "1958520b",
   "metadata": {},
   "outputs": [
    {
     "data": {
      "text/plain": [
       "('Mango', 'Banana', 'Cherry')"
      ]
     },
     "execution_count": 159,
     "metadata": {},
     "output_type": "execute_result"
    }
   ],
   "source": [
    "tuple1"
   ]
  },
  {
   "cell_type": "code",
   "execution_count": 160,
   "id": "9e43e0b0",
   "metadata": {},
   "outputs": [
    {
     "name": "stdout",
     "output_type": "stream",
     "text": [
      "0 Mango\n",
      "1 Banana\n",
      "2 Cherry\n"
     ]
    }
   ],
   "source": [
    "for idx,ele in enumerate(tuple1):\n",
    "    print(idx,ele)"
   ]
  },
  {
   "cell_type": "code",
   "execution_count": 161,
   "id": "a210a728",
   "metadata": {},
   "outputs": [
    {
     "data": {
      "text/plain": [
       "{1, 2, 3, 4, 5, 6, 7, 8, 9}"
      ]
     },
     "execution_count": 161,
     "metadata": {},
     "output_type": "execute_result"
    }
   ],
   "source": [
    "set1"
   ]
  },
  {
   "cell_type": "code",
   "execution_count": 162,
   "id": "c4f4a67d",
   "metadata": {},
   "outputs": [
    {
     "name": "stdout",
     "output_type": "stream",
     "text": [
      "0 1\n",
      "1 2\n",
      "2 3\n",
      "3 4\n",
      "4 5\n",
      "5 6\n",
      "6 7\n",
      "7 8\n",
      "8 9\n"
     ]
    }
   ],
   "source": [
    "for idx, ele in enumerate(set1):\n",
    "    print(idx, ele)"
   ]
  },
  {
   "cell_type": "code",
   "execution_count": 163,
   "id": "80952bd4",
   "metadata": {},
   "outputs": [
    {
     "name": "stdout",
     "output_type": "stream",
     "text": [
      "1\n",
      "3\n",
      "5\n",
      "7\n",
      "9\n"
     ]
    }
   ],
   "source": [
    "# print only odd elements\n",
    "for ele in set1:\n",
    "    if ele %2 !=0:\n",
    "        print(ele)"
   ]
  },
  {
   "cell_type": "code",
   "execution_count": 164,
   "id": "00ab6b24",
   "metadata": {},
   "outputs": [
    {
     "name": "stdout",
     "output_type": "stream",
     "text": [
      "2\n",
      "4\n",
      "6\n",
      "8\n"
     ]
    }
   ],
   "source": [
    "# print even elements\n",
    "for ele in set1:\n",
    "    if ele %2 ==0:\n",
    "        print(ele)"
   ]
  },
  {
   "cell_type": "code",
   "execution_count": 165,
   "id": "3952af39",
   "metadata": {},
   "outputs": [
    {
     "name": "stdout",
     "output_type": "stream",
     "text": [
      "1 4 9 16 25 36 49 64 81 "
     ]
    }
   ],
   "source": [
    "for ele in set1:\n",
    "    print(ele*ele, end=\" \")"
   ]
  },
  {
   "cell_type": "code",
   "execution_count": null,
   "id": "2cae39a1",
   "metadata": {},
   "outputs": [],
   "source": []
  }
 ],
 "metadata": {
  "kernelspec": {
   "display_name": "Python 3 (ipykernel)",
   "language": "python",
   "name": "python3"
  },
  "language_info": {
   "codemirror_mode": {
    "name": "ipython",
    "version": 3
   },
   "file_extension": ".py",
   "mimetype": "text/x-python",
   "name": "python",
   "nbconvert_exporter": "python",
   "pygments_lexer": "ipython3",
   "version": "3.9.7"
  }
 },
 "nbformat": 4,
 "nbformat_minor": 5
}
